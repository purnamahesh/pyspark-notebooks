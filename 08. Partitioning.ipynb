{
 "cells": [
  {
   "cell_type": "code",
   "execution_count": 1,
   "id": "95942012-b507-481c-8e4d-4f36464319e2",
   "metadata": {},
   "outputs": [],
   "source": [
    "from pyspark.sql import SparkSession\n",
    "from pyspark.sql.types import *\n",
    "from pyspark.sql.functions import *"
   ]
  },
  {
   "cell_type": "code",
   "execution_count": 3,
   "id": "c72cb579-ff8a-44b5-998e-85a47bd5a620",
   "metadata": {},
   "outputs": [],
   "source": [
    "spark = SparkSession.builder.appName('Partitioning').master('local[*]').getOrCreate()"
   ]
  },
  {
   "cell_type": "code",
   "execution_count": 5,
   "id": "f3d25b2d-f091-4d1f-ae7a-c021dcefc353",
   "metadata": {},
   "outputs": [],
   "source": [
    "emp_df = spark.read.csv('HR-Dataset/core_dataset.csv',header=True)"
   ]
  },
  {
   "cell_type": "code",
   "execution_count": 6,
   "id": "9587f535-eee3-4de0-9be3-107d03c593c8",
   "metadata": {},
   "outputs": [
    {
     "name": "stdout",
     "output_type": "stream",
     "text": [
      "+--------------------+\n",
      "|          Department|\n",
      "+--------------------+\n",
      "|               Sales|\n",
      "|   Production       |\n",
      "|       Admin Offices|\n",
      "|    Executive Office|\n",
      "|Software Engineer...|\n",
      "|Software Engineering|\n",
      "|               IT/IS|\n",
      "|                NULL|\n",
      "+--------------------+\n",
      "\n"
     ]
    }
   ],
   "source": [
    "emp_df.select('Department').distinct().show()"
   ]
  },
  {
   "cell_type": "code",
   "execution_count": 7,
   "id": "255ae689-8145-4096-8419-05f540c91037",
   "metadata": {},
   "outputs": [],
   "source": [
    "emp_df = emp_df.withColumn('Department', trim(col('Department')))"
   ]
  },
  {
   "cell_type": "code",
   "execution_count": 8,
   "id": "3a4f15ca-beae-4c0c-b834-72f31a5c748f",
   "metadata": {},
   "outputs": [
    {
     "name": "stdout",
     "output_type": "stream",
     "text": [
      "+--------------------+\n",
      "|          Department|\n",
      "+--------------------+\n",
      "|               Sales|\n",
      "|       Admin Offices|\n",
      "|          Production|\n",
      "|    Executive Office|\n",
      "|Software Engineering|\n",
      "|               IT/IS|\n",
      "|                NULL|\n",
      "+--------------------+\n",
      "\n"
     ]
    }
   ],
   "source": [
    "emp_df.select('Department').distinct().show()"
   ]
  },
  {
   "cell_type": "code",
   "execution_count": 9,
   "id": "ce439e5e-1fa6-488a-bbef-0fd4be2c3c65",
   "metadata": {},
   "outputs": [],
   "source": [
    "emp_df.write.mode('overwrite').\\\n",
    "partitionBy('Department','Position').csv('emp_partitioned_2.csv')"
   ]
  },
  {
   "cell_type": "code",
   "execution_count": 10,
   "id": "3d2c7fae-85f3-4391-a37e-d050888883f6",
   "metadata": {},
   "outputs": [],
   "source": [
    "emp_df2 = spark.read.csv('emp_partitioned_2.csv')"
   ]
  },
  {
   "cell_type": "code",
   "execution_count": 11,
   "id": "8ecc2cec-564e-45bb-ba60-28d31feb0817",
   "metadata": {},
   "outputs": [
    {
     "data": {
      "text/plain": [
       "302"
      ]
     },
     "execution_count": 11,
     "metadata": {},
     "output_type": "execute_result"
    }
   ],
   "source": [
    "emp_df2.count()"
   ]
  },
  {
   "cell_type": "code",
   "execution_count": null,
   "id": "a0e91dc0-faa5-4f4b-9bcd-e4fc9d7bb0c7",
   "metadata": {},
   "outputs": [],
   "source": []
  }
 ],
 "metadata": {
  "kernelspec": {
   "display_name": "Python 3 (ipykernel)",
   "language": "python",
   "name": "python3"
  },
  "language_info": {
   "codemirror_mode": {
    "name": "ipython",
    "version": 3
   },
   "file_extension": ".py",
   "mimetype": "text/x-python",
   "name": "python",
   "nbconvert_exporter": "python",
   "pygments_lexer": "ipython3",
   "version": "3.11.6"
  }
 },
 "nbformat": 4,
 "nbformat_minor": 5
}
