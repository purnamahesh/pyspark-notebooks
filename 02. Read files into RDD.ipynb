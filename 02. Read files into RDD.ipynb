{
 "cells": [
  {
   "cell_type": "code",
   "execution_count": null,
   "id": "6b909153-458f-4a51-bfc4-6053053297cf",
   "metadata": {},
   "outputs": [],
   "source": [
    "from pyspark import SparkContext \n",
    "\n",
    "sc = SparkContext(appName='SC Demo',master='local[*]').getOrCreate()"
   ]
  },
  {
   "cell_type": "markdown",
   "id": "e7584c54-eb6c-4c3d-81b4-c11cfae18656",
   "metadata": {},
   "source": [
    "### Read Text Files"
   ]
  },
  {
   "cell_type": "code",
   "execution_count": null,
   "id": "2f88490a-0ef6-4627-ade5-c9c2ba96d7a0",
   "metadata": {},
   "outputs": [],
   "source": [
    "sc.textFile(\"./sap/,./temp/\").collect()"
   ]
  },
  {
   "cell_type": "code",
   "execution_count": null,
   "id": "84620a10-34be-4519-a0f7-8b4576c5fc6c",
   "metadata": {},
   "outputs": [],
   "source": [
    "sc.wholeTextFiles('./sap*').collect()"
   ]
  },
  {
   "cell_type": "markdown",
   "id": "e79bc3b7-da72-48b8-b080-0322ab518a32",
   "metadata": {},
   "source": [
    "### Read CSV File"
   ]
  },
  {
   "cell_type": "code",
   "execution_count": null,
   "id": "5416a9e5-d8e0-46e6-ba24-d280bdcd81aa",
   "metadata": {},
   "outputs": [],
   "source": [
    "sc.textFile('economic-survey-of-manufacturing-sept-2023-csv.csv').collect()[:10]"
   ]
  },
  {
   "cell_type": "code",
   "execution_count": null,
   "id": "166ee672-8c71-4d0c-8348-45ea2fcc0e8b",
   "metadata": {},
   "outputs": [],
   "source": [
    "sc.textFile('economic-survey-of-manufacturing-sept-2023-csv.csv').map(lambda a: a.split(',')).collect()[:5]"
   ]
  },
  {
   "cell_type": "code",
   "execution_count": null,
   "id": "ff2c3ec5-6d17-42a0-b199-02a0b830ccff",
   "metadata": {},
   "outputs": [],
   "source": []
  },
  {
   "cell_type": "code",
   "execution_count": null,
   "id": "a7e265d0-ede7-421c-842f-bc7114d01ad7",
   "metadata": {},
   "outputs": [],
   "source": []
  }
 ],
 "metadata": {
  "kernelspec": {
   "display_name": "Python 3 (ipykernel)",
   "language": "python",
   "name": "python3"
  },
  "language_info": {
   "codemirror_mode": {
    "name": "ipython",
    "version": 3
   },
   "file_extension": ".py",
   "mimetype": "text/x-python",
   "name": "python",
   "nbconvert_exporter": "python",
   "pygments_lexer": "ipython3",
   "version": "3.11.6"
  }
 },
 "nbformat": 4,
 "nbformat_minor": 5
}
