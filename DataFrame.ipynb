{
 "cells": [
  {
   "cell_type": "code",
   "execution_count": 76,
   "id": "356166be-7fca-4822-b9b5-0a7fc0ac598c",
   "metadata": {},
   "outputs": [],
   "source": [
    "from pyspark.sql import SparkSession\n",
    "from pyspark.sql.types import *\n",
    "from pyspark.sql.functions import col, split"
   ]
  },
  {
   "cell_type": "code",
   "execution_count": 2,
   "id": "6ae29a11-e9cd-45c7-ba78-3c428916481b",
   "metadata": {},
   "outputs": [],
   "source": [
    "spark = SparkSession.builder.appName('Dataframes').master('local[*]').getOrCreate()"
   ]
  },
  {
   "cell_type": "code",
   "execution_count": 14,
   "id": "3cd1a9d9-3625-4d8d-a404-fd341e13fbf4",
   "metadata": {},
   "outputs": [],
   "source": [
    "schema = StructType(\n",
    "    [\n",
    "        StructField('id',IntegerType(),False),\n",
    "        StructField('name',StringType(),True),\n",
    "        StructField('dept',StringType(),True),\n",
    "    ]\n",
    ")"
   ]
  },
  {
   "cell_type": "code",
   "execution_count": 15,
   "id": "47c76a80-12b9-4430-a0cb-7779cdd75e29",
   "metadata": {},
   "outputs": [
    {
     "ename": "SyntaxError",
     "evalue": "invalid syntax (4195466400.py, line 1)",
     "output_type": "error",
     "traceback": [
      "\u001b[0;36m  Cell \u001b[0;32mIn[15], line 1\u001b[0;36m\u001b[0m\n\u001b[0;31m    create table employee (\u001b[0m\n\u001b[0m           ^\u001b[0m\n\u001b[0;31mSyntaxError\u001b[0m\u001b[0;31m:\u001b[0m invalid syntax\n"
     ]
    }
   ],
   "source": [
    "create table employee (\n",
    "    id int NOT NULL,\n",
    "    name string,\n",
    "    dept string\n",
    ")"
   ]
  },
  {
   "cell_type": "code",
   "execution_count": 20,
   "id": "4ccbb8ae-c96d-48f0-8f15-3d07efb44aa9",
   "metadata": {},
   "outputs": [],
   "source": [
    "d = [\n",
    "    {'id':1,'name':'anna','dept':'cse'},\n",
    "    {'id':2,'name':'john','dept':'cse'},\n",
    "    {'id':3,'name':'bob','dept':'cse'},\n",
    "    {'id':4,'name':'alice','dept':'cse'}\n",
    "]"
   ]
  },
  {
   "cell_type": "code",
   "execution_count": 24,
   "id": "fcad71b9-1758-41da-b24c-37fe4aad463a",
   "metadata": {},
   "outputs": [
    {
     "name": "stdout",
     "output_type": "stream",
     "text": [
      "+----+---+-----+\n",
      "|dept| id| name|\n",
      "+----+---+-----+\n",
      "| cse|  1| anna|\n",
      "| cse|  2| john|\n",
      "| cse|  3|  bob|\n",
      "| cse|  4|alice|\n",
      "+----+---+-----+\n",
      "\n"
     ]
    }
   ],
   "source": [
    "spark.createDataFrame(d).show()"
   ]
  },
  {
   "cell_type": "code",
   "execution_count": 29,
   "id": "9d2b3852-814c-4d8f-9fd4-f877fb6b6786",
   "metadata": {},
   "outputs": [
    {
     "ename": "TypeError",
     "evalue": "SparkSession.createDataFrame() got an unexpected keyword argument 'columns'",
     "output_type": "error",
     "traceback": [
      "\u001b[0;31m---------------------------------------------------------------------------\u001b[0m",
      "\u001b[0;31mTypeError\u001b[0m                                 Traceback (most recent call last)",
      "Cell \u001b[0;32mIn[29], line 1\u001b[0m\n\u001b[0;32m----> 1\u001b[0m \u001b[43mspark\u001b[49m\u001b[38;5;241;43m.\u001b[39;49m\u001b[43mcreateDataFrame\u001b[49m\u001b[43m(\u001b[49m\u001b[43m[\u001b[49m\u001b[38;5;241;43m1\u001b[39;49m\u001b[43m,\u001b[49m\u001b[38;5;241;43m2\u001b[39;49m\u001b[43m,\u001b[49m\u001b[38;5;241;43m3\u001b[39;49m\u001b[43m]\u001b[49m\u001b[43m,\u001b[49m\u001b[43mcolumns\u001b[49m\u001b[38;5;241;43m=\u001b[39;49m\u001b[43m[\u001b[49m\u001b[38;5;124;43m'\u001b[39;49m\u001b[38;5;124;43mid\u001b[39;49m\u001b[38;5;124;43m'\u001b[39;49m\u001b[43m,\u001b[49m\u001b[38;5;124;43m'\u001b[39;49m\u001b[38;5;124;43mname\u001b[39;49m\u001b[38;5;124;43m'\u001b[39;49m\u001b[43m,\u001b[49m\u001b[38;5;124;43m'\u001b[39;49m\u001b[38;5;124;43mdept\u001b[39;49m\u001b[38;5;124;43m'\u001b[39;49m\u001b[43m]\u001b[49m\u001b[43m)\u001b[49m\u001b[38;5;241m.\u001b[39mshow()\n",
      "\u001b[0;31mTypeError\u001b[0m: SparkSession.createDataFrame() got an unexpected keyword argument 'columns'"
     ]
    }
   ],
   "source": [
    "spark.createDataFrame([1,2,3]).show()"
   ]
  },
  {
   "cell_type": "markdown",
   "id": "74450500-c0c9-43ce-b9c5-ed587ef8a11b",
   "metadata": {},
   "source": [
    "# reading"
   ]
  },
  {
   "cell_type": "code",
   "execution_count": 31,
   "id": "351c4998-2ab6-44ac-b7cd-195a341921ca",
   "metadata": {},
   "outputs": [
    {
     "name": "stdout",
     "output_type": "stream",
     "text": [
      "+--------------------+---------------+-----+----------+----------+---+------+-----------+-------------------+---------------+--------------------+------------+-------------------+--------------------+--------------------+----------------+--------------------+--------+------------------+--------------------+--------------------+\n",
      "|       Employee Name|Employee Number|State|       Zip|       DOB|Age|   Sex|MaritalDesc|        CitizenDesc|Hispanic/Latino|            RaceDesc|Date of Hire|Date of Termination|     Reason For Term|   Employment Status|      Department|            Position|Pay Rate|      Manager Name|     Employee Source|   Performance Score|\n",
      "+--------------------+---------------+-----+----------+----------+---+------+-----------+-------------------+---------------+--------------------+------------+-------------------+--------------------+--------------------+----------------+--------------------+--------+------------------+--------------------+--------------------+\n",
      "|          Brown, Mia|     1103024456|   MA|     01450|11/24/1985| 32|Female|    Married|         US Citizen|             No|Black or African ...|  10/27/2008|               NULL|N/A - still employed|              Active|   Admin Offices|        Accountant I|   28.50|Brandon R. LeBlanc|  Diversity Job Fair|         Fully Meets|\n",
      "|LaRotonda, William  |     1106026572|   MA|     01460| 4/26/1984| 33|  Male|   Divorced|         US Citizen|             No|Black or African ...|    1/6/2014|               NULL|N/A - still employed|              Active|   Admin Offices|        Accountant I|   23.00|Brandon R. LeBlanc|  Website Banner Ads|         Fully Meets|\n",
      "|    Steans, Tyrone  |     1302053333|   MA|02703     |  9/1/1986| 31|  Male|     Single|         US Citizen|             No|               White|   9/29/2014|               NULL|N/A - still employed|              Active|   Admin Offices|        Accountant I|   29.00|Brandon R. LeBlanc|     Internet Search|         Fully Meets|\n",
      "|     Howard, Estelle|     1211050782|   MA|     02170| 9/16/1985| 32|Female|    Married|         US Citizen|             No|               White|   2/16/2015|          4/15/2015|N/A - still employed|              Active|   Admin Offices|Administrative As...|   21.50|Brandon R. LeBlanc|Pay Per Click - G...|N/A- too early to...|\n",
      "|         Singh, Nan |     1307059817|   MA|02330     | 5/19/1988| 29|Female|     Single|         US Citizen|             No|               White|    5/1/2015|               NULL|N/A - still employed|              Active|   Admin Offices|Administrative As...|   16.56|Brandon R. LeBlanc|  Website Banner Ads|N/A- too early to...|\n",
      "|    Smith, Leigh Ann|     0711007713|   MA|01844     | 6/14/1987| 30|Female|    Married|         US Citizen|             No|               Asian|   9/26/2011|          9/25/2013|       career change|Voluntarily Termi...|   Admin Offices|Administrative As...|   20.50|Brandon R. LeBlanc|  Diversity Job Fair|         Fully Meets|\n",
      "| LeBlanc, Brandon  R|     1102024115|   MA|     01460| 6/10/1984| 33|  Male|    Married|         US Citizen|             No|               White|    1/5/2016|               NULL|N/A - still employed|              Active|   Admin Offices|Shared Services M...|   55.00|        Janet King|         Monster.com|         Fully Meets|\n",
      "|         Quinn, Sean|     1206043417|   MA|     02045| 11/6/1984| 33|  Male|    Married|Eligible NonCitizen|             No|Black or African ...|   2/21/2011|          8/15/2015|       career change|Voluntarily Termi...|   Admin Offices|Shared Services M...|   55.00|        Janet King|  Diversity Job Fair|         Fully Meets|\n",
      "|   Boutwell, Bonalyn|     1307060188|   MA|     02468|  4/4/1987| 30|Female|    Married|         US Citizen|             No|               Asian|   2/16/2015|               NULL|N/A - still employed|              Active|   Admin Offices|      Sr. Accountant|   34.95|Brandon R. LeBlanc|  Diversity Job Fair|        90-day meets|\n",
      "|   Foster-Baker, Amy|     1201031308|   MA|02050     | 4/16/1979| 38|Female|    Married|         US Citizen|             no|               White|    1/5/2009|               NULL|N/A - still employed|              Active|   Admin Offices|      Sr. Accountant|   34.95|Board of Directors|               Other|         Fully Meets|\n",
      "|         King, Janet|     1001495124|   MA|01902     | 9/21/1954| 63|Female|    Married|         US Citizen|            Yes|               White|    7/2/2012|               NULL|N/A - still employed|              Active|Executive Office|     President & CEO|   80.00|Board of Directors|Pay Per Click - G...|         Fully Meets|\n",
      "|    Zamora, Jennifer|     1112030816|   MA|02067     | 8/30/1979| 38|Female|     Single|         US Citizen|             No|               White|   4/10/2010|               NULL|N/A - still employed|              Active|           IT/IS|                 CIO|   65.00|        Janet King|   Employee Referral|         Exceptional|\n",
      "|       Becker, Renee|     1102024056|   MA|02026     |  4/4/1986| 31|Female|     Single|         US Citizen|            Yes|               White|    7/7/2014|          9/12/2015|         performance|Terminated for Cause|           IT/IS|Database Administ...|   43.00|        Simon Roup|Search Engine - G...|         Fully Meets|\n",
      "|       Goble, Taisha|     0905013738|   MA|02127     |10/23/1971| 46|Female|     Single|         US Citizen|             No|               White|   2/16/2015|          3/15/2015|    no-call, no-show|Terminated for Cause|           IT/IS|Database Administ...|   48.50|        Simon Roup|           Glassdoor|         Fully Meets|\n",
      "|   Hernandez, Daniff|     1410071156|   MA|01960     |  8/7/1986| 31|  Male|    Married|         US Citizen|             No|Black or African ...|   2/16/2015|          2/22/2015|    no-call, no-show|Terminated for Cause|           IT/IS|Database Administ...|   40.10|        Simon Roup|   Employee Referral|N/A- too early to...|\n",
      "|       Horton, Jayne|     1105025718|   MA|     02493| 2/21/1984| 33|Female|     Single|         US Citizen|             No|               White|   3/30/2015|               NULL|N/A - still employed|              Active|           IT/IS|Database Administ...|   34.00|        Simon Roup|           Glassdoor|N/A- too early to...|\n",
      "|    Johnson, Noelle |     1003018246|   MA|02301     | 11/7/1986| 31|Female|    Married|         US Citizen|             No|               Asian|    1/5/2015|               NULL|N/A - still employed|    Leave of Absence|           IT/IS|Database Administ...|   40.00|        Simon Roup|           Glassdoor|        90-day meets|\n",
      "|      Murray, Thomas|     1406068403|   TX|78230     |  7/4/1988| 29|  Male|   Divorced|         US Citizen|             No|Black or African ...|  11/10/2014|               NULL|N/A - still employed|              Active|           IT/IS|Database Administ...|   35.50|        Simon Roup|  Diversity Job Fair|         Exceptional|\n",
      "|    Pearson, Randall|     1102023965|   MA|02747     |  9/5/1984| 33|  Male|    Married|         US Citizen|             No|               White|   12/1/2014|           5/1/2016|         performance|Voluntarily Termi...|           IT/IS|Database Administ...|   41.00|        Simon Roup|   Employee Referral|         Fully Meets|\n",
      "|   Petrowsky, Thelma|     1108027853|   MA|     01886| 9/16/1984| 33|Female|    Married|         US Citizen|             No|               Asian|  11/10/2014|               NULL|N/A - still employed|              Active|           IT/IS|Database Administ...|   42.75|        Simon Roup|   Employee Referral|         Exceptional|\n",
      "+--------------------+---------------+-----+----------+----------+---+------+-----------+-------------------+---------------+--------------------+------------+-------------------+--------------------+--------------------+----------------+--------------------+--------+------------------+--------------------+--------------------+\n",
      "only showing top 20 rows\n",
      "\n"
     ]
    }
   ],
   "source": [
    "spark.read.csv('HR-Dataset/core_dataset.csv',header=True).show()"
   ]
  },
  {
   "cell_type": "code",
   "execution_count": 43,
   "id": "3a29426b-fda4-4938-b463-73036ca6a84d",
   "metadata": {},
   "outputs": [
    {
     "data": {
      "text/plain": [
       "[('Employee Name', 'string'),\n",
       " ('Employee Number', 'int'),\n",
       " ('State', 'string'),\n",
       " ('Zip', 'double'),\n",
       " ('DOB', 'string'),\n",
       " ('Age', 'int'),\n",
       " ('Sex', 'string'),\n",
       " ('MaritalDesc', 'string'),\n",
       " ('CitizenDesc', 'string'),\n",
       " ('Hispanic/Latino', 'string'),\n",
       " ('RaceDesc', 'string'),\n",
       " ('Date of Hire', 'string'),\n",
       " ('Date of Termination', 'string'),\n",
       " ('Reason For Term', 'string'),\n",
       " ('Employment Status', 'string'),\n",
       " ('Department', 'string'),\n",
       " ('Position', 'string'),\n",
       " ('Pay Rate', 'double'),\n",
       " ('Manager Name', 'string'),\n",
       " ('Employee Source', 'string'),\n",
       " ('Performance Score', 'string')]"
      ]
     },
     "execution_count": 43,
     "metadata": {},
     "output_type": "execute_result"
    }
   ],
   "source": [
    "spark.read.option('header','true').csv('HR-Dataset/core_dataset.csv',inferSchema=True).dtypes"
   ]
  },
  {
   "cell_type": "code",
   "execution_count": 35,
   "id": "ac707b5e-e05c-4282-80d5-0ba0c2b58522",
   "metadata": {},
   "outputs": [
    {
     "name": "stdout",
     "output_type": "stream",
     "text": [
      "+--------------------+---------------+-----+----------+----------+---+------+-----------+-------------------+---------------+--------------------+------------+-------------------+--------------------+--------------------+----------------+--------------------+--------+------------------+--------------------+--------------------+\n",
      "|       Employee Name|Employee Number|State|       Zip|       DOB|Age|   Sex|MaritalDesc|        CitizenDesc|Hispanic/Latino|            RaceDesc|Date of Hire|Date of Termination|     Reason For Term|   Employment Status|      Department|            Position|Pay Rate|      Manager Name|     Employee Source|   Performance Score|\n",
      "+--------------------+---------------+-----+----------+----------+---+------+-----------+-------------------+---------------+--------------------+------------+-------------------+--------------------+--------------------+----------------+--------------------+--------+------------------+--------------------+--------------------+\n",
      "|          Brown, Mia|     1103024456|   MA|     01450|11/24/1985| 32|Female|    Married|         US Citizen|             No|Black or African ...|  10/27/2008|               NULL|N/A - still employed|              Active|   Admin Offices|        Accountant I|   28.50|Brandon R. LeBlanc|  Diversity Job Fair|         Fully Meets|\n",
      "|LaRotonda, William  |     1106026572|   MA|     01460| 4/26/1984| 33|  Male|   Divorced|         US Citizen|             No|Black or African ...|    1/6/2014|               NULL|N/A - still employed|              Active|   Admin Offices|        Accountant I|   23.00|Brandon R. LeBlanc|  Website Banner Ads|         Fully Meets|\n",
      "|    Steans, Tyrone  |     1302053333|   MA|02703     |  9/1/1986| 31|  Male|     Single|         US Citizen|             No|               White|   9/29/2014|               NULL|N/A - still employed|              Active|   Admin Offices|        Accountant I|   29.00|Brandon R. LeBlanc|     Internet Search|         Fully Meets|\n",
      "|     Howard, Estelle|     1211050782|   MA|     02170| 9/16/1985| 32|Female|    Married|         US Citizen|             No|               White|   2/16/2015|          4/15/2015|N/A - still employed|              Active|   Admin Offices|Administrative As...|   21.50|Brandon R. LeBlanc|Pay Per Click - G...|N/A- too early to...|\n",
      "|         Singh, Nan |     1307059817|   MA|02330     | 5/19/1988| 29|Female|     Single|         US Citizen|             No|               White|    5/1/2015|               NULL|N/A - still employed|              Active|   Admin Offices|Administrative As...|   16.56|Brandon R. LeBlanc|  Website Banner Ads|N/A- too early to...|\n",
      "|    Smith, Leigh Ann|     0711007713|   MA|01844     | 6/14/1987| 30|Female|    Married|         US Citizen|             No|               Asian|   9/26/2011|          9/25/2013|       career change|Voluntarily Termi...|   Admin Offices|Administrative As...|   20.50|Brandon R. LeBlanc|  Diversity Job Fair|         Fully Meets|\n",
      "| LeBlanc, Brandon  R|     1102024115|   MA|     01460| 6/10/1984| 33|  Male|    Married|         US Citizen|             No|               White|    1/5/2016|               NULL|N/A - still employed|              Active|   Admin Offices|Shared Services M...|   55.00|        Janet King|         Monster.com|         Fully Meets|\n",
      "|         Quinn, Sean|     1206043417|   MA|     02045| 11/6/1984| 33|  Male|    Married|Eligible NonCitizen|             No|Black or African ...|   2/21/2011|          8/15/2015|       career change|Voluntarily Termi...|   Admin Offices|Shared Services M...|   55.00|        Janet King|  Diversity Job Fair|         Fully Meets|\n",
      "|   Boutwell, Bonalyn|     1307060188|   MA|     02468|  4/4/1987| 30|Female|    Married|         US Citizen|             No|               Asian|   2/16/2015|               NULL|N/A - still employed|              Active|   Admin Offices|      Sr. Accountant|   34.95|Brandon R. LeBlanc|  Diversity Job Fair|        90-day meets|\n",
      "|   Foster-Baker, Amy|     1201031308|   MA|02050     | 4/16/1979| 38|Female|    Married|         US Citizen|             no|               White|    1/5/2009|               NULL|N/A - still employed|              Active|   Admin Offices|      Sr. Accountant|   34.95|Board of Directors|               Other|         Fully Meets|\n",
      "|         King, Janet|     1001495124|   MA|01902     | 9/21/1954| 63|Female|    Married|         US Citizen|            Yes|               White|    7/2/2012|               NULL|N/A - still employed|              Active|Executive Office|     President & CEO|   80.00|Board of Directors|Pay Per Click - G...|         Fully Meets|\n",
      "|    Zamora, Jennifer|     1112030816|   MA|02067     | 8/30/1979| 38|Female|     Single|         US Citizen|             No|               White|   4/10/2010|               NULL|N/A - still employed|              Active|           IT/IS|                 CIO|   65.00|        Janet King|   Employee Referral|         Exceptional|\n",
      "|       Becker, Renee|     1102024056|   MA|02026     |  4/4/1986| 31|Female|     Single|         US Citizen|            Yes|               White|    7/7/2014|          9/12/2015|         performance|Terminated for Cause|           IT/IS|Database Administ...|   43.00|        Simon Roup|Search Engine - G...|         Fully Meets|\n",
      "|       Goble, Taisha|     0905013738|   MA|02127     |10/23/1971| 46|Female|     Single|         US Citizen|             No|               White|   2/16/2015|          3/15/2015|    no-call, no-show|Terminated for Cause|           IT/IS|Database Administ...|   48.50|        Simon Roup|           Glassdoor|         Fully Meets|\n",
      "|   Hernandez, Daniff|     1410071156|   MA|01960     |  8/7/1986| 31|  Male|    Married|         US Citizen|             No|Black or African ...|   2/16/2015|          2/22/2015|    no-call, no-show|Terminated for Cause|           IT/IS|Database Administ...|   40.10|        Simon Roup|   Employee Referral|N/A- too early to...|\n",
      "|       Horton, Jayne|     1105025718|   MA|     02493| 2/21/1984| 33|Female|     Single|         US Citizen|             No|               White|   3/30/2015|               NULL|N/A - still employed|              Active|           IT/IS|Database Administ...|   34.00|        Simon Roup|           Glassdoor|N/A- too early to...|\n",
      "|    Johnson, Noelle |     1003018246|   MA|02301     | 11/7/1986| 31|Female|    Married|         US Citizen|             No|               Asian|    1/5/2015|               NULL|N/A - still employed|    Leave of Absence|           IT/IS|Database Administ...|   40.00|        Simon Roup|           Glassdoor|        90-day meets|\n",
      "|      Murray, Thomas|     1406068403|   TX|78230     |  7/4/1988| 29|  Male|   Divorced|         US Citizen|             No|Black or African ...|  11/10/2014|               NULL|N/A - still employed|              Active|           IT/IS|Database Administ...|   35.50|        Simon Roup|  Diversity Job Fair|         Exceptional|\n",
      "|    Pearson, Randall|     1102023965|   MA|02747     |  9/5/1984| 33|  Male|    Married|         US Citizen|             No|               White|   12/1/2014|           5/1/2016|         performance|Voluntarily Termi...|           IT/IS|Database Administ...|   41.00|        Simon Roup|   Employee Referral|         Fully Meets|\n",
      "|   Petrowsky, Thelma|     1108027853|   MA|     01886| 9/16/1984| 33|Female|    Married|         US Citizen|             No|               Asian|  11/10/2014|               NULL|N/A - still employed|              Active|           IT/IS|Database Administ...|   42.75|        Simon Roup|   Employee Referral|         Exceptional|\n",
      "+--------------------+---------------+-----+----------+----------+---+------+-----------+-------------------+---------------+--------------------+------------+-------------------+--------------------+--------------------+----------------+--------------------+--------+------------------+--------------------+--------------------+\n",
      "only showing top 20 rows\n",
      "\n"
     ]
    }
   ],
   "source": [
    "spark.read.option('header','true').format('csv').load('./HR-Dataset/core_dataset.csv').show()"
   ]
  },
  {
   "cell_type": "code",
   "execution_count": 44,
   "id": "057a631b-63ff-4d51-8e5f-3d6d238bf3d5",
   "metadata": {},
   "outputs": [
    {
     "data": {
      "text/plain": [
       "[('Employee Name', 'string'),\n",
       " ('Employee Number', 'int'),\n",
       " ('State', 'string'),\n",
       " ('Zip', 'double'),\n",
       " ('DOB', 'string'),\n",
       " ('Age', 'int'),\n",
       " ('Sex', 'string'),\n",
       " ('MaritalDesc', 'string'),\n",
       " ('CitizenDesc', 'string'),\n",
       " ('Hispanic/Latino', 'string'),\n",
       " ('RaceDesc', 'string'),\n",
       " ('Date of Hire', 'string'),\n",
       " ('Date of Termination', 'string'),\n",
       " ('Reason For Term', 'string'),\n",
       " ('Employment Status', 'string'),\n",
       " ('Department', 'string'),\n",
       " ('Position', 'string'),\n",
       " ('Pay Rate', 'double'),\n",
       " ('Manager Name', 'string'),\n",
       " ('Employee Source', 'string'),\n",
       " ('Performance Score', 'string')]"
      ]
     },
     "execution_count": 44,
     "metadata": {},
     "output_type": "execute_result"
    }
   ],
   "source": [
    "spark.read.option('header','true').option('inferSchema','true').format('csv').load('./HR-Dataset/core_dataset.csv').dtypes"
   ]
  },
  {
   "cell_type": "markdown",
   "id": "588c2975-ec05-4325-85ef-a961fd9a14cf",
   "metadata": {},
   "source": [
    "# DataFrame Operations"
   ]
  },
  {
   "cell_type": "code",
   "execution_count": 85,
   "id": "959023aa-b03e-4d02-8228-dca290886230",
   "metadata": {},
   "outputs": [],
   "source": [
    "emp_df = spark.read.option('header','true').option('inferSchema','true').format('csv').load('./HR-Dataset/core_dataset.csv')"
   ]
  },
  {
   "cell_type": "code",
   "execution_count": 64,
   "id": "bdd1bef9-b727-415c-aee9-40432d57f367",
   "metadata": {},
   "outputs": [],
   "source": []
  },
  {
   "cell_type": "code",
   "execution_count": 55,
   "id": "ed9d14c7-833b-4542-9c52-ec0ac0ec5055",
   "metadata": {},
   "outputs": [
    {
     "data": {
      "text/plain": [
       "302"
      ]
     },
     "execution_count": 55,
     "metadata": {},
     "output_type": "execute_result"
    }
   ],
   "source": [
    "emp_df.count()"
   ]
  },
  {
   "cell_type": "code",
   "execution_count": 59,
   "id": "2ed9e670-382c-4869-80e6-155b0357ed30",
   "metadata": {},
   "outputs": [
    {
     "data": {
      "text/plain": [
       "3"
      ]
     },
     "execution_count": 59,
     "metadata": {},
     "output_type": "execute_result"
    }
   ],
   "source": [
    "# where & filter\n",
    "emp_df.where(col('State')=='TX').count()"
   ]
  },
  {
   "cell_type": "code",
   "execution_count": 58,
   "id": "0953a249-72af-4307-9e55-642f829c0af0",
   "metadata": {},
   "outputs": [
    {
     "data": {
      "text/plain": [
       "298"
      ]
     },
     "execution_count": 58,
     "metadata": {},
     "output_type": "execute_result"
    }
   ],
   "source": [
    "emp_df.where(col('State')!='TX').count()"
   ]
  },
  {
   "cell_type": "code",
   "execution_count": 62,
   "id": "df062722-79ce-401f-8fd2-500cda1c3385",
   "metadata": {},
   "outputs": [
    {
     "name": "stdout",
     "output_type": "stream",
     "text": [
      "+---------------+---------------+-----+-------+---------+---+----+-----------+-------------------+---------------+--------------------+------------+-------------------+--------------------+-----------------+----------+--------------------+--------+-------------+------------------+--------------------+\n",
      "|  Employee Name|Employee Number|State|    Zip|      DOB|Age| Sex|MaritalDesc|        CitizenDesc|Hispanic/Latino|            RaceDesc|Date of Hire|Date of Termination|     Reason For Term|Employment Status|Department|            Position|Pay Rate| Manager Name|   Employee Source|   Performance Score|\n",
      "+---------------+---------------+-----+-------+---------+---+----+-----------+-------------------+---------------+--------------------+------------+-------------------+--------------------+-----------------+----------+--------------------+--------+-------------+------------------+--------------------+\n",
      "| Murray, Thomas|     1406068403|   TX|78230.0| 7/4/1988| 29|Male|   Divorced|         US Citizen|             No|Black or African ...|  11/10/2014|               NULL|N/A - still employed|           Active|     IT/IS|Database Administ...|    35.5|   Simon Roup|Diversity Job Fair|         Exceptional|\n",
      "|Martins, Joseph|     1209048771|   TX|78207.0|6/11/1970| 47|Male|     Single|Eligible NonCitizen|             No|Black or African ...|   5/14/2012|               NULL|N/A - still employed|           Active|     Sales|  Area Sales Manager|    56.0|Lynn Daneault| Employee Referral|         Fully Meets|\n",
      "|  McKinzie, Jac|     1209049326|   TX|78789.0| 7/1/1984| 33|Male|    Married|         US Citizen|             No|   Two or more races|    7/6/2016|               NULL|N/A - Has not sta...|     Future Start|     Sales|  Area Sales Manager|    55.0|Lynn Daneault|Website Banner Ads|N/A- too early to...|\n",
      "+---------------+---------------+-----+-------+---------+---+----+-----------+-------------------+---------------+--------------------+------------+-------------------+--------------------+-----------------+----------+--------------------+--------+-------------+------------------+--------------------+\n",
      "\n"
     ]
    }
   ],
   "source": [
    "emp_df.filter(col('State')=='TX').show()"
   ]
  },
  {
   "cell_type": "code",
   "execution_count": 75,
   "id": "fd6d978c-e510-4218-8302-fab53c45ebe9",
   "metadata": {},
   "outputs": [
    {
     "data": {
      "text/plain": [
       "11"
      ]
     },
     "execution_count": 75,
     "metadata": {},
     "output_type": "execute_result"
    }
   ],
   "source": [
    "# select count(*) from emp where Sex='Male' and Age between 25 and 30 and MaritalDesc in ('Single', 'Seperated', 'Divorced')\n",
    "emp_df.where( \n",
    "    (col('Sex')=='Male') & \n",
    "    (col('Age')<=30) & \n",
    "    (col('Age')>=25) & \n",
    "    ((col('MaritalDesc')=='Single') | (col('MaritalDesc')=='Seperated') | (col('MaritalDesc')=='Divorced'))\n",
    ").count()"
   ]
  },
  {
   "cell_type": "markdown",
   "id": "753ac8ff-aa83-430c-aa4c-039e989cd16f",
   "metadata": {},
   "source": [
    "### withColumn"
   ]
  },
  {
   "cell_type": "code",
   "execution_count": 87,
   "id": "ff527b1a-d9d0-4bf8-b03c-415767bc10f9",
   "metadata": {},
   "outputs": [
    {
     "name": "stdout",
     "output_type": "stream",
     "text": [
      "+------------+----------+------------------+----------------+\n",
      "|  First_name| Last_name|      new_pay_rate|      Department|\n",
      "+------------+----------+------------------+----------------+\n",
      "|       Brown|       Mia|             31.35|   Admin Offices|\n",
      "|   LaRotonda| William  |              25.3|   Admin Offices|\n",
      "|      Steans|  Tyrone  |31.900000000000002|   Admin Offices|\n",
      "|      Howard|   Estelle|23.650000000000002|   Admin Offices|\n",
      "|       Singh|      Nan |            18.216|   Admin Offices|\n",
      "|       Smith| Leigh Ann|             22.55|   Admin Offices|\n",
      "|     LeBlanc|Brandon  R| 60.50000000000001|   Admin Offices|\n",
      "|       Quinn|      Sean| 60.50000000000001|   Admin Offices|\n",
      "|    Boutwell|   Bonalyn| 38.44500000000001|   Admin Offices|\n",
      "|Foster-Baker|       Amy| 38.44500000000001|   Admin Offices|\n",
      "|        King|     Janet|              88.0|Executive Office|\n",
      "|      Zamora|  Jennifer|              71.5|           IT/IS|\n",
      "|      Becker|     Renee|47.300000000000004|           IT/IS|\n",
      "|       Goble|    Taisha|             53.35|           IT/IS|\n",
      "|   Hernandez|    Daniff| 44.11000000000001|           IT/IS|\n",
      "|      Horton|     Jayne|37.400000000000006|           IT/IS|\n",
      "|     Johnson|   Noelle |              44.0|           IT/IS|\n",
      "|      Murray|    Thomas|39.050000000000004|           IT/IS|\n",
      "|     Pearson|   Randall|              45.1|           IT/IS|\n",
      "|   Petrowsky|    Thelma|47.025000000000006|           IT/IS|\n",
      "+------------+----------+------------------+----------------+\n",
      "only showing top 20 rows\n",
      "\n"
     ]
    }
   ],
   "source": [
    "emp_df.withColumn('First_name', split(col('Employee Name'),', ').getItem(0)).\\\n",
    "withColumn('Last_name', split(col('Employee Name'),', ').getItem(1)).\\\n",
    "withColumn('new_pay_rate', col('Pay Rate')*1.1 ).\\\n",
    "select('First_name','Last_name','new_pay_rate','Department').show()"
   ]
  },
  {
   "cell_type": "code",
   "execution_count": 88,
   "id": "2b4d4c4e-32f9-42cf-8f34-096fc96c64ec",
   "metadata": {},
   "outputs": [],
   "source": [
    "emp_df = emp_df.withColumn('First_name', split(col('Employee Name'),', ').getItem(0)).\\\n",
    "withColumn('Last_name', split(col('Employee Name'),', ').getItem(1)).\\\n",
    "withColumn('new_pay_rate', col('Pay Rate')*1.1 ).\\\n",
    "select('First_name','Last_name','new_pay_rate','Department')"
   ]
  },
  {
   "cell_type": "code",
   "execution_count": 92,
   "id": "7490ff21-f4c0-44cf-8925-0bcd7d9681f4",
   "metadata": {},
   "outputs": [],
   "source": [
    "emp_df.write.format('csv').mode('append').save('emp_df.csv')"
   ]
  },
  {
   "cell_type": "code",
   "execution_count": 93,
   "id": "22e94f8d-9084-4410-b248-86a9045f04d7",
   "metadata": {},
   "outputs": [
    {
     "data": {
      "text/plain": [
       "604"
      ]
     },
     "execution_count": 93,
     "metadata": {},
     "output_type": "execute_result"
    }
   ],
   "source": [
    "spark.read.csv('emp_df.csv').count()"
   ]
  },
  {
   "cell_type": "code",
   "execution_count": 96,
   "id": "53a03982-995a-4ddc-bd78-d0b8a7d477db",
   "metadata": {},
   "outputs": [],
   "source": [
    "emp_df.write.mode('overwrite').csv('emp_df.csv')"
   ]
  },
  {
   "cell_type": "code",
   "execution_count": 95,
   "id": "7a44cacc-6672-4c82-a97f-941655f053c1",
   "metadata": {},
   "outputs": [
    {
     "data": {
      "text/plain": [
       "302"
      ]
     },
     "execution_count": 95,
     "metadata": {},
     "output_type": "execute_result"
    }
   ],
   "source": [
    "spark.read.csv('emp_df.csv').count()"
   ]
  },
  {
   "cell_type": "code",
   "execution_count": null,
   "id": "58c41776-7760-483a-bbd8-f8b8494e2abc",
   "metadata": {},
   "outputs": [],
   "source": []
  }
 ],
 "metadata": {
  "kernelspec": {
   "display_name": "Python 3 (ipykernel)",
   "language": "python",
   "name": "python3"
  },
  "language_info": {
   "codemirror_mode": {
    "name": "ipython",
    "version": 3
   },
   "file_extension": ".py",
   "mimetype": "text/x-python",
   "name": "python",
   "nbconvert_exporter": "python",
   "pygments_lexer": "ipython3",
   "version": "3.11.6"
  }
 },
 "nbformat": 4,
 "nbformat_minor": 5
}
