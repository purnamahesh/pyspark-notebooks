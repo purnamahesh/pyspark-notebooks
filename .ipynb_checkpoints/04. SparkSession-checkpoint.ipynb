{
 "cells": [
  {
   "cell_type": "code",
   "execution_count": 129,
   "id": "356166be-7fca-4822-b9b5-0a7fc0ac598c",
   "metadata": {},
   "outputs": [],
   "source": [
    "from pyspark.sql import SparkSession\n",
    "from pyspark.sql.types import *\n",
    "from pyspark.sql.functions import col, split, trim, lower, to_date, current_date"
   ]
  },
  {
   "cell_type": "code",
   "execution_count": 2,
   "id": "6ae29a11-e9cd-45c7-ba78-3c428916481b",
   "metadata": {},
   "outputs": [],
   "source": [
    "spark = SparkSession.builder.appName('Dataframes').master('local[*]').getOrCreate()"
   ]
  },
  {
   "cell_type": "code",
   "execution_count": 20,
   "id": "4ccbb8ae-c96d-48f0-8f15-3d07efb44aa9",
   "metadata": {},
   "outputs": [],
   "source": [
    "d = [\n",
    "    {'id':1,'name':'anna','dept':'cse'},\n",
    "    {'id':2,'name':'john','dept':'cse'},\n",
    "    {'id':3,'name':'bob','dept':'cse'},\n",
    "    {'id':4,'name':'alice','dept':'cse'}\n",
    "]"
   ]
  },
  {
   "cell_type": "code",
   "execution_count": 24,
   "id": "fcad71b9-1758-41da-b24c-37fe4aad463a",
   "metadata": {},
   "outputs": [
    {
     "name": "stdout",
     "output_type": "stream",
     "text": [
      "+----+---+-----+\n",
      "|dept| id| name|\n",
      "+----+---+-----+\n",
      "| cse|  1| anna|\n",
      "| cse|  2| john|\n",
      "| cse|  3|  bob|\n",
      "| cse|  4|alice|\n",
      "+----+---+-----+\n",
      "\n"
     ]
    }
   ],
   "source": [
    "spark.createDataFrame(d).show()"
   ]
  },
  {
   "cell_type": "code",
   "execution_count": 103,
   "id": "f9a7dabe-42a7-45ae-b0e3-eea97e30079a",
   "metadata": {},
   "outputs": [],
   "source": []
  },
  {
   "cell_type": "code",
   "execution_count": 104,
   "id": "18a225c9-e827-4e92-97f8-17aff711266b",
   "metadata": {},
   "outputs": [],
   "source": [
    "schema = StructType(\n",
    "    [\n",
    "        StructField('id',IntegerType(),False),\n",
    "        StructField('name',StringType(),True),\n",
    "        StructField('dept',StringType(),True),\n",
    "    ]\n",
    ")"
   ]
  },
  {
   "cell_type": "code",
   "execution_count": 132,
   "id": "f16fb871-0e4b-45c6-b0fe-1f190080915a",
   "metadata": {},
   "outputs": [],
   "source": [
    "emp_df = emp_df.withColumn('date_of_birth',\n",
    "    to_date(col('DOB'), 'D/m/y')\n",
    ").withColumn(\n",
    "    'age', current_date() - to_date(col('DOB'), 'D/m/y')\n",
    ")"
   ]
  },
  {
   "cell_type": "code",
   "execution_count": 128,
   "id": "3ee550ab-83f0-4688-9d7e-ba56b853863d",
   "metadata": {},
   "outputs": [
    {
     "name": "stdout",
     "output_type": "stream",
     "text": [
      "+--------------+\n",
      "|current_date()|\n",
      "+--------------+\n",
      "|    2023-12-20|\n",
      "+--------------+\n",
      "\n"
     ]
    }
   ],
   "source": [
    "spark.sql('''\n",
    "select current_date()\n",
    "''').show()"
   ]
  },
  {
   "cell_type": "code",
   "execution_count": null,
   "id": "f4952309-b3a9-44fa-9a11-b455d6cb910d",
   "metadata": {},
   "outputs": [],
   "source": []
  },
  {
   "cell_type": "code",
   "execution_count": null,
   "id": "9eede3fc-c0d0-438b-a7e2-8f8d534c6fe1",
   "metadata": {},
   "outputs": [],
   "source": []
  }
 ],
 "metadata": {
  "kernelspec": {
   "display_name": "Python 3 (ipykernel)",
   "language": "python",
   "name": "python3"
  },
  "language_info": {
   "codemirror_mode": {
    "name": "ipython",
    "version": 3
   },
   "file_extension": ".py",
   "mimetype": "text/x-python",
   "name": "python",
   "nbconvert_exporter": "python",
   "pygments_lexer": "ipython3",
   "version": "3.11.6"
  }
 },
 "nbformat": 4,
 "nbformat_minor": 5
}
