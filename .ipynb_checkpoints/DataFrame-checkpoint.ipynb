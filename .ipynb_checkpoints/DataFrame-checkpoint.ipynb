{
 "cells": [
  {
   "cell_type": "code",
   "execution_count": 129,
   "id": "356166be-7fca-4822-b9b5-0a7fc0ac598c",
   "metadata": {},
   "outputs": [],
   "source": [
    "from pyspark.sql import SparkSession\n",
    "from pyspark.sql.types import *\n",
    "from pyspark.sql.functions import col, split, trim, lower, to_date, current_date"
   ]
  },
  {
   "cell_type": "code",
   "execution_count": null,
   "id": "9eeb0016-e2d2-40c1-8049-c276f2bd70f9",
   "metadata": {},
   "outputs": [],
   "source": []
  },
  {
   "cell_type": "code",
   "execution_count": 2,
   "id": "6ae29a11-e9cd-45c7-ba78-3c428916481b",
   "metadata": {},
   "outputs": [],
   "source": [
    "spark = SparkSession.builder.appName('Dataframes').master('local[*]').getOrCreate()"
   ]
  },
  {
   "cell_type": "code",
   "execution_count": 14,
   "id": "3cd1a9d9-3625-4d8d-a404-fd341e13fbf4",
   "metadata": {},
   "outputs": [],
   "source": []
  },
  {
   "cell_type": "code",
   "execution_count": 15,
   "id": "47c76a80-12b9-4430-a0cb-7779cdd75e29",
   "metadata": {},
   "outputs": [
    {
     "ename": "SyntaxError",
     "evalue": "invalid syntax (4195466400.py, line 1)",
     "output_type": "error",
     "traceback": [
      "\u001b[0;36m  Cell \u001b[0;32mIn[15], line 1\u001b[0;36m\u001b[0m\n\u001b[0;31m    create table employee (\u001b[0m\n\u001b[0m           ^\u001b[0m\n\u001b[0;31mSyntaxError\u001b[0m\u001b[0;31m:\u001b[0m invalid syntax\n"
     ]
    }
   ],
   "source": [
    "# create table employee (\n",
    "#     id int NOT NULL,\n",
    "#     name string,\n",
    "#     dept string\n",
    "# )"
   ]
  },
  {
   "cell_type": "code",
   "execution_count": 20,
   "id": "4ccbb8ae-c96d-48f0-8f15-3d07efb44aa9",
   "metadata": {},
   "outputs": [],
   "source": [
    "d = [\n",
    "    {'id':1,'name':'anna','dept':'cse'},\n",
    "    {'id':2,'name':'john','dept':'cse'},\n",
    "    {'id':3,'name':'bob','dept':'cse'},\n",
    "    {'id':4,'name':'alice','dept':'cse'}\n",
    "]"
   ]
  },
  {
   "cell_type": "code",
   "execution_count": 24,
   "id": "fcad71b9-1758-41da-b24c-37fe4aad463a",
   "metadata": {},
   "outputs": [
    {
     "name": "stdout",
     "output_type": "stream",
     "text": [
      "+----+---+-----+\n",
      "|dept| id| name|\n",
      "+----+---+-----+\n",
      "| cse|  1| anna|\n",
      "| cse|  2| john|\n",
      "| cse|  3|  bob|\n",
      "| cse|  4|alice|\n",
      "+----+---+-----+\n",
      "\n"
     ]
    }
   ],
   "source": [
    "spark.createDataFrame(d).show()"
   ]
  },
  {
   "cell_type": "code",
   "execution_count": 29,
   "id": "9d2b3852-814c-4d8f-9fd4-f877fb6b6786",
   "metadata": {},
   "outputs": [
    {
     "ename": "TypeError",
     "evalue": "SparkSession.createDataFrame() got an unexpected keyword argument 'columns'",
     "output_type": "error",
     "traceback": [
      "\u001b[0;31m---------------------------------------------------------------------------\u001b[0m",
      "\u001b[0;31mTypeError\u001b[0m                                 Traceback (most recent call last)",
      "Cell \u001b[0;32mIn[29], line 1\u001b[0m\n\u001b[0;32m----> 1\u001b[0m \u001b[43mspark\u001b[49m\u001b[38;5;241;43m.\u001b[39;49m\u001b[43mcreateDataFrame\u001b[49m\u001b[43m(\u001b[49m\u001b[43m[\u001b[49m\u001b[38;5;241;43m1\u001b[39;49m\u001b[43m,\u001b[49m\u001b[38;5;241;43m2\u001b[39;49m\u001b[43m,\u001b[49m\u001b[38;5;241;43m3\u001b[39;49m\u001b[43m]\u001b[49m\u001b[43m,\u001b[49m\u001b[43mcolumns\u001b[49m\u001b[38;5;241;43m=\u001b[39;49m\u001b[43m[\u001b[49m\u001b[38;5;124;43m'\u001b[39;49m\u001b[38;5;124;43mid\u001b[39;49m\u001b[38;5;124;43m'\u001b[39;49m\u001b[43m,\u001b[49m\u001b[38;5;124;43m'\u001b[39;49m\u001b[38;5;124;43mname\u001b[39;49m\u001b[38;5;124;43m'\u001b[39;49m\u001b[43m,\u001b[49m\u001b[38;5;124;43m'\u001b[39;49m\u001b[38;5;124;43mdept\u001b[39;49m\u001b[38;5;124;43m'\u001b[39;49m\u001b[43m]\u001b[49m\u001b[43m)\u001b[49m\u001b[38;5;241m.\u001b[39mshow()\n",
      "\u001b[0;31mTypeError\u001b[0m: SparkSession.createDataFrame() got an unexpected keyword argument 'columns'"
     ]
    }
   ],
   "source": [
    "spark.createDataFrame([1,2,3]).show()"
   ]
  },
  {
   "cell_type": "markdown",
   "id": "74450500-c0c9-43ce-b9c5-ed587ef8a11b",
   "metadata": {},
   "source": [
    "# reading"
   ]
  },
  {
   "cell_type": "code",
   "execution_count": 31,
   "id": "351c4998-2ab6-44ac-b7cd-195a341921ca",
   "metadata": {},
   "outputs": [
    {
     "name": "stdout",
     "output_type": "stream",
     "text": [
      "+--------------------+---------------+-----+----------+----------+---+------+-----------+-------------------+---------------+--------------------+------------+-------------------+--------------------+--------------------+----------------+--------------------+--------+------------------+--------------------+--------------------+\n",
      "|       Employee Name|Employee Number|State|       Zip|       DOB|Age|   Sex|MaritalDesc|        CitizenDesc|Hispanic/Latino|            RaceDesc|Date of Hire|Date of Termination|     Reason For Term|   Employment Status|      Department|            Position|Pay Rate|      Manager Name|     Employee Source|   Performance Score|\n",
      "+--------------------+---------------+-----+----------+----------+---+------+-----------+-------------------+---------------+--------------------+------------+-------------------+--------------------+--------------------+----------------+--------------------+--------+------------------+--------------------+--------------------+\n",
      "|          Brown, Mia|     1103024456|   MA|     01450|11/24/1985| 32|Female|    Married|         US Citizen|             No|Black or African ...|  10/27/2008|               NULL|N/A - still employed|              Active|   Admin Offices|        Accountant I|   28.50|Brandon R. LeBlanc|  Diversity Job Fair|         Fully Meets|\n",
      "|LaRotonda, William  |     1106026572|   MA|     01460| 4/26/1984| 33|  Male|   Divorced|         US Citizen|             No|Black or African ...|    1/6/2014|               NULL|N/A - still employed|              Active|   Admin Offices|        Accountant I|   23.00|Brandon R. LeBlanc|  Website Banner Ads|         Fully Meets|\n",
      "|    Steans, Tyrone  |     1302053333|   MA|02703     |  9/1/1986| 31|  Male|     Single|         US Citizen|             No|               White|   9/29/2014|               NULL|N/A - still employed|              Active|   Admin Offices|        Accountant I|   29.00|Brandon R. LeBlanc|     Internet Search|         Fully Meets|\n",
      "|     Howard, Estelle|     1211050782|   MA|     02170| 9/16/1985| 32|Female|    Married|         US Citizen|             No|               White|   2/16/2015|          4/15/2015|N/A - still employed|              Active|   Admin Offices|Administrative As...|   21.50|Brandon R. LeBlanc|Pay Per Click - G...|N/A- too early to...|\n",
      "|         Singh, Nan |     1307059817|   MA|02330     | 5/19/1988| 29|Female|     Single|         US Citizen|             No|               White|    5/1/2015|               NULL|N/A - still employed|              Active|   Admin Offices|Administrative As...|   16.56|Brandon R. LeBlanc|  Website Banner Ads|N/A- too early to...|\n",
      "|    Smith, Leigh Ann|     0711007713|   MA|01844     | 6/14/1987| 30|Female|    Married|         US Citizen|             No|               Asian|   9/26/2011|          9/25/2013|       career change|Voluntarily Termi...|   Admin Offices|Administrative As...|   20.50|Brandon R. LeBlanc|  Diversity Job Fair|         Fully Meets|\n",
      "| LeBlanc, Brandon  R|     1102024115|   MA|     01460| 6/10/1984| 33|  Male|    Married|         US Citizen|             No|               White|    1/5/2016|               NULL|N/A - still employed|              Active|   Admin Offices|Shared Services M...|   55.00|        Janet King|         Monster.com|         Fully Meets|\n",
      "|         Quinn, Sean|     1206043417|   MA|     02045| 11/6/1984| 33|  Male|    Married|Eligible NonCitizen|             No|Black or African ...|   2/21/2011|          8/15/2015|       career change|Voluntarily Termi...|   Admin Offices|Shared Services M...|   55.00|        Janet King|  Diversity Job Fair|         Fully Meets|\n",
      "|   Boutwell, Bonalyn|     1307060188|   MA|     02468|  4/4/1987| 30|Female|    Married|         US Citizen|             No|               Asian|   2/16/2015|               NULL|N/A - still employed|              Active|   Admin Offices|      Sr. Accountant|   34.95|Brandon R. LeBlanc|  Diversity Job Fair|        90-day meets|\n",
      "|   Foster-Baker, Amy|     1201031308|   MA|02050     | 4/16/1979| 38|Female|    Married|         US Citizen|             no|               White|    1/5/2009|               NULL|N/A - still employed|              Active|   Admin Offices|      Sr. Accountant|   34.95|Board of Directors|               Other|         Fully Meets|\n",
      "|         King, Janet|     1001495124|   MA|01902     | 9/21/1954| 63|Female|    Married|         US Citizen|            Yes|               White|    7/2/2012|               NULL|N/A - still employed|              Active|Executive Office|     President & CEO|   80.00|Board of Directors|Pay Per Click - G...|         Fully Meets|\n",
      "|    Zamora, Jennifer|     1112030816|   MA|02067     | 8/30/1979| 38|Female|     Single|         US Citizen|             No|               White|   4/10/2010|               NULL|N/A - still employed|              Active|           IT/IS|                 CIO|   65.00|        Janet King|   Employee Referral|         Exceptional|\n",
      "|       Becker, Renee|     1102024056|   MA|02026     |  4/4/1986| 31|Female|     Single|         US Citizen|            Yes|               White|    7/7/2014|          9/12/2015|         performance|Terminated for Cause|           IT/IS|Database Administ...|   43.00|        Simon Roup|Search Engine - G...|         Fully Meets|\n",
      "|       Goble, Taisha|     0905013738|   MA|02127     |10/23/1971| 46|Female|     Single|         US Citizen|             No|               White|   2/16/2015|          3/15/2015|    no-call, no-show|Terminated for Cause|           IT/IS|Database Administ...|   48.50|        Simon Roup|           Glassdoor|         Fully Meets|\n",
      "|   Hernandez, Daniff|     1410071156|   MA|01960     |  8/7/1986| 31|  Male|    Married|         US Citizen|             No|Black or African ...|   2/16/2015|          2/22/2015|    no-call, no-show|Terminated for Cause|           IT/IS|Database Administ...|   40.10|        Simon Roup|   Employee Referral|N/A- too early to...|\n",
      "|       Horton, Jayne|     1105025718|   MA|     02493| 2/21/1984| 33|Female|     Single|         US Citizen|             No|               White|   3/30/2015|               NULL|N/A - still employed|              Active|           IT/IS|Database Administ...|   34.00|        Simon Roup|           Glassdoor|N/A- too early to...|\n",
      "|    Johnson, Noelle |     1003018246|   MA|02301     | 11/7/1986| 31|Female|    Married|         US Citizen|             No|               Asian|    1/5/2015|               NULL|N/A - still employed|    Leave of Absence|           IT/IS|Database Administ...|   40.00|        Simon Roup|           Glassdoor|        90-day meets|\n",
      "|      Murray, Thomas|     1406068403|   TX|78230     |  7/4/1988| 29|  Male|   Divorced|         US Citizen|             No|Black or African ...|  11/10/2014|               NULL|N/A - still employed|              Active|           IT/IS|Database Administ...|   35.50|        Simon Roup|  Diversity Job Fair|         Exceptional|\n",
      "|    Pearson, Randall|     1102023965|   MA|02747     |  9/5/1984| 33|  Male|    Married|         US Citizen|             No|               White|   12/1/2014|           5/1/2016|         performance|Voluntarily Termi...|           IT/IS|Database Administ...|   41.00|        Simon Roup|   Employee Referral|         Fully Meets|\n",
      "|   Petrowsky, Thelma|     1108027853|   MA|     01886| 9/16/1984| 33|Female|    Married|         US Citizen|             No|               Asian|  11/10/2014|               NULL|N/A - still employed|              Active|           IT/IS|Database Administ...|   42.75|        Simon Roup|   Employee Referral|         Exceptional|\n",
      "+--------------------+---------------+-----+----------+----------+---+------+-----------+-------------------+---------------+--------------------+------------+-------------------+--------------------+--------------------+----------------+--------------------+--------+------------------+--------------------+--------------------+\n",
      "only showing top 20 rows\n",
      "\n"
     ]
    }
   ],
   "source": [
    "spark.read.csv('HR-Dataset/core_dataset.csv',header=True).show()"
   ]
  },
  {
   "cell_type": "code",
   "execution_count": 43,
   "id": "3a29426b-fda4-4938-b463-73036ca6a84d",
   "metadata": {},
   "outputs": [
    {
     "data": {
      "text/plain": [
       "[('Employee Name', 'string'),\n",
       " ('Employee Number', 'int'),\n",
       " ('State', 'string'),\n",
       " ('Zip', 'double'),\n",
       " ('DOB', 'string'),\n",
       " ('Age', 'int'),\n",
       " ('Sex', 'string'),\n",
       " ('MaritalDesc', 'string'),\n",
       " ('CitizenDesc', 'string'),\n",
       " ('Hispanic/Latino', 'string'),\n",
       " ('RaceDesc', 'string'),\n",
       " ('Date of Hire', 'string'),\n",
       " ('Date of Termination', 'string'),\n",
       " ('Reason For Term', 'string'),\n",
       " ('Employment Status', 'string'),\n",
       " ('Department', 'string'),\n",
       " ('Position', 'string'),\n",
       " ('Pay Rate', 'double'),\n",
       " ('Manager Name', 'string'),\n",
       " ('Employee Source', 'string'),\n",
       " ('Performance Score', 'string')]"
      ]
     },
     "execution_count": 43,
     "metadata": {},
     "output_type": "execute_result"
    }
   ],
   "source": [
    "spark.read.option('header','true').csv('HR-Dataset/core_dataset.csv',inferSchema=True).dtypes"
   ]
  },
  {
   "cell_type": "code",
   "execution_count": 35,
   "id": "ac707b5e-e05c-4282-80d5-0ba0c2b58522",
   "metadata": {},
   "outputs": [
    {
     "name": "stdout",
     "output_type": "stream",
     "text": [
      "+--------------------+---------------+-----+----------+----------+---+------+-----------+-------------------+---------------+--------------------+------------+-------------------+--------------------+--------------------+----------------+--------------------+--------+------------------+--------------------+--------------------+\n",
      "|       Employee Name|Employee Number|State|       Zip|       DOB|Age|   Sex|MaritalDesc|        CitizenDesc|Hispanic/Latino|            RaceDesc|Date of Hire|Date of Termination|     Reason For Term|   Employment Status|      Department|            Position|Pay Rate|      Manager Name|     Employee Source|   Performance Score|\n",
      "+--------------------+---------------+-----+----------+----------+---+------+-----------+-------------------+---------------+--------------------+------------+-------------------+--------------------+--------------------+----------------+--------------------+--------+------------------+--------------------+--------------------+\n",
      "|          Brown, Mia|     1103024456|   MA|     01450|11/24/1985| 32|Female|    Married|         US Citizen|             No|Black or African ...|  10/27/2008|               NULL|N/A - still employed|              Active|   Admin Offices|        Accountant I|   28.50|Brandon R. LeBlanc|  Diversity Job Fair|         Fully Meets|\n",
      "|LaRotonda, William  |     1106026572|   MA|     01460| 4/26/1984| 33|  Male|   Divorced|         US Citizen|             No|Black or African ...|    1/6/2014|               NULL|N/A - still employed|              Active|   Admin Offices|        Accountant I|   23.00|Brandon R. LeBlanc|  Website Banner Ads|         Fully Meets|\n",
      "|    Steans, Tyrone  |     1302053333|   MA|02703     |  9/1/1986| 31|  Male|     Single|         US Citizen|             No|               White|   9/29/2014|               NULL|N/A - still employed|              Active|   Admin Offices|        Accountant I|   29.00|Brandon R. LeBlanc|     Internet Search|         Fully Meets|\n",
      "|     Howard, Estelle|     1211050782|   MA|     02170| 9/16/1985| 32|Female|    Married|         US Citizen|             No|               White|   2/16/2015|          4/15/2015|N/A - still employed|              Active|   Admin Offices|Administrative As...|   21.50|Brandon R. LeBlanc|Pay Per Click - G...|N/A- too early to...|\n",
      "|         Singh, Nan |     1307059817|   MA|02330     | 5/19/1988| 29|Female|     Single|         US Citizen|             No|               White|    5/1/2015|               NULL|N/A - still employed|              Active|   Admin Offices|Administrative As...|   16.56|Brandon R. LeBlanc|  Website Banner Ads|N/A- too early to...|\n",
      "|    Smith, Leigh Ann|     0711007713|   MA|01844     | 6/14/1987| 30|Female|    Married|         US Citizen|             No|               Asian|   9/26/2011|          9/25/2013|       career change|Voluntarily Termi...|   Admin Offices|Administrative As...|   20.50|Brandon R. LeBlanc|  Diversity Job Fair|         Fully Meets|\n",
      "| LeBlanc, Brandon  R|     1102024115|   MA|     01460| 6/10/1984| 33|  Male|    Married|         US Citizen|             No|               White|    1/5/2016|               NULL|N/A - still employed|              Active|   Admin Offices|Shared Services M...|   55.00|        Janet King|         Monster.com|         Fully Meets|\n",
      "|         Quinn, Sean|     1206043417|   MA|     02045| 11/6/1984| 33|  Male|    Married|Eligible NonCitizen|             No|Black or African ...|   2/21/2011|          8/15/2015|       career change|Voluntarily Termi...|   Admin Offices|Shared Services M...|   55.00|        Janet King|  Diversity Job Fair|         Fully Meets|\n",
      "|   Boutwell, Bonalyn|     1307060188|   MA|     02468|  4/4/1987| 30|Female|    Married|         US Citizen|             No|               Asian|   2/16/2015|               NULL|N/A - still employed|              Active|   Admin Offices|      Sr. Accountant|   34.95|Brandon R. LeBlanc|  Diversity Job Fair|        90-day meets|\n",
      "|   Foster-Baker, Amy|     1201031308|   MA|02050     | 4/16/1979| 38|Female|    Married|         US Citizen|             no|               White|    1/5/2009|               NULL|N/A - still employed|              Active|   Admin Offices|      Sr. Accountant|   34.95|Board of Directors|               Other|         Fully Meets|\n",
      "|         King, Janet|     1001495124|   MA|01902     | 9/21/1954| 63|Female|    Married|         US Citizen|            Yes|               White|    7/2/2012|               NULL|N/A - still employed|              Active|Executive Office|     President & CEO|   80.00|Board of Directors|Pay Per Click - G...|         Fully Meets|\n",
      "|    Zamora, Jennifer|     1112030816|   MA|02067     | 8/30/1979| 38|Female|     Single|         US Citizen|             No|               White|   4/10/2010|               NULL|N/A - still employed|              Active|           IT/IS|                 CIO|   65.00|        Janet King|   Employee Referral|         Exceptional|\n",
      "|       Becker, Renee|     1102024056|   MA|02026     |  4/4/1986| 31|Female|     Single|         US Citizen|            Yes|               White|    7/7/2014|          9/12/2015|         performance|Terminated for Cause|           IT/IS|Database Administ...|   43.00|        Simon Roup|Search Engine - G...|         Fully Meets|\n",
      "|       Goble, Taisha|     0905013738|   MA|02127     |10/23/1971| 46|Female|     Single|         US Citizen|             No|               White|   2/16/2015|          3/15/2015|    no-call, no-show|Terminated for Cause|           IT/IS|Database Administ...|   48.50|        Simon Roup|           Glassdoor|         Fully Meets|\n",
      "|   Hernandez, Daniff|     1410071156|   MA|01960     |  8/7/1986| 31|  Male|    Married|         US Citizen|             No|Black or African ...|   2/16/2015|          2/22/2015|    no-call, no-show|Terminated for Cause|           IT/IS|Database Administ...|   40.10|        Simon Roup|   Employee Referral|N/A- too early to...|\n",
      "|       Horton, Jayne|     1105025718|   MA|     02493| 2/21/1984| 33|Female|     Single|         US Citizen|             No|               White|   3/30/2015|               NULL|N/A - still employed|              Active|           IT/IS|Database Administ...|   34.00|        Simon Roup|           Glassdoor|N/A- too early to...|\n",
      "|    Johnson, Noelle |     1003018246|   MA|02301     | 11/7/1986| 31|Female|    Married|         US Citizen|             No|               Asian|    1/5/2015|               NULL|N/A - still employed|    Leave of Absence|           IT/IS|Database Administ...|   40.00|        Simon Roup|           Glassdoor|        90-day meets|\n",
      "|      Murray, Thomas|     1406068403|   TX|78230     |  7/4/1988| 29|  Male|   Divorced|         US Citizen|             No|Black or African ...|  11/10/2014|               NULL|N/A - still employed|              Active|           IT/IS|Database Administ...|   35.50|        Simon Roup|  Diversity Job Fair|         Exceptional|\n",
      "|    Pearson, Randall|     1102023965|   MA|02747     |  9/5/1984| 33|  Male|    Married|         US Citizen|             No|               White|   12/1/2014|           5/1/2016|         performance|Voluntarily Termi...|           IT/IS|Database Administ...|   41.00|        Simon Roup|   Employee Referral|         Fully Meets|\n",
      "|   Petrowsky, Thelma|     1108027853|   MA|     01886| 9/16/1984| 33|Female|    Married|         US Citizen|             No|               Asian|  11/10/2014|               NULL|N/A - still employed|              Active|           IT/IS|Database Administ...|   42.75|        Simon Roup|   Employee Referral|         Exceptional|\n",
      "+--------------------+---------------+-----+----------+----------+---+------+-----------+-------------------+---------------+--------------------+------------+-------------------+--------------------+--------------------+----------------+--------------------+--------+------------------+--------------------+--------------------+\n",
      "only showing top 20 rows\n",
      "\n"
     ]
    }
   ],
   "source": [
    "spark.read.option('header','true').format('csv').load('./HR-Dataset/core_dataset.csv').show()"
   ]
  },
  {
   "cell_type": "code",
   "execution_count": 44,
   "id": "057a631b-63ff-4d51-8e5f-3d6d238bf3d5",
   "metadata": {},
   "outputs": [
    {
     "data": {
      "text/plain": [
       "[('Employee Name', 'string'),\n",
       " ('Employee Number', 'int'),\n",
       " ('State', 'string'),\n",
       " ('Zip', 'double'),\n",
       " ('DOB', 'string'),\n",
       " ('Age', 'int'),\n",
       " ('Sex', 'string'),\n",
       " ('MaritalDesc', 'string'),\n",
       " ('CitizenDesc', 'string'),\n",
       " ('Hispanic/Latino', 'string'),\n",
       " ('RaceDesc', 'string'),\n",
       " ('Date of Hire', 'string'),\n",
       " ('Date of Termination', 'string'),\n",
       " ('Reason For Term', 'string'),\n",
       " ('Employment Status', 'string'),\n",
       " ('Department', 'string'),\n",
       " ('Position', 'string'),\n",
       " ('Pay Rate', 'double'),\n",
       " ('Manager Name', 'string'),\n",
       " ('Employee Source', 'string'),\n",
       " ('Performance Score', 'string')]"
      ]
     },
     "execution_count": 44,
     "metadata": {},
     "output_type": "execute_result"
    }
   ],
   "source": [
    "spark.read.option('header','true').option('inferSchema','true').format('csv').load('./HR-Dataset/core_dataset.csv').dtypes"
   ]
  },
  {
   "cell_type": "markdown",
   "id": "588c2975-ec05-4325-85ef-a961fd9a14cf",
   "metadata": {},
   "source": [
    "# DataFrame Operations"
   ]
  },
  {
   "cell_type": "code",
   "execution_count": 24,
   "id": "959023aa-b03e-4d02-8228-dca290886230",
   "metadata": {},
   "outputs": [],
   "source": [
    "emp_df = spark.read.option('header','true').option('inferSchema','true').format('csv').load('./HR-Dataset/core_dataset.csv')"
   ]
  },
  {
   "cell_type": "code",
   "execution_count": 64,
   "id": "bdd1bef9-b727-415c-aee9-40432d57f367",
   "metadata": {},
   "outputs": [],
   "source": []
  },
  {
   "cell_type": "code",
   "execution_count": 55,
   "id": "ed9d14c7-833b-4542-9c52-ec0ac0ec5055",
   "metadata": {},
   "outputs": [
    {
     "data": {
      "text/plain": [
       "302"
      ]
     },
     "execution_count": 55,
     "metadata": {},
     "output_type": "execute_result"
    }
   ],
   "source": [
    "emp_df.count()"
   ]
  },
  {
   "cell_type": "code",
   "execution_count": 59,
   "id": "2ed9e670-382c-4869-80e6-155b0357ed30",
   "metadata": {},
   "outputs": [
    {
     "data": {
      "text/plain": [
       "3"
      ]
     },
     "execution_count": 59,
     "metadata": {},
     "output_type": "execute_result"
    }
   ],
   "source": [
    "# where & filter\n",
    "emp_df.where(col('State')=='TX').count()"
   ]
  },
  {
   "cell_type": "code",
   "execution_count": 58,
   "id": "0953a249-72af-4307-9e55-642f829c0af0",
   "metadata": {},
   "outputs": [
    {
     "data": {
      "text/plain": [
       "298"
      ]
     },
     "execution_count": 58,
     "metadata": {},
     "output_type": "execute_result"
    }
   ],
   "source": [
    "emp_df.where(col('State')!='TX').count()"
   ]
  },
  {
   "cell_type": "code",
   "execution_count": 62,
   "id": "df062722-79ce-401f-8fd2-500cda1c3385",
   "metadata": {},
   "outputs": [
    {
     "name": "stdout",
     "output_type": "stream",
     "text": [
      "+---------------+---------------+-----+-------+---------+---+----+-----------+-------------------+---------------+--------------------+------------+-------------------+--------------------+-----------------+----------+--------------------+--------+-------------+------------------+--------------------+\n",
      "|  Employee Name|Employee Number|State|    Zip|      DOB|Age| Sex|MaritalDesc|        CitizenDesc|Hispanic/Latino|            RaceDesc|Date of Hire|Date of Termination|     Reason For Term|Employment Status|Department|            Position|Pay Rate| Manager Name|   Employee Source|   Performance Score|\n",
      "+---------------+---------------+-----+-------+---------+---+----+-----------+-------------------+---------------+--------------------+------------+-------------------+--------------------+-----------------+----------+--------------------+--------+-------------+------------------+--------------------+\n",
      "| Murray, Thomas|     1406068403|   TX|78230.0| 7/4/1988| 29|Male|   Divorced|         US Citizen|             No|Black or African ...|  11/10/2014|               NULL|N/A - still employed|           Active|     IT/IS|Database Administ...|    35.5|   Simon Roup|Diversity Job Fair|         Exceptional|\n",
      "|Martins, Joseph|     1209048771|   TX|78207.0|6/11/1970| 47|Male|     Single|Eligible NonCitizen|             No|Black or African ...|   5/14/2012|               NULL|N/A - still employed|           Active|     Sales|  Area Sales Manager|    56.0|Lynn Daneault| Employee Referral|         Fully Meets|\n",
      "|  McKinzie, Jac|     1209049326|   TX|78789.0| 7/1/1984| 33|Male|    Married|         US Citizen|             No|   Two or more races|    7/6/2016|               NULL|N/A - Has not sta...|     Future Start|     Sales|  Area Sales Manager|    55.0|Lynn Daneault|Website Banner Ads|N/A- too early to...|\n",
      "+---------------+---------------+-----+-------+---------+---+----+-----------+-------------------+---------------+--------------------+------------+-------------------+--------------------+-----------------+----------+--------------------+--------+-------------+------------------+--------------------+\n",
      "\n"
     ]
    }
   ],
   "source": [
    "emp_df.filter(col('State')=='TX').show()"
   ]
  },
  {
   "cell_type": "code",
   "execution_count": 75,
   "id": "fd6d978c-e510-4218-8302-fab53c45ebe9",
   "metadata": {},
   "outputs": [
    {
     "data": {
      "text/plain": [
       "11"
      ]
     },
     "execution_count": 75,
     "metadata": {},
     "output_type": "execute_result"
    }
   ],
   "source": [
    "# select count(*) from emp where Sex='Male' and Age between 25 and 30 and MaritalDesc in ('Single', 'Seperated', 'Divorced')\n",
    "emp_df.where( \n",
    "    (col('Sex')=='Male') & \n",
    "    (col('Age')<=30) & \n",
    "    (col('Age')>=25) & \n",
    "    ((col('MaritalDesc')=='Single') | (col('MaritalDesc')=='Seperated') | (col('MaritalDesc')=='Divorced'))\n",
    ").count()"
   ]
  },
  {
   "cell_type": "markdown",
   "id": "753ac8ff-aa83-430c-aa4c-039e989cd16f",
   "metadata": {},
   "source": [
    "### withColumn"
   ]
  },
  {
   "cell_type": "code",
   "execution_count": 16,
   "id": "ff527b1a-d9d0-4bf8-b03c-415767bc10f9",
   "metadata": {},
   "outputs": [
    {
     "name": "stdout",
     "output_type": "stream",
     "text": [
      "+------------+----------+------------------+----------------+\n",
      "|  First_name| Last_name|      new_pay_rate|      Department|\n",
      "+------------+----------+------------------+----------------+\n",
      "|       Brown|       Mia|             31.35|   Admin Offices|\n",
      "|   LaRotonda| William  |              25.3|   Admin Offices|\n",
      "|      Steans|  Tyrone  |31.900000000000002|   Admin Offices|\n",
      "|      Howard|   Estelle|23.650000000000002|   Admin Offices|\n",
      "|       Singh|      Nan |            18.216|   Admin Offices|\n",
      "|       Smith| Leigh Ann|             22.55|   Admin Offices|\n",
      "|     LeBlanc|Brandon  R| 60.50000000000001|   Admin Offices|\n",
      "|       Quinn|      Sean| 60.50000000000001|   Admin Offices|\n",
      "|    Boutwell|   Bonalyn| 38.44500000000001|   Admin Offices|\n",
      "|Foster-Baker|       Amy| 38.44500000000001|   Admin Offices|\n",
      "|        King|     Janet|              88.0|Executive Office|\n",
      "|      Zamora|  Jennifer|              71.5|           IT/IS|\n",
      "|      Becker|     Renee|47.300000000000004|           IT/IS|\n",
      "|       Goble|    Taisha|             53.35|           IT/IS|\n",
      "|   Hernandez|    Daniff| 44.11000000000001|           IT/IS|\n",
      "|      Horton|     Jayne|37.400000000000006|           IT/IS|\n",
      "|     Johnson|   Noelle |              44.0|           IT/IS|\n",
      "|      Murray|    Thomas|39.050000000000004|           IT/IS|\n",
      "|     Pearson|   Randall|              45.1|           IT/IS|\n",
      "|   Petrowsky|    Thelma|47.025000000000006|           IT/IS|\n",
      "+------------+----------+------------------+----------------+\n",
      "only showing top 20 rows\n",
      "\n"
     ]
    }
   ],
   "source": [
    "emp_df.withColumn('First_name', split(col('Employee Name'),', ').getItem(0)).\\\n",
    "withColumn('Last_name', split(col('Employee Name'),', ').getItem(1)).\\\n",
    "withColumn('new_pay_rate', col('Pay Rate')*1.1 ).\\\n",
    "select('First_name','Last_name','new_pay_rate','Department').show()"
   ]
  },
  {
   "cell_type": "code",
   "execution_count": 17,
   "id": "2b4d4c4e-32f9-42cf-8f34-096fc96c64ec",
   "metadata": {},
   "outputs": [],
   "source": [
    "emp_df = emp_df.withColumn('First_name', split(col('Employee Name'),', ').getItem(0)).\\\n",
    "withColumn('Last_name', split(col('Employee Name'),', ').getItem(1)).\\\n",
    "withColumn('new_pay_rate', col('Pay Rate')*1.1 ).\\\n",
    "select('First_name','Last_name','new_pay_rate','Department')"
   ]
  },
  {
   "cell_type": "code",
   "execution_count": 92,
   "id": "7490ff21-f4c0-44cf-8925-0bcd7d9681f4",
   "metadata": {},
   "outputs": [],
   "source": [
    "emp_df.write.format('csv').mode('append').save('emp_df.csv')"
   ]
  },
  {
   "cell_type": "code",
   "execution_count": 93,
   "id": "22e94f8d-9084-4410-b248-86a9045f04d7",
   "metadata": {},
   "outputs": [
    {
     "data": {
      "text/plain": [
       "604"
      ]
     },
     "execution_count": 93,
     "metadata": {},
     "output_type": "execute_result"
    }
   ],
   "source": [
    "spark.read.csv('emp_df.csv').count()"
   ]
  },
  {
   "cell_type": "code",
   "execution_count": 96,
   "id": "53a03982-995a-4ddc-bd78-d0b8a7d477db",
   "metadata": {},
   "outputs": [],
   "source": [
    "emp_df.write.mode('overwrite').csv('emp_df.csv')"
   ]
  },
  {
   "cell_type": "code",
   "execution_count": 95,
   "id": "7a44cacc-6672-4c82-a97f-941655f053c1",
   "metadata": {},
   "outputs": [
    {
     "data": {
      "text/plain": [
       "302"
      ]
     },
     "execution_count": 95,
     "metadata": {},
     "output_type": "execute_result"
    }
   ],
   "source": [
    "spark.read.csv('emp_df.csv').count()"
   ]
  },
  {
   "cell_type": "code",
   "execution_count": 4,
   "id": "58c41776-7760-483a-bbd8-f8b8494e2abc",
   "metadata": {},
   "outputs": [],
   "source": [
    "d = [\n",
    "    {'id':1,'name':'anna','dept':'cse'},\n",
    "    {'id':2,'name':'john','dept':'cse'},\n",
    "    {'id':3,'name':'bob','dept':'cse'},\n",
    "    {'id':4,'name':'alice','dept':'cse'}\n",
    "]\n",
    "student_df = spark.createDataFrame(d)"
   ]
  },
  {
   "cell_type": "code",
   "execution_count": 5,
   "id": "45d111c2-8d9d-48f1-91f8-be4de7c20030",
   "metadata": {},
   "outputs": [
    {
     "name": "stdout",
     "output_type": "stream",
     "text": [
      "+----+---+-----+\n",
      "|dept| id| name|\n",
      "+----+---+-----+\n",
      "| cse|  1| anna|\n",
      "| cse|  2| john|\n",
      "| cse|  3|  bob|\n",
      "| cse|  4|alice|\n",
      "+----+---+-----+\n",
      "\n"
     ]
    }
   ],
   "source": [
    "student_df.show()"
   ]
  },
  {
   "cell_type": "code",
   "execution_count": 6,
   "id": "265802ca-fdfc-49f6-bdcd-5327e1d645e8",
   "metadata": {},
   "outputs": [],
   "source": [
    "student_df.write.csv('student.csv')"
   ]
  },
  {
   "cell_type": "code",
   "execution_count": 7,
   "id": "3470983e-5bb7-43a4-897d-67e810674b52",
   "metadata": {},
   "outputs": [],
   "source": [
    "d = [\n",
    "    {'id':5,'name':'julie','dept':'ece'},\n",
    "    {'id':6,'name':'jisi','dept':'ece'}\n",
    "]\n",
    "student_df = spark.createDataFrame(d)"
   ]
  },
  {
   "cell_type": "code",
   "execution_count": 8,
   "id": "fcfd7b81-38a0-4b66-be72-6534ea760606",
   "metadata": {},
   "outputs": [],
   "source": [
    "student_df.write.mode('append').csv('student.csv')"
   ]
  },
  {
   "cell_type": "code",
   "execution_count": 12,
   "id": "10891239-f084-48f8-8acf-7f380d4aa0fb",
   "metadata": {},
   "outputs": [],
   "source": [
    "d = [\n",
    "    {'id':1,'name':'mahesh','dept':'cse'},\n",
    "    {'id':1,'name':'mahesh','dept':'cse'}\n",
    "]\n",
    "student_df = spark.createDataFrame(d)"
   ]
  },
  {
   "cell_type": "code",
   "execution_count": 13,
   "id": "089a3c80-6c2b-43df-95e5-a55f39afb660",
   "metadata": {},
   "outputs": [],
   "source": [
    "student_df.write.mode('overwrite').csv('student.csv')"
   ]
  },
  {
   "cell_type": "code",
   "execution_count": null,
   "id": "43c00b0a-e82d-464e-a8cf-8535846c77f3",
   "metadata": {},
   "outputs": [],
   "source": []
  },
  {
   "cell_type": "code",
   "execution_count": 14,
   "id": "1578f420-4029-48b1-be42-953e5cfac418",
   "metadata": {},
   "outputs": [],
   "source": [
    "emp_df.write.json('emp.json')"
   ]
  },
  {
   "cell_type": "code",
   "execution_count": 18,
   "id": "dd629f92-2e5b-4980-838e-1fbfd86c1a85",
   "metadata": {},
   "outputs": [],
   "source": [
    "emp_df.write.partitionBy('Department').csv('emp_partitioned.csv')"
   ]
  },
  {
   "cell_type": "code",
   "execution_count": 28,
   "id": "5b73c28f-319e-444d-bc0f-584c0b8b438c",
   "metadata": {},
   "outputs": [
    {
     "name": "stdout",
     "output_type": "stream",
     "text": [
      "+--------------------+\n",
      "|          Department|\n",
      "+--------------------+\n",
      "|               Sales|\n",
      "|   Production       |\n",
      "|       Admin Offices|\n",
      "|    Executive Office|\n",
      "|Software Engineer...|\n",
      "|Software Engineering|\n",
      "|               IT/IS|\n",
      "|                NULL|\n",
      "+--------------------+\n",
      "\n"
     ]
    }
   ],
   "source": [
    "emp_df = spark.read.option('header','true').option('inferSchema','true').format('csv').load('./HR-Dataset/core_dataset.csv')"
   ]
  },
  {
   "cell_type": "code",
   "execution_count": 32,
   "id": "0a1f786b-d4cd-4365-b559-1178be65e5c1",
   "metadata": {},
   "outputs": [],
   "source": [
    "emp_df = emp_df.withColumn('Department', trim(col('Department')))"
   ]
  },
  {
   "cell_type": "code",
   "execution_count": 33,
   "id": "091970f1-1187-474c-9c48-33aa30aba827",
   "metadata": {},
   "outputs": [
    {
     "name": "stdout",
     "output_type": "stream",
     "text": [
      "+--------------------+\n",
      "|          Department|\n",
      "+--------------------+\n",
      "|               Sales|\n",
      "|       Admin Offices|\n",
      "|          Production|\n",
      "|    Executive Office|\n",
      "|Software Engineering|\n",
      "|               IT/IS|\n",
      "|                NULL|\n",
      "+--------------------+\n",
      "\n"
     ]
    }
   ],
   "source": [
    "emp_df.select('Department').distinct().show()"
   ]
  },
  {
   "cell_type": "code",
   "execution_count": 29,
   "id": "737af369-2388-4a85-8b3e-6c9d580a06d3",
   "metadata": {},
   "outputs": [
    {
     "name": "stdout",
     "output_type": "stream",
     "text": [
      "+--------------------+\n",
      "|            Position|\n",
      "+--------------------+\n",
      "|IT Manager - Support|\n",
      "|Software Engineer...|\n",
      "|    Network Engineer|\n",
      "|             Sr. DBA|\n",
      "|Production Techni...|\n",
      "|Director of Opera...|\n",
      "|  Production Manager|\n",
      "|      Sr. Accountant|\n",
      "|     President & CEO|\n",
      "|Sr. Network Engineer|\n",
      "|  IT Manager - Infra|\n",
      "|        Accountant I|\n",
      "|Database Administ...|\n",
      "|Shared Services M...|\n",
      "|   Director of Sales|\n",
      "|       Sales Manager|\n",
      "|  Area Sales Manager|\n",
      "|                 CIO|\n",
      "|          IT Support|\n",
      "|Production Techni...|\n",
      "+--------------------+\n",
      "only showing top 20 rows\n",
      "\n"
     ]
    }
   ],
   "source": [
    "emp_df.select('Position').distinct().show()"
   ]
  },
  {
   "cell_type": "code",
   "execution_count": 34,
   "id": "82cb7110-de1e-41c0-a4f7-7948a4a0df0f",
   "metadata": {},
   "outputs": [],
   "source": [
    "emp_df.write.mode('overwrite').\\\n",
    "partitionBy('Department','Position').csv('emp_partitioned_2.csv')"
   ]
  },
  {
   "cell_type": "code",
   "execution_count": 39,
   "id": "6556fc7e-3277-4295-83d4-a69d45c01aa1",
   "metadata": {},
   "outputs": [],
   "source": [
    "emp_df2 = spark.read.csv('emp_partitioned_2.csv')"
   ]
  },
  {
   "cell_type": "code",
   "execution_count": 40,
   "id": "ecef343c-5344-4fa2-8c66-cc2e025d3f9c",
   "metadata": {},
   "outputs": [
    {
     "data": {
      "text/plain": [
       "302"
      ]
     },
     "execution_count": 40,
     "metadata": {},
     "output_type": "execute_result"
    }
   ],
   "source": [
    "emp_df2.count()"
   ]
  },
  {
   "cell_type": "code",
   "execution_count": 41,
   "id": "57f85859-9bab-4197-87f0-7f2b6aa8d2e7",
   "metadata": {},
   "outputs": [
    {
     "data": {
      "text/plain": [
       "['Employee Name',\n",
       " 'Employee Number',\n",
       " 'State',\n",
       " 'Zip',\n",
       " 'DOB',\n",
       " 'Age',\n",
       " 'Sex',\n",
       " 'MaritalDesc',\n",
       " 'CitizenDesc',\n",
       " 'Hispanic/Latino',\n",
       " 'RaceDesc',\n",
       " 'Date of Hire',\n",
       " 'Date of Termination',\n",
       " 'Reason For Term',\n",
       " 'Employment Status',\n",
       " 'Department',\n",
       " 'Position',\n",
       " 'Pay Rate',\n",
       " 'Manager Name',\n",
       " 'Employee Source',\n",
       " 'Performance Score']"
      ]
     },
     "execution_count": 41,
     "metadata": {},
     "output_type": "execute_result"
    }
   ],
   "source": [
    "emp_df.columns"
   ]
  },
  {
   "cell_type": "code",
   "execution_count": 42,
   "id": "6bd4dfb3-eedb-4302-9f9f-69eff8922617",
   "metadata": {},
   "outputs": [],
   "source": [
    "emp_df = emp_df.withColumnRenamed('Hispanic/Latino','Hispanic_Latino')"
   ]
  },
  {
   "cell_type": "code",
   "execution_count": 44,
   "id": "37f5a5a0-831e-4f70-9221-3be6cf53355f",
   "metadata": {},
   "outputs": [
    {
     "data": {
      "text/plain": [
       "['Employee Name',\n",
       " 'Employee Number',\n",
       " 'State',\n",
       " 'Zip',\n",
       " 'DOB',\n",
       " 'Age',\n",
       " 'Sex',\n",
       " 'MaritalDesc',\n",
       " 'CitizenDesc',\n",
       " 'Hispanic_Latino',\n",
       " 'RaceDesc',\n",
       " 'Date of Hire',\n",
       " 'Date of Termination',\n",
       " 'Reason For Term',\n",
       " 'Employment Status',\n",
       " 'Department',\n",
       " 'Position',\n",
       " 'Pay Rate',\n",
       " 'Manager Name',\n",
       " 'Employee Source',\n",
       " 'Performance Score']"
      ]
     },
     "execution_count": 44,
     "metadata": {},
     "output_type": "execute_result"
    }
   ],
   "source": [
    "emp_df.columns"
   ]
  },
  {
   "cell_type": "code",
   "execution_count": 47,
   "id": "748278a3-f579-4b58-9599-62ad9ae4751b",
   "metadata": {},
   "outputs": [],
   "source": [
    "for col in emp_df.columns:\n",
    "    emp_df = emp_df.withColumnRenamed(col, col.replace(' ','_').replace('/',' '))"
   ]
  },
  {
   "cell_type": "code",
   "execution_count": 48,
   "id": "f38b47e2-2581-4c8a-9f83-2b800854aae3",
   "metadata": {},
   "outputs": [
    {
     "data": {
      "text/plain": [
       "['Employee_Name',\n",
       " 'Employee_Number',\n",
       " 'State',\n",
       " 'Zip',\n",
       " 'DOB',\n",
       " 'Age',\n",
       " 'Sex',\n",
       " 'MaritalDesc',\n",
       " 'CitizenDesc',\n",
       " 'Hispanic_Latino',\n",
       " 'RaceDesc',\n",
       " 'Date_of_Hire',\n",
       " 'Date_of_Termination',\n",
       " 'Reason_For_Term',\n",
       " 'Employment_Status',\n",
       " 'Department',\n",
       " 'Position',\n",
       " 'Pay_Rate',\n",
       " 'Manager_Name',\n",
       " 'Employee_Source',\n",
       " 'Performance_Score']"
      ]
     },
     "execution_count": 48,
     "metadata": {},
     "output_type": "execute_result"
    }
   ],
   "source": [
    "emp_df.columns"
   ]
  },
  {
   "cell_type": "code",
   "execution_count": 52,
   "id": "d0685b22-c8f2-45ce-837c-22f761658bd3",
   "metadata": {},
   "outputs": [],
   "source": [
    "emp_df = emp_df.drop('Zip', 'DOB')"
   ]
  },
  {
   "cell_type": "markdown",
   "id": "c5eaeaf0-414f-41c4-b27a-3b3163cc2dbe",
   "metadata": {},
   "source": [
    "### Distinct"
   ]
  },
  {
   "cell_type": "code",
   "execution_count": 55,
   "id": "87bb5d66-a121-426c-8651-28d3ba6f2ae9",
   "metadata": {},
   "outputs": [],
   "source": [
    "d = [\n",
    "    {'id':1,'name':'anna','dept':'cse'},\n",
    "    {'id':2,'name':'john','dept':'cse'},\n",
    "    {'id':4,'name':'alice','dept':'cse'},\n",
    "    {'id':3,'name':'bob','dept':'cse'},\n",
    "    {'id':4,'name':'alice','dept':'cse'}\n",
    "]\n",
    "df = spark.createDataFrame(d)"
   ]
  },
  {
   "cell_type": "code",
   "execution_count": 56,
   "id": "233a3ebc-1be1-416f-b92c-1e26b2736c8b",
   "metadata": {},
   "outputs": [
    {
     "name": "stdout",
     "output_type": "stream",
     "text": [
      "+----+---+-----+\n",
      "|dept| id| name|\n",
      "+----+---+-----+\n",
      "| cse|  1| anna|\n",
      "| cse|  2| john|\n",
      "| cse|  4|alice|\n",
      "| cse|  3|  bob|\n",
      "| cse|  4|alice|\n",
      "+----+---+-----+\n",
      "\n"
     ]
    }
   ],
   "source": [
    "df.show()"
   ]
  },
  {
   "cell_type": "code",
   "execution_count": 57,
   "id": "97513625-9441-46cd-8970-4d1ea648adb0",
   "metadata": {},
   "outputs": [
    {
     "name": "stdout",
     "output_type": "stream",
     "text": [
      "+----+---+-----+\n",
      "|dept| id| name|\n",
      "+----+---+-----+\n",
      "| cse|  1| anna|\n",
      "| cse|  2| john|\n",
      "| cse|  4|alice|\n",
      "| cse|  3|  bob|\n",
      "+----+---+-----+\n",
      "\n"
     ]
    }
   ],
   "source": [
    "df.drop_duplicates().show()"
   ]
  },
  {
   "cell_type": "code",
   "execution_count": 58,
   "id": "4c5f9f4e-9c74-4dbf-86dc-89fe113c1afa",
   "metadata": {},
   "outputs": [
    {
     "name": "stdout",
     "output_type": "stream",
     "text": [
      "+----+---+-----+\n",
      "|dept| id| name|\n",
      "+----+---+-----+\n",
      "| cse|  1| anna|\n",
      "| cse|  2| john|\n",
      "| cse|  4|alice|\n",
      "| cse|  3|  bob|\n",
      "+----+---+-----+\n",
      "\n"
     ]
    }
   ],
   "source": [
    "df.distinct().show()"
   ]
  },
  {
   "cell_type": "markdown",
   "id": "f411bf50-e1b8-4245-8c04-2d1703867863",
   "metadata": {},
   "source": [
    "### Group BY"
   ]
  },
  {
   "cell_type": "code",
   "execution_count": 88,
   "id": "f3253c2f-9821-49b0-b48e-d27c98b13112",
   "metadata": {},
   "outputs": [],
   "source": [
    "emp_df = spark.read.option('header','true').option('inferSchema','true').format('csv').load('./HR-Dataset/core_dataset.csv')"
   ]
  },
  {
   "cell_type": "code",
   "execution_count": 60,
   "id": "384869b0-2722-4356-abaa-ab9c59b0c7fd",
   "metadata": {},
   "outputs": [
    {
     "data": {
      "text/plain": [
       "['Employee Name',\n",
       " 'Employee Number',\n",
       " 'State',\n",
       " 'Zip',\n",
       " 'DOB',\n",
       " 'Age',\n",
       " 'Sex',\n",
       " 'MaritalDesc',\n",
       " 'CitizenDesc',\n",
       " 'Hispanic/Latino',\n",
       " 'RaceDesc',\n",
       " 'Date of Hire',\n",
       " 'Date of Termination',\n",
       " 'Reason For Term',\n",
       " 'Employment Status',\n",
       " 'Department',\n",
       " 'Position',\n",
       " 'Pay Rate',\n",
       " 'Manager Name',\n",
       " 'Employee Source',\n",
       " 'Performance Score']"
      ]
     },
     "execution_count": 60,
     "metadata": {},
     "output_type": "execute_result"
    }
   ],
   "source": [
    "emp_df.columns"
   ]
  },
  {
   "cell_type": "code",
   "execution_count": 61,
   "id": "af6e67fc-8a46-486e-a9cc-b129fe690b5a",
   "metadata": {},
   "outputs": [],
   "source": [
    "# select sex, min(`Pay Rate`) min_pay_rate, max(`Pay Rate`) max_pay_rate\n",
    "# from emp\n",
    "# group by sex"
   ]
  },
  {
   "cell_type": "code",
   "execution_count": 62,
   "id": "ab4c997a-4b82-4d74-91e6-ea643fc7dc69",
   "metadata": {},
   "outputs": [
    {
     "name": "stdout",
     "output_type": "stream",
     "text": [
      "+------+-------------+\n",
      "|   Sex|max(Pay Rate)|\n",
      "+------+-------------+\n",
      "|  NULL|         NULL|\n",
      "|Female|         80.0|\n",
      "|  male|         29.0|\n",
      "|  Male|         65.0|\n",
      "+------+-------------+\n",
      "\n"
     ]
    }
   ],
   "source": [
    "emp_df.groupby('Sex').max('Pay Rate').show()"
   ]
  },
  {
   "cell_type": "code",
   "execution_count": 89,
   "id": "b0b1371c-690f-42bc-a65f-c2cc56cc2c4a",
   "metadata": {},
   "outputs": [],
   "source": [
    "emp_df = emp_df.withColumn('Department', trim(col('Department')))\n",
    "emp_df = emp_df.withColumn('Sex', lower(col('Sex')))"
   ]
  },
  {
   "cell_type": "code",
   "execution_count": 67,
   "id": "5be329d7-2fcf-45de-af80-cf0af96f7928",
   "metadata": {},
   "outputs": [
    {
     "name": "stdout",
     "output_type": "stream",
     "text": [
      "+------+-------------+\n",
      "|   Sex|max(Pay Rate)|\n",
      "+------+-------------+\n",
      "|  NULL|         NULL|\n",
      "|female|         80.0|\n",
      "|  male|         65.0|\n",
      "+------+-------------+\n",
      "\n"
     ]
    }
   ],
   "source": [
    "emp_df.groupby('Sex').max('Pay Rate').show()"
   ]
  },
  {
   "cell_type": "code",
   "execution_count": 68,
   "id": "658887de-f1b2-438b-8195-b01881b04201",
   "metadata": {},
   "outputs": [
    {
     "name": "stdout",
     "output_type": "stream",
     "text": [
      "+------+-------------+\n",
      "|   Sex|min(Pay Rate)|\n",
      "+------+-------------+\n",
      "|  NULL|         NULL|\n",
      "|female|         14.0|\n",
      "|  male|         14.0|\n",
      "+------+-------------+\n",
      "\n"
     ]
    }
   ],
   "source": [
    "emp_df.groupby('Sex').min('Pay Rate').show()"
   ]
  },
  {
   "cell_type": "code",
   "execution_count": 71,
   "id": "95608fc8-aa2e-4009-9c1a-80c6833b1aed",
   "metadata": {},
   "outputs": [
    {
     "name": "stdout",
     "output_type": "stream",
     "text": [
      "+------+-----+\n",
      "|   Sex|count|\n",
      "+------+-----+\n",
      "|  NULL|    1|\n",
      "|female|  174|\n",
      "|  male|  127|\n",
      "+------+-----+\n",
      "\n"
     ]
    }
   ],
   "source": [
    "emp_df.groupby('Sex').count().show()"
   ]
  },
  {
   "cell_type": "markdown",
   "id": "8d39e6ae-32eb-42d9-b804-7775b146838c",
   "metadata": {},
   "source": [
    "## Join"
   ]
  },
  {
   "cell_type": "code",
   "execution_count": 73,
   "id": "f71fdeb9-0280-4f0c-b9a2-dd48a7eebb1b",
   "metadata": {},
   "outputs": [],
   "source": [
    "d = [\n",
    "{'dept_name':'Sales','HOD':'John'},\n",
    "{'dept_name':'Admin Offices','HOD':'Joshaf'},\n",
    "{'dept_name':'Production','HOD':'Ram'},\n",
    "{'dept_name':'Executive Office','HOD':'Vamsi'},\n",
    "{'dept_name':'Software Engineering','HOD':'Mahesh'},\n",
    "{'dept_name':'IT/IS','HOD':'Mahesh'}\n",
    "]"
   ]
  },
  {
   "cell_type": "code",
   "execution_count": 90,
   "id": "f513b515-7b19-4d85-96c6-354624184888",
   "metadata": {},
   "outputs": [],
   "source": [
    "dept_df = spark.createDataFrame(d)"
   ]
  },
  {
   "cell_type": "code",
   "execution_count": 91,
   "id": "d4e2a583-fa27-42c0-ab7e-2a0026c73eee",
   "metadata": {},
   "outputs": [],
   "source": [
    "# select * from emp\n",
    "# left join dept on (emp.Department=dept.dept_name)\n",
    "\n",
    "emp_df = emp_df.join(dept_df, emp_df['Department']==dept_df['dept_name'],'left')"
   ]
  },
  {
   "cell_type": "code",
   "execution_count": 98,
   "id": "469ccf33-ecef-4292-87a9-ed1d1cc5e4c8",
   "metadata": {},
   "outputs": [],
   "source": [
    "d1 = [\n",
    "    {'id':1,'name':'anna','dept':'cse'},\n",
    "    {'id':2,'name':'john','dept':'cse'},\n",
    "    {'id':4,'name':'alice','dept':'cse'},\n",
    "    {'id':3,'name':'bob','dept':'cse'},\n",
    "    {'id':4,'name':'alice','dept':'cse'}\n",
    "]\n",
    "df_1 = spark.createDataFrame(d1)\n",
    "\n",
    "d2 = [\n",
    "    {'id':1,'name':'mahesh','dept':'cse'},\n",
    "    {'id':1,'name':'mahesh','dept':'cse'},\n",
    "    {'name':'mahesh','dept':'cse'},\n",
    "]\n",
    "df_2 = spark.createDataFrame(d2)"
   ]
  },
  {
   "cell_type": "code",
   "execution_count": 99,
   "id": "a8bce161-e626-4c0a-a865-139fc7fcdae3",
   "metadata": {
    "scrolled": true
   },
   "outputs": [
    {
     "name": "stdout",
     "output_type": "stream",
     "text": [
      "+----+----+------+\n",
      "|dept|  id|  name|\n",
      "+----+----+------+\n",
      "| cse|   1|  anna|\n",
      "| cse|   2|  john|\n",
      "| cse|   4| alice|\n",
      "| cse|   3|   bob|\n",
      "| cse|   4| alice|\n",
      "| cse|   1|mahesh|\n",
      "| cse|   1|mahesh|\n",
      "| cse|NULL|mahesh|\n",
      "+----+----+------+\n",
      "\n"
     ]
    }
   ],
   "source": [
    "df_1.union(df_2).show()"
   ]
  },
  {
   "cell_type": "code",
   "execution_count": 100,
   "id": "aafdf692-a1eb-474f-a5b6-96d92e1f4c0b",
   "metadata": {},
   "outputs": [],
   "source": [
    "df_u = df_1.union(df_2)"
   ]
  },
  {
   "cell_type": "code",
   "execution_count": 101,
   "id": "5ac51177-a054-46ca-9471-154702dc3455",
   "metadata": {},
   "outputs": [
    {
     "data": {
      "text/plain": [
       "[Row(dept='cse', id=1, name='anna'),\n",
       " Row(dept='cse', id=2, name='john'),\n",
       " Row(dept='cse', id=4, name='alice'),\n",
       " Row(dept='cse', id=3, name='bob'),\n",
       " Row(dept='cse', id=4, name='alice'),\n",
       " Row(dept='cse', id=1, name='mahesh'),\n",
       " Row(dept='cse', id=1, name='mahesh'),\n",
       " Row(dept='cse', id=None, name='mahesh')]"
      ]
     },
     "execution_count": 101,
     "metadata": {},
     "output_type": "execute_result"
    }
   ],
   "source": [
    "df_u.collect()"
   ]
  },
  {
   "cell_type": "code",
   "execution_count": 103,
   "id": "f9a7dabe-42a7-45ae-b0e3-eea97e30079a",
   "metadata": {},
   "outputs": [],
   "source": [
    "emp_df = emp_df.cache()"
   ]
  },
  {
   "cell_type": "code",
   "execution_count": 104,
   "id": "18a225c9-e827-4e92-97f8-17aff711266b",
   "metadata": {},
   "outputs": [],
   "source": [
    "schema = StructType(\n",
    "    [\n",
    "        StructField('id',IntegerType(),False),\n",
    "        StructField('name',StringType(),True),\n",
    "        StructField('dept',StringType(),True),\n",
    "    ]\n",
    ")"
   ]
  },
  {
   "cell_type": "code",
   "execution_count": 108,
   "id": "b6ef34de-ffe0-44c5-881f-0fb47dfcadc5",
   "metadata": {},
   "outputs": [
    {
     "data": {
      "text/plain": [
       "DataFrame[summary: string, dept: string, id: string, name: string, id_new: string]"
      ]
     },
     "execution_count": 108,
     "metadata": {},
     "output_type": "execute_result"
    }
   ],
   "source": [
    "df_u.withColumn('id_new', col('id').cast('bigint')).describe()"
   ]
  },
  {
   "cell_type": "code",
   "execution_count": 110,
   "id": "db0ede87-f5fa-4e97-bf18-8600c1b880fd",
   "metadata": {},
   "outputs": [
    {
     "name": "stdout",
     "output_type": "stream",
     "text": [
      "+----------+----+\n",
      "|identifier|dept|\n",
      "+----------+----+\n",
      "|         1| cse|\n",
      "|         2| cse|\n",
      "|         4| cse|\n",
      "|         3| cse|\n",
      "|         4| cse|\n",
      "|         1| cse|\n",
      "|         1| cse|\n",
      "|      NULL| cse|\n",
      "+----------+----+\n",
      "\n"
     ]
    }
   ],
   "source": [
    "df_u.select(col('id').alias('identifier'), 'dept').show()"
   ]
  },
  {
   "cell_type": "code",
   "execution_count": 132,
   "id": "f16fb871-0e4b-45c6-b0fe-1f190080915a",
   "metadata": {},
   "outputs": [],
   "source": [
    "emp_df = emp_df.withColumn('date_of_birth',\n",
    "    to_date(col('DOB'), 'D/m/y')\n",
    ").withColumn(\n",
    "    'age', current_date() - to_date(col('DOB'), 'D/m/y')\n",
    ")"
   ]
  },
  {
   "cell_type": "code",
   "execution_count": 128,
   "id": "3ee550ab-83f0-4688-9d7e-ba56b853863d",
   "metadata": {},
   "outputs": [
    {
     "name": "stdout",
     "output_type": "stream",
     "text": [
      "+--------------+\n",
      "|current_date()|\n",
      "+--------------+\n",
      "|    2023-12-20|\n",
      "+--------------+\n",
      "\n"
     ]
    }
   ],
   "source": [
    "spark.sql('''\n",
    "select current_date()\n",
    "''').show()"
   ]
  },
  {
   "cell_type": "code",
   "execution_count": 131,
   "id": "f4952309-b3a9-44fa-9a11-b455d6cb910d",
   "metadata": {},
   "outputs": [
    {
     "name": "stdout",
     "output_type": "stream",
     "text": [
      "+--------------------+---------------+-----+-------+----------+--------------------+------+-----------+-------------------+---------------+--------------------+------------+-------------------+--------------------+--------------------+----------+------------------+--------+-------------+--------------------+--------------------+----+---------+-------------+\n",
      "|       Employee Name|Employee Number|State|    Zip|       DOB|                 age|   Sex|MaritalDesc|        CitizenDesc|Hispanic/Latino|            RaceDesc|Date of Hire|Date of Termination|     Reason For Term|   Employment Status|Department|          Position|Pay Rate| Manager Name|     Employee Source|   Performance Score| HOD|dept_name|date_of_birth|\n",
      "+--------------------+---------------+-----+-------+----------+--------------------+------+-----------+-------------------+---------------+--------------------+------------+-------------------+--------------------+--------------------+----------+------------------+--------+-------------+--------------------+--------------------+----+---------+-------------+\n",
      "|        Buck, Edward|     1504073313|   MA| 2330.0|  7/7/1975|INTERVAL '17879' DAY|  male|    Married|         US Citizen|             No|               White|   9/29/2014|               NULL|N/A - still employed|              Active|     Sales|Area Sales Manager|    55.0|Lynn Daneault|   Employee Referral|         Fully Meets|John|    Sales|   1975-01-07|\n",
      "|    Bunbury, Jessica|     1504073368|   VA|21851.0|  6/1/1964|INTERVAL '21898' DAY|female|    Married|Eligible NonCitizen|             No|Black or African ...|   8/15/2011|           8/2/2014|    Another position|Voluntarily Termi...|     Sales|Area Sales Manager|    55.0|   John Smith|Social Networks -...|         Fully Meets|John|    Sales|   1964-01-06|\n",
      "|   Carter, Michelle |     1403065721|   VT| 5664.0| 5/15/1963|INTERVAL '22264' DAY|female|     Single|         US Citizen|             No|               White|   8/18/2014|               NULL|N/A - still employed|              Active|     Sales|Area Sales Manager|    55.0|   John Smith|           Billboard|         Fully Meets|John|    Sales|   1963-01-05|\n",
      "|        Costa, Latia|     1409070567|   CA|90007.0| 11/8/1988|INTERVAL '13127' DAY|female|     Single|         US Citizen|             No|               White|   1/10/2011|               NULL|N/A - still employed|              Active|     Sales|Area Sales Manager|    55.0|Lynn Daneault|               Other|             Exceeds|John|    Sales|   1988-01-11|\n",
      "|   Dietrich, Jenna  |     1408069481|   WA|98052.0| 5/14/1987|INTERVAL '13498' DAY|female|     Single|         US Citizen|            Yes|               White|   2/20/2012|               NULL|N/A - still employed|              Active|     Sales|Area Sales Manager|    55.0|   John Smith|  Website Banner Ads|                 PIP|John|    Sales|   1987-01-05|\n",
      "|    Digitale, Alfred|     1306059197|   NH| 3062.0| 9/14/1988|INTERVAL '13129' DAY|  male|    Married|         US Citizen|             No|American Indian o...|   8/18/2014|               NULL|N/A - still employed|              Active|     Sales|Area Sales Manager|    56.0|   John Smith|Pay Per Click - G...|         Fully Meets|John|    Sales|   1988-01-09|\n",
      "|      Fraval, Maruk |     1411071302|   CT| 6050.0| 8/28/1963|INTERVAL '22261' DAY|  male|     Single|         US Citizen|             No|Black or African ...|    9/6/2011|               NULL|N/A - still employed|              Active|     Sales|Area Sales Manager|    55.0|Lynn Daneault|         Monster.com|         Fully Meets|John|    Sales|   1963-01-08|\n",
      "|     Friedman, Gerry|     1204032843|   NY|10171.0| 2/24/1969|INTERVAL '20075' DAY|  male|     Single|         US Citizen|            Yes|   Two or more races|    3/7/2011|               NULL|N/A - still employed|              Active|     Sales|Area Sales Manager|    55.5|   John Smith|  Diversity Job Fair|         Fully Meets|John|    Sales|   1969-01-02|\n",
      "|     Gill, Whitney  |     1302053046|   OH|43050.0| 7/10/1971|INTERVAL '19340' DAY|female|    widowed|         US Citizen|             No|Black or African ...|    7/7/2014|           9/5/2015|          attendance|Terminated for Cause|     Sales|Area Sales Manager|    55.0|   John Smith|         Monster.com|         Fully Meets|John|    Sales|   1971-01-07|\n",
      "|      Givens, Myriam|     1203032099|   IN|46204.0| 9/22/1989|INTERVAL '12763' DAY|female|     Single|         US Citizen|             No|               White|   2/16/2015|               NULL|N/A - still employed|              Active|     Sales|Area Sales Manager|    55.0|Lynn Daneault|Pay Per Click - G...|        90-day meets|John|    Sales|   1989-01-09|\n",
      "|   Gonzales, Ricardo|     1411071481|   ID|83706.0|10/12/1954|INTERVAL '25546' DAY|  male|    Married|         US Citizen|             No|               White|   5/12/2014|               NULL|N/A - still employed|              Active|     Sales|Area Sales Manager|    55.5|   John Smith|         Monster.com|         Fully Meets|John|    Sales|   1954-01-10|\n",
      "|     Guilianno, Mike|     1001167253|   TN|37129.0|  2/9/1969|INTERVAL '20075' DAY|  male|     Single|         US Citizen|             No|   Two or more races|    3/7/2011|         10/31/2014|relocation out of...|Voluntarily Termi...|     Sales|Area Sales Manager|    55.0|   John Smith|  Newspager/Magazine|         Fully Meets|John|    Sales|   1969-01-02|\n",
      "|       Jeremy Prater|     1001084890|   NV|89139.0|  5/9/1974|INTERVAL '18246' DAY|  male|    Married|         US Citizen|             No|               White|   5/12/2014|               NULL|N/A - still employed|              Active|     Sales|Area Sales Manager|    56.0|Lynn Daneault|  Website Banner Ads|                 PIP|John|    Sales|   1974-01-05|\n",
      "|Khemmich, Barthol...|     1104025008|   CO|80820.0|11/27/1979|INTERVAL '16414' DAY|  male|     Single|         US Citizen|             No|               White|   8/19/2013|               NULL|N/A - still employed|              Active|     Sales|Area Sales Manager|    55.0|Lynn Daneault|Pay Per Click - G...|         Fully Meets|John|    Sales|   1979-01-11|\n",
      "|    Leruth, Giovanni|     1412071660|   UT|84111.0|12/27/1988|INTERVAL '13126' DAY|  male|  Separated|         US Citizen|             No|Black or African ...|   4/30/2012|               NULL|N/A - still employed|              Active|     Sales|Area Sales Manager|    55.0|   John Smith|  Website Banner Ads|         Fully Meets|John|    Sales|   1988-01-12|\n",
      "|     Martins, Joseph|     1209048771|   TX|78207.0| 6/11/1970|INTERVAL '19706' DAY|  male|     Single|Eligible NonCitizen|             No|Black or African ...|   5/14/2012|               NULL|N/A - still employed|              Active|     Sales|Area Sales Manager|    56.0|Lynn Daneault|   Employee Referral|         Fully Meets|John|    Sales|   1970-01-06|\n",
      "|       McKinzie, Jac|     1209049326|   TX|78789.0|  7/1/1984|INTERVAL '14592' DAY|  male|    Married|         US Citizen|             No|   Two or more races|    7/6/2016|               NULL|N/A - Has not sta...|        Future Start|     Sales|Area Sales Manager|    55.0|Lynn Daneault|  Website Banner Ads|N/A- too early to...|John|    Sales|   1984-01-07|\n",
      "|    Mullaney, Howard|     1306057978|   AL|36006.0| 11/2/1975|INTERVAL '17875' DAY|  male|     Single|         US Citizen|             No|   Two or more races|   9/29/2014|               NULL|N/A - still employed|              Active|     Sales|Area Sales Manager|    55.0|   John Smith|     Internet Search|   Needs Improvement|John|    Sales|   1975-01-11|\n",
      "|      Nguyen, Dheepa|     1111030684|   GA|30428.0| 3/31/1989|INTERVAL '12769' DAY|female|     Single|         US Citizen|             No|   Two or more races|    7/8/2013|               NULL|N/A - still employed|              Active|     Sales|Area Sales Manager|    55.0|Lynn Daneault|Pay Per Click - G...|         Fully Meets|John|    Sales|   1989-01-03|\n",
      "|      Onque, Jasmine|     1501072180|   FL|33174.0| 5/11/1990|INTERVAL '12402' DAY|female|     Single|         US Citizen|            Yes|               White|   9/30/2013|               NULL|N/A - still employed|              Active|     Sales|Area Sales Manager|    57.0|Lynn Daneault|Pay Per Click - G...|         Fully Meets|John|    Sales|   1990-01-05|\n",
      "+--------------------+---------------+-----+-------+----------+--------------------+------+-----------+-------------------+---------------+--------------------+------------+-------------------+--------------------+--------------------+----------+------------------+--------+-------------+--------------------+--------------------+----+---------+-------------+\n",
      "only showing top 20 rows\n",
      "\n"
     ]
    }
   ],
   "source": [
    "emp_df.show()"
   ]
  },
  {
   "cell_type": "code",
   "execution_count": null,
   "id": "9eede3fc-c0d0-438b-a7e2-8f8d534c6fe1",
   "metadata": {},
   "outputs": [],
   "source": []
  }
 ],
 "metadata": {
  "kernelspec": {
   "display_name": "Python 3 (ipykernel)",
   "language": "python",
   "name": "python3"
  },
  "language_info": {
   "codemirror_mode": {
    "name": "ipython",
    "version": 3
   },
   "file_extension": ".py",
   "mimetype": "text/x-python",
   "name": "python",
   "nbconvert_exporter": "python",
   "pygments_lexer": "ipython3",
   "version": "3.11.6"
  }
 },
 "nbformat": 4,
 "nbformat_minor": 5
}
