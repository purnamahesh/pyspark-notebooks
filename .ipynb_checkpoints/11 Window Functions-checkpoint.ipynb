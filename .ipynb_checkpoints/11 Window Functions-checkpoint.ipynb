{
 "cells": [
  {
   "cell_type": "code",
   "execution_count": 1,
   "id": "69872a09-da0c-45bd-b1b2-29399ea501a7",
   "metadata": {},
   "outputs": [],
   "source": [
    "from pyspark.sql import SparkSession\n",
    "from pyspark.sql.types import *\n",
    "from pyspark.sql.functions import *"
   ]
  },
  {
   "cell_type": "code",
   "execution_count": 2,
   "id": "53cffbff-1685-4c10-a815-fbc3b051b3ba",
   "metadata": {},
   "outputs": [],
   "source": [
    "spark = SparkSession.builder.appName('window functions').master('local[*]').getOrCreate()"
   ]
  },
  {
   "cell_type": "code",
   "execution_count": 3,
   "id": "d7ab7e84-d671-406a-97bc-70f47460369e",
   "metadata": {},
   "outputs": [],
   "source": [
    "emp_df = spark.read.csv('file:///home/jovyan/work/HR-Dataset/core_dataset.csv',header=True,inferSchema=True)"
   ]
  },
  {
   "cell_type": "code",
   "execution_count": 4,
   "id": "148cecf6-157e-474e-88b4-a49cea2e9751",
   "metadata": {},
   "outputs": [],
   "source": [
    "emp_df.createOrReplaceTempView('emp_tbl')"
   ]
  },
  {
   "cell_type": "code",
   "execution_count": 23,
   "id": "da63177f-6b3a-4d62-bb28-eb27705f8a57",
   "metadata": {},
   "outputs": [
    {
     "name": "stdout",
     "output_type": "stream",
     "text": [
      "+--------------------+---------------+--------+----------------+---------+\n",
      "|       Employee Name|Employee Number|Pay Rate|      Department|dept_rank|\n",
      "+--------------------+---------------+--------+----------------+---------+\n",
      "|                NULL|           NULL|    NULL|            NULL|        1|\n",
      "| LeBlanc, Brandon  R|     1102024115|    55.0|   Admin Offices|        1|\n",
      "|         Quinn, Sean|     1206043417|    55.0|   Admin Offices|        1|\n",
      "|   Boutwell, Bonalyn|     1307060188|   34.95|   Admin Offices|        2|\n",
      "|   Foster-Baker, Amy|     1201031308|   34.95|   Admin Offices|        2|\n",
      "|    Steans, Tyrone  |     1302053333|    29.0|   Admin Offices|        3|\n",
      "|          Brown, Mia|     1103024456|    28.5|   Admin Offices|        4|\n",
      "|LaRotonda, William  |     1106026572|    23.0|   Admin Offices|        5|\n",
      "|     Howard, Estelle|     1211050782|    21.5|   Admin Offices|        6|\n",
      "|    Smith, Leigh Ann|      711007713|    20.5|   Admin Offices|        7|\n",
      "|         Singh, Nan |     1307059817|   16.56|   Admin Offices|        8|\n",
      "|         King, Janet|     1001495124|    80.0|Executive Office|        1|\n",
      "|    Zamora, Jennifer|     1112030816|    65.0|           IT/IS|        1|\n",
      "|         Foss, Jason|     1192991000|    65.0|           IT/IS|        1|\n",
      "|       Dougall, Eric|     1101023754|    64.0|           IT/IS|        2|\n",
      "|       Monroe, Peter|     1011022863|    63.0|           IT/IS|        3|\n",
      "|          Roup,Simon|     1106026933|    62.0|           IT/IS|        4|\n",
      "|Ait Sidi, Karthik...|     1307060199|    62.0|           IT/IS|        4|\n",
      "|    Carr, Claudia  N|     1010022337|    61.3|           IT/IS|        5|\n",
      "|    Roehrich, Bianca|     1111030266|    58.5|           IT/IS|        6|\n",
      "+--------------------+---------------+--------+----------------+---------+\n",
      "only showing top 20 rows\n",
      "\n"
     ]
    }
   ],
   "source": [
    "spark.sql('''\n",
    "select `Employee Name`, `Employee Number`, `Pay Rate`, Department,\n",
    "-- rank() over (order by `Pay Rate` desc) as pay_rank,\n",
    "-- dense_rank() over (order by `Pay Rate` desc) as pay_dense_rank,\n",
    "-- row_number() over (order by `Pay Rate` desc) as row_num,\n",
    "dense_rank() over (partition by department order by `Pay Rate` desc) as dept_rank\n",
    "from emp_tbl\n",
    "order by department, `Pay Rate` desc\n",
    "''').show()"
   ]
  },
  {
   "cell_type": "code",
   "execution_count": 24,
   "id": "7f2a1a86-0225-4902-b6e5-e67781fa35d9",
   "metadata": {},
   "outputs": [],
   "source": [
    "from pyspark.sql.window import Window"
   ]
  },
  {
   "cell_type": "code",
   "execution_count": null,
   "id": "851599c5-093c-4cb4-b388-6f1f41afba7a",
   "metadata": {},
   "outputs": [],
   "source": []
  },
  {
   "cell_type": "code",
   "execution_count": 38,
   "id": "e7edf07d-de14-4776-9b48-c25bb950e0ec",
   "metadata": {},
   "outputs": [],
   "source": [
    "window1 = Window.orderBy(col('Pay Rate').desc())\n",
    "window2 = Window.partitionBy('Department').orderBy(col('Pay Rate').desc())"
   ]
  },
  {
   "cell_type": "code",
   "execution_count": 40,
   "id": "d04d5e5c-1ea1-4729-a0ef-6c8a74c96110",
   "metadata": {},
   "outputs": [
    {
     "name": "stdout",
     "output_type": "stream",
     "text": [
      "+--------------------+----------------+--------+--------+--------------+-------------------+\n",
      "|       Employee Name|      Department|Pay Rate|pay_rank|dense_pay_rank|dept_dense_pay_rank|\n",
      "+--------------------+----------------+--------+--------+--------------+-------------------+\n",
      "|                NULL|            NULL|    NULL|     302|            92|                  1|\n",
      "| LeBlanc, Brandon  R|   Admin Offices|    55.0|      27|            18|                  1|\n",
      "|         Quinn, Sean|   Admin Offices|    55.0|      27|            18|                  1|\n",
      "|   Boutwell, Bonalyn|   Admin Offices|   34.95|      89|            48|                  2|\n",
      "|   Foster-Baker, Amy|   Admin Offices|   34.95|      89|            48|                  2|\n",
      "|    Steans, Tyrone  |   Admin Offices|    29.0|      96|            53|                  3|\n",
      "|          Brown, Mia|   Admin Offices|    28.5|     107|            56|                  4|\n",
      "|LaRotonda, William  |   Admin Offices|    23.0|     159|            69|                  5|\n",
      "|     Howard, Estelle|   Admin Offices|    21.5|     195|            72|                  6|\n",
      "|    Smith, Leigh Ann|   Admin Offices|    20.5|     213|            75|                  7|\n",
      "|         Singh, Nan |   Admin Offices|   16.56|     267|            85|                  8|\n",
      "|         King, Janet|Executive Office|    80.0|       1|             1|                  1|\n",
      "|    Zamora, Jennifer|           IT/IS|    65.0|       2|             2|                  1|\n",
      "|         Foss, Jason|           IT/IS|    65.0|       2|             2|                  1|\n",
      "|       Dougall, Eric|           IT/IS|    64.0|       4|             3|                  2|\n",
      "|       Monroe, Peter|           IT/IS|    63.0|       5|             4|                  3|\n",
      "|          Roup,Simon|           IT/IS|    62.0|       6|             5|                  4|\n",
      "|Ait Sidi, Karthik...|           IT/IS|    62.0|       6|             5|                  4|\n",
      "|    Carr, Claudia  N|           IT/IS|    61.3|       8|             6|                  5|\n",
      "|    Roehrich, Bianca|           IT/IS|    58.5|      12|             9|                  6|\n",
      "+--------------------+----------------+--------+--------+--------------+-------------------+\n",
      "only showing top 20 rows\n",
      "\n"
     ]
    }
   ],
   "source": [
    "emp_df.\\\n",
    "withColumn('dense_pay_rank', dense_rank().over(window1)).\\\n",
    "withColumn('pay_rank', rank().over(window1)).\\\n",
    "withColumn('dept_dense_pay_rank', dense_rank().over(window2)).\\\n",
    "select('Employee Name', 'Department', 'Pay Rate', 'pay_rank', 'dense_pay_rank','dept_dense_pay_rank').show()"
   ]
  },
  {
   "cell_type": "code",
   "execution_count": 42,
   "id": "823304f7-6d74-4d11-8176-70d4a074935b",
   "metadata": {},
   "outputs": [
    {
     "name": "stdout",
     "output_type": "stream",
     "text": [
      "+-------------------+--------------------+--------+-------------------+\n",
      "|      Employee Name|          Department|Pay Rate|dept_dense_pay_rank|\n",
      "+-------------------+--------------------+--------+-------------------+\n",
      "|               NULL|                NULL|    NULL|                  1|\n",
      "|LeBlanc, Brandon  R|       Admin Offices|    55.0|                  1|\n",
      "|        Quinn, Sean|       Admin Offices|    55.0|                  1|\n",
      "|        King, Janet|    Executive Office|    80.0|                  1|\n",
      "|   Zamora, Jennifer|               IT/IS|    65.0|                  1|\n",
      "|        Foss, Jason|               IT/IS|    65.0|                  1|\n",
      "|    Bramante, Elisa|   Production       |    60.0|                  1|\n",
      "|Kampew, Donysha    |               Sales|   60.25|                  1|\n",
      "|  Del Bosque, Keyla|Software Engineering|   57.12|                  1|\n",
      "|   Sweetwater, Alex|Software Engineer...|    27.0|                  1|\n",
      "+-------------------+--------------------+--------+-------------------+\n",
      "\n"
     ]
    }
   ],
   "source": [
    "emp_df.\\\n",
    "withColumn('dept_dense_pay_rank', dense_rank().over(window2)).\\\n",
    "select('Employee Name', 'Department', 'Pay Rate', 'dept_dense_pay_rank').\\\n",
    "where(col('dept_dense_pay_rank')==1).\\\n",
    "show()"
   ]
  },
  {
   "cell_type": "code",
   "execution_count": 49,
   "id": "3cb00077-c92a-4d48-a0e1-136b588741a4",
   "metadata": {},
   "outputs": [
    {
     "name": "stdout",
     "output_type": "stream",
     "text": [
      "+--------------------+---------------+--------+----------------+-----+-----+------------------+\n",
      "|       Employee Name|Employee Number|Pay Rate|      Department| last| lead|           cum_sum|\n",
      "+--------------------+---------------+--------+----------------+-----+-----+------------------+\n",
      "|                NULL|           NULL|    NULL|            NULL| 14.0| NULL|              NULL|\n",
      "|         Singh, Nan |     1307059817|   16.56|   Admin Offices|16.75| 16.0|             16.56|\n",
      "|    Smith, Leigh Ann|      711007713|    20.5|   Admin Offices| 21.0| 20.0|             37.06|\n",
      "|     Howard, Estelle|     1211050782|    21.5|   Admin Offices| 22.0|21.25|             58.56|\n",
      "|LaRotonda, William  |     1106026572|    23.0|   Admin Offices| 23.5| 23.0|             81.56|\n",
      "|          Brown, Mia|     1103024456|    28.5|   Admin Offices|28.75| 28.0|            110.06|\n",
      "|    Steans, Tyrone  |     1302053333|    29.0|   Admin Offices| 30.2| 29.0|            139.06|\n",
      "|   Boutwell, Bonalyn|     1307060188|   34.95|   Admin Offices| 35.5|34.95|208.95999999999998|\n",
      "|   Foster-Baker, Amy|     1201031308|   34.95|   Admin Offices|34.95| 34.0|208.95999999999998|\n",
      "| LeBlanc, Brandon  R|     1102024115|    55.0|   Admin Offices| 55.2| 55.0|            318.96|\n",
      "|         Quinn, Sean|     1206043417|    55.0|   Admin Offices| 55.0| 55.0|            318.96|\n",
      "|         King, Janet|     1001495124|    80.0|Executive Office| NULL| 65.0|              80.0|\n",
      "|       Ruiz, Ricardo|     1001175250|    21.0|           IT/IS|21.25| 21.0|              21.0|\n",
      "|   Lindsay, Leonara |      602000312|    26.0|           IT/IS| 26.1| 26.0|              47.0|\n",
      "|       Morway, Tanya|     1001956578|    27.0|           IT/IS|27.49| 27.0|              74.0|\n",
      "|        Soto, Julia |     1203032263|   27.49|           IT/IS| 28.0| 27.0|            101.49|\n",
      "|Tredinnick, Neville |     1104025466|    28.0|           IT/IS| 28.5| 28.0|            129.49|\n",
      "|       Clayton, Rick|     1301052902|   28.99|           IT/IS| 29.0|28.75|158.48000000000002|\n",
      "|      Simard, Kramer|      808010278|    30.2|           IT/IS| 31.4| 29.0|            188.68|\n",
      "|         Zhou, Julia|     1110029732|    31.4|           IT/IS| 33.5| 31.4|251.48000000000002|\n",
      "+--------------------+---------------+--------+----------------+-----+-----+------------------+\n",
      "only showing top 20 rows\n",
      "\n"
     ]
    }
   ],
   "source": [
    "spark.sql('''\n",
    "select `Employee Name`, `Employee Number`, `Pay Rate`, Department,\n",
    "lag(`Pay Rate`) over (order by `Pay Rate` desc) as last,\n",
    "lead(`Pay Rate`) over (order by `Pay Rate` desc) as lead,\n",
    "sum(`Pay Rate`) over (partition by department order by `Pay Rate`) cum_sum\n",
    "from emp_tbl\n",
    "-- order by department, `Pay Rate` desc\n",
    "''').show()"
   ]
  },
  {
   "cell_type": "code",
   "execution_count": null,
   "id": "a8b22c45-5017-4a0a-b61f-758f163d3a1e",
   "metadata": {},
   "outputs": [],
   "source": []
  }
 ],
 "metadata": {
  "kernelspec": {
   "display_name": "Python 3 (ipykernel)",
   "language": "python",
   "name": "python3"
  },
  "language_info": {
   "codemirror_mode": {
    "name": "ipython",
    "version": 3
   },
   "file_extension": ".py",
   "mimetype": "text/x-python",
   "name": "python",
   "nbconvert_exporter": "python",
   "pygments_lexer": "ipython3",
   "version": "3.11.6"
  }
 },
 "nbformat": 4,
 "nbformat_minor": 5
}
