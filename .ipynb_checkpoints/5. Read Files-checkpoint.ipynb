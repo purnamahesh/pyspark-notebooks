{
 "cells": [
  {
   "cell_type": "code",
   "execution_count": 1,
   "id": "bcffea3b-82d5-4a99-949c-4368b1d5e713",
   "metadata": {},
   "outputs": [],
   "source": [
    "from pyspark.sql import SparkSession\n",
    "from pyspark.sql.types import *\n",
    "from pyspark.sql.functions import *"
   ]
  },
  {
   "cell_type": "code",
   "execution_count": 3,
   "id": "b9c40046-7f24-40ae-b47c-6172f25f4c11",
   "metadata": {},
   "outputs": [],
   "source": [
    "spark = SparkSession.builder.appName('Read Files').master('local[*]').getOrCreate()"
   ]
  },
  {
   "cell_type": "code",
   "execution_count": 4,
   "id": "db0fa2fe-7b5a-41d1-b48a-e1ab4bdbbd8c",
   "metadata": {},
   "outputs": [
    {
     "name": "stdout",
     "output_type": "stream",
     "text": [
      "+--------------------+---------------+-----+----------+----------+---+------+-----------+-------------------+---------------+--------------------+------------+-------------------+--------------------+--------------------+----------------+--------------------+--------+------------------+--------------------+--------------------+\n",
      "|       Employee Name|Employee Number|State|       Zip|       DOB|Age|   Sex|MaritalDesc|        CitizenDesc|Hispanic/Latino|            RaceDesc|Date of Hire|Date of Termination|     Reason For Term|   Employment Status|      Department|            Position|Pay Rate|      Manager Name|     Employee Source|   Performance Score|\n",
      "+--------------------+---------------+-----+----------+----------+---+------+-----------+-------------------+---------------+--------------------+------------+-------------------+--------------------+--------------------+----------------+--------------------+--------+------------------+--------------------+--------------------+\n",
      "|          Brown, Mia|     1103024456|   MA|     01450|11/24/1985| 32|Female|    Married|         US Citizen|             No|Black or African ...|  10/27/2008|               NULL|N/A - still employed|              Active|   Admin Offices|        Accountant I|   28.50|Brandon R. LeBlanc|  Diversity Job Fair|         Fully Meets|\n",
      "|LaRotonda, William  |     1106026572|   MA|     01460| 4/26/1984| 33|  Male|   Divorced|         US Citizen|             No|Black or African ...|    1/6/2014|               NULL|N/A - still employed|              Active|   Admin Offices|        Accountant I|   23.00|Brandon R. LeBlanc|  Website Banner Ads|         Fully Meets|\n",
      "|    Steans, Tyrone  |     1302053333|   MA|02703     |  9/1/1986| 31|  Male|     Single|         US Citizen|             No|               White|   9/29/2014|               NULL|N/A - still employed|              Active|   Admin Offices|        Accountant I|   29.00|Brandon R. LeBlanc|     Internet Search|         Fully Meets|\n",
      "|     Howard, Estelle|     1211050782|   MA|     02170| 9/16/1985| 32|Female|    Married|         US Citizen|             No|               White|   2/16/2015|          4/15/2015|N/A - still employed|              Active|   Admin Offices|Administrative As...|   21.50|Brandon R. LeBlanc|Pay Per Click - G...|N/A- too early to...|\n",
      "|         Singh, Nan |     1307059817|   MA|02330     | 5/19/1988| 29|Female|     Single|         US Citizen|             No|               White|    5/1/2015|               NULL|N/A - still employed|              Active|   Admin Offices|Administrative As...|   16.56|Brandon R. LeBlanc|  Website Banner Ads|N/A- too early to...|\n",
      "|    Smith, Leigh Ann|     0711007713|   MA|01844     | 6/14/1987| 30|Female|    Married|         US Citizen|             No|               Asian|   9/26/2011|          9/25/2013|       career change|Voluntarily Termi...|   Admin Offices|Administrative As...|   20.50|Brandon R. LeBlanc|  Diversity Job Fair|         Fully Meets|\n",
      "| LeBlanc, Brandon  R|     1102024115|   MA|     01460| 6/10/1984| 33|  Male|    Married|         US Citizen|             No|               White|    1/5/2016|               NULL|N/A - still employed|              Active|   Admin Offices|Shared Services M...|   55.00|        Janet King|         Monster.com|         Fully Meets|\n",
      "|         Quinn, Sean|     1206043417|   MA|     02045| 11/6/1984| 33|  Male|    Married|Eligible NonCitizen|             No|Black or African ...|   2/21/2011|          8/15/2015|       career change|Voluntarily Termi...|   Admin Offices|Shared Services M...|   55.00|        Janet King|  Diversity Job Fair|         Fully Meets|\n",
      "|   Boutwell, Bonalyn|     1307060188|   MA|     02468|  4/4/1987| 30|Female|    Married|         US Citizen|             No|               Asian|   2/16/2015|               NULL|N/A - still employed|              Active|   Admin Offices|      Sr. Accountant|   34.95|Brandon R. LeBlanc|  Diversity Job Fair|        90-day meets|\n",
      "|   Foster-Baker, Amy|     1201031308|   MA|02050     | 4/16/1979| 38|Female|    Married|         US Citizen|             no|               White|    1/5/2009|               NULL|N/A - still employed|              Active|   Admin Offices|      Sr. Accountant|   34.95|Board of Directors|               Other|         Fully Meets|\n",
      "|         King, Janet|     1001495124|   MA|01902     | 9/21/1954| 63|Female|    Married|         US Citizen|            Yes|               White|    7/2/2012|               NULL|N/A - still employed|              Active|Executive Office|     President & CEO|   80.00|Board of Directors|Pay Per Click - G...|         Fully Meets|\n",
      "|    Zamora, Jennifer|     1112030816|   MA|02067     | 8/30/1979| 38|Female|     Single|         US Citizen|             No|               White|   4/10/2010|               NULL|N/A - still employed|              Active|           IT/IS|                 CIO|   65.00|        Janet King|   Employee Referral|         Exceptional|\n",
      "|       Becker, Renee|     1102024056|   MA|02026     |  4/4/1986| 31|Female|     Single|         US Citizen|            Yes|               White|    7/7/2014|          9/12/2015|         performance|Terminated for Cause|           IT/IS|Database Administ...|   43.00|        Simon Roup|Search Engine - G...|         Fully Meets|\n",
      "|       Goble, Taisha|     0905013738|   MA|02127     |10/23/1971| 46|Female|     Single|         US Citizen|             No|               White|   2/16/2015|          3/15/2015|    no-call, no-show|Terminated for Cause|           IT/IS|Database Administ...|   48.50|        Simon Roup|           Glassdoor|         Fully Meets|\n",
      "|   Hernandez, Daniff|     1410071156|   MA|01960     |  8/7/1986| 31|  Male|    Married|         US Citizen|             No|Black or African ...|   2/16/2015|          2/22/2015|    no-call, no-show|Terminated for Cause|           IT/IS|Database Administ...|   40.10|        Simon Roup|   Employee Referral|N/A- too early to...|\n",
      "|       Horton, Jayne|     1105025718|   MA|     02493| 2/21/1984| 33|Female|     Single|         US Citizen|             No|               White|   3/30/2015|               NULL|N/A - still employed|              Active|           IT/IS|Database Administ...|   34.00|        Simon Roup|           Glassdoor|N/A- too early to...|\n",
      "|    Johnson, Noelle |     1003018246|   MA|02301     | 11/7/1986| 31|Female|    Married|         US Citizen|             No|               Asian|    1/5/2015|               NULL|N/A - still employed|    Leave of Absence|           IT/IS|Database Administ...|   40.00|        Simon Roup|           Glassdoor|        90-day meets|\n",
      "|      Murray, Thomas|     1406068403|   TX|78230     |  7/4/1988| 29|  Male|   Divorced|         US Citizen|             No|Black or African ...|  11/10/2014|               NULL|N/A - still employed|              Active|           IT/IS|Database Administ...|   35.50|        Simon Roup|  Diversity Job Fair|         Exceptional|\n",
      "|    Pearson, Randall|     1102023965|   MA|02747     |  9/5/1984| 33|  Male|    Married|         US Citizen|             No|               White|   12/1/2014|           5/1/2016|         performance|Voluntarily Termi...|           IT/IS|Database Administ...|   41.00|        Simon Roup|   Employee Referral|         Fully Meets|\n",
      "|   Petrowsky, Thelma|     1108027853|   MA|     01886| 9/16/1984| 33|Female|    Married|         US Citizen|             No|               Asian|  11/10/2014|               NULL|N/A - still employed|              Active|           IT/IS|Database Administ...|   42.75|        Simon Roup|   Employee Referral|         Exceptional|\n",
      "+--------------------+---------------+-----+----------+----------+---+------+-----------+-------------------+---------------+--------------------+------------+-------------------+--------------------+--------------------+----------------+--------------------+--------+------------------+--------------------+--------------------+\n",
      "only showing top 20 rows\n",
      "\n"
     ]
    }
   ],
   "source": [
    "spark.read.csv('HR-Dataset/core_dataset.csv',header=True).show()"
   ]
  },
  {
   "cell_type": "code",
   "execution_count": 5,
   "id": "64c25270-ae3d-4962-acdd-cefea20f38fb",
   "metadata": {},
   "outputs": [
    {
     "data": {
      "text/plain": [
       "[('Employee Name', 'string'),\n",
       " ('Employee Number', 'int'),\n",
       " ('State', 'string'),\n",
       " ('Zip', 'double'),\n",
       " ('DOB', 'string'),\n",
       " ('Age', 'int'),\n",
       " ('Sex', 'string'),\n",
       " ('MaritalDesc', 'string'),\n",
       " ('CitizenDesc', 'string'),\n",
       " ('Hispanic/Latino', 'string'),\n",
       " ('RaceDesc', 'string'),\n",
       " ('Date of Hire', 'string'),\n",
       " ('Date of Termination', 'string'),\n",
       " ('Reason For Term', 'string'),\n",
       " ('Employment Status', 'string'),\n",
       " ('Department', 'string'),\n",
       " ('Position', 'string'),\n",
       " ('Pay Rate', 'double'),\n",
       " ('Manager Name', 'string'),\n",
       " ('Employee Source', 'string'),\n",
       " ('Performance Score', 'string')]"
      ]
     },
     "execution_count": 5,
     "metadata": {},
     "output_type": "execute_result"
    }
   ],
   "source": [
    "spark.read.option('header','true').csv('HR-Dataset/core_dataset.csv',inferSchema=True).dtypes"
   ]
  },
  {
   "cell_type": "code",
   "execution_count": 6,
   "id": "4b0a0d7f-74d7-4856-b356-5232c35a517a",
   "metadata": {},
   "outputs": [
    {
     "name": "stdout",
     "output_type": "stream",
     "text": [
      "+--------------------+---------------+-----+----------+----------+---+------+-----------+-------------------+---------------+--------------------+------------+-------------------+--------------------+--------------------+----------------+--------------------+--------+------------------+--------------------+--------------------+\n",
      "|       Employee Name|Employee Number|State|       Zip|       DOB|Age|   Sex|MaritalDesc|        CitizenDesc|Hispanic/Latino|            RaceDesc|Date of Hire|Date of Termination|     Reason For Term|   Employment Status|      Department|            Position|Pay Rate|      Manager Name|     Employee Source|   Performance Score|\n",
      "+--------------------+---------------+-----+----------+----------+---+------+-----------+-------------------+---------------+--------------------+------------+-------------------+--------------------+--------------------+----------------+--------------------+--------+------------------+--------------------+--------------------+\n",
      "|          Brown, Mia|     1103024456|   MA|     01450|11/24/1985| 32|Female|    Married|         US Citizen|             No|Black or African ...|  10/27/2008|               NULL|N/A - still employed|              Active|   Admin Offices|        Accountant I|   28.50|Brandon R. LeBlanc|  Diversity Job Fair|         Fully Meets|\n",
      "|LaRotonda, William  |     1106026572|   MA|     01460| 4/26/1984| 33|  Male|   Divorced|         US Citizen|             No|Black or African ...|    1/6/2014|               NULL|N/A - still employed|              Active|   Admin Offices|        Accountant I|   23.00|Brandon R. LeBlanc|  Website Banner Ads|         Fully Meets|\n",
      "|    Steans, Tyrone  |     1302053333|   MA|02703     |  9/1/1986| 31|  Male|     Single|         US Citizen|             No|               White|   9/29/2014|               NULL|N/A - still employed|              Active|   Admin Offices|        Accountant I|   29.00|Brandon R. LeBlanc|     Internet Search|         Fully Meets|\n",
      "|     Howard, Estelle|     1211050782|   MA|     02170| 9/16/1985| 32|Female|    Married|         US Citizen|             No|               White|   2/16/2015|          4/15/2015|N/A - still employed|              Active|   Admin Offices|Administrative As...|   21.50|Brandon R. LeBlanc|Pay Per Click - G...|N/A- too early to...|\n",
      "|         Singh, Nan |     1307059817|   MA|02330     | 5/19/1988| 29|Female|     Single|         US Citizen|             No|               White|    5/1/2015|               NULL|N/A - still employed|              Active|   Admin Offices|Administrative As...|   16.56|Brandon R. LeBlanc|  Website Banner Ads|N/A- too early to...|\n",
      "|    Smith, Leigh Ann|     0711007713|   MA|01844     | 6/14/1987| 30|Female|    Married|         US Citizen|             No|               Asian|   9/26/2011|          9/25/2013|       career change|Voluntarily Termi...|   Admin Offices|Administrative As...|   20.50|Brandon R. LeBlanc|  Diversity Job Fair|         Fully Meets|\n",
      "| LeBlanc, Brandon  R|     1102024115|   MA|     01460| 6/10/1984| 33|  Male|    Married|         US Citizen|             No|               White|    1/5/2016|               NULL|N/A - still employed|              Active|   Admin Offices|Shared Services M...|   55.00|        Janet King|         Monster.com|         Fully Meets|\n",
      "|         Quinn, Sean|     1206043417|   MA|     02045| 11/6/1984| 33|  Male|    Married|Eligible NonCitizen|             No|Black or African ...|   2/21/2011|          8/15/2015|       career change|Voluntarily Termi...|   Admin Offices|Shared Services M...|   55.00|        Janet King|  Diversity Job Fair|         Fully Meets|\n",
      "|   Boutwell, Bonalyn|     1307060188|   MA|     02468|  4/4/1987| 30|Female|    Married|         US Citizen|             No|               Asian|   2/16/2015|               NULL|N/A - still employed|              Active|   Admin Offices|      Sr. Accountant|   34.95|Brandon R. LeBlanc|  Diversity Job Fair|        90-day meets|\n",
      "|   Foster-Baker, Amy|     1201031308|   MA|02050     | 4/16/1979| 38|Female|    Married|         US Citizen|             no|               White|    1/5/2009|               NULL|N/A - still employed|              Active|   Admin Offices|      Sr. Accountant|   34.95|Board of Directors|               Other|         Fully Meets|\n",
      "|         King, Janet|     1001495124|   MA|01902     | 9/21/1954| 63|Female|    Married|         US Citizen|            Yes|               White|    7/2/2012|               NULL|N/A - still employed|              Active|Executive Office|     President & CEO|   80.00|Board of Directors|Pay Per Click - G...|         Fully Meets|\n",
      "|    Zamora, Jennifer|     1112030816|   MA|02067     | 8/30/1979| 38|Female|     Single|         US Citizen|             No|               White|   4/10/2010|               NULL|N/A - still employed|              Active|           IT/IS|                 CIO|   65.00|        Janet King|   Employee Referral|         Exceptional|\n",
      "|       Becker, Renee|     1102024056|   MA|02026     |  4/4/1986| 31|Female|     Single|         US Citizen|            Yes|               White|    7/7/2014|          9/12/2015|         performance|Terminated for Cause|           IT/IS|Database Administ...|   43.00|        Simon Roup|Search Engine - G...|         Fully Meets|\n",
      "|       Goble, Taisha|     0905013738|   MA|02127     |10/23/1971| 46|Female|     Single|         US Citizen|             No|               White|   2/16/2015|          3/15/2015|    no-call, no-show|Terminated for Cause|           IT/IS|Database Administ...|   48.50|        Simon Roup|           Glassdoor|         Fully Meets|\n",
      "|   Hernandez, Daniff|     1410071156|   MA|01960     |  8/7/1986| 31|  Male|    Married|         US Citizen|             No|Black or African ...|   2/16/2015|          2/22/2015|    no-call, no-show|Terminated for Cause|           IT/IS|Database Administ...|   40.10|        Simon Roup|   Employee Referral|N/A- too early to...|\n",
      "|       Horton, Jayne|     1105025718|   MA|     02493| 2/21/1984| 33|Female|     Single|         US Citizen|             No|               White|   3/30/2015|               NULL|N/A - still employed|              Active|           IT/IS|Database Administ...|   34.00|        Simon Roup|           Glassdoor|N/A- too early to...|\n",
      "|    Johnson, Noelle |     1003018246|   MA|02301     | 11/7/1986| 31|Female|    Married|         US Citizen|             No|               Asian|    1/5/2015|               NULL|N/A - still employed|    Leave of Absence|           IT/IS|Database Administ...|   40.00|        Simon Roup|           Glassdoor|        90-day meets|\n",
      "|      Murray, Thomas|     1406068403|   TX|78230     |  7/4/1988| 29|  Male|   Divorced|         US Citizen|             No|Black or African ...|  11/10/2014|               NULL|N/A - still employed|              Active|           IT/IS|Database Administ...|   35.50|        Simon Roup|  Diversity Job Fair|         Exceptional|\n",
      "|    Pearson, Randall|     1102023965|   MA|02747     |  9/5/1984| 33|  Male|    Married|         US Citizen|             No|               White|   12/1/2014|           5/1/2016|         performance|Voluntarily Termi...|           IT/IS|Database Administ...|   41.00|        Simon Roup|   Employee Referral|         Fully Meets|\n",
      "|   Petrowsky, Thelma|     1108027853|   MA|     01886| 9/16/1984| 33|Female|    Married|         US Citizen|             No|               Asian|  11/10/2014|               NULL|N/A - still employed|              Active|           IT/IS|Database Administ...|   42.75|        Simon Roup|   Employee Referral|         Exceptional|\n",
      "+--------------------+---------------+-----+----------+----------+---+------+-----------+-------------------+---------------+--------------------+------------+-------------------+--------------------+--------------------+----------------+--------------------+--------+------------------+--------------------+--------------------+\n",
      "only showing top 20 rows\n",
      "\n"
     ]
    }
   ],
   "source": [
    "spark.read.option('header','true').format('csv').load('./HR-Dataset/core_dataset.csv').show()"
   ]
  },
  {
   "cell_type": "code",
   "execution_count": 7,
   "id": "0e036465-517b-4318-a92e-e09980372018",
   "metadata": {},
   "outputs": [
    {
     "data": {
      "text/plain": [
       "[('Employee Name', 'string'),\n",
       " ('Employee Number', 'int'),\n",
       " ('State', 'string'),\n",
       " ('Zip', 'double'),\n",
       " ('DOB', 'string'),\n",
       " ('Age', 'int'),\n",
       " ('Sex', 'string'),\n",
       " ('MaritalDesc', 'string'),\n",
       " ('CitizenDesc', 'string'),\n",
       " ('Hispanic/Latino', 'string'),\n",
       " ('RaceDesc', 'string'),\n",
       " ('Date of Hire', 'string'),\n",
       " ('Date of Termination', 'string'),\n",
       " ('Reason For Term', 'string'),\n",
       " ('Employment Status', 'string'),\n",
       " ('Department', 'string'),\n",
       " ('Position', 'string'),\n",
       " ('Pay Rate', 'double'),\n",
       " ('Manager Name', 'string'),\n",
       " ('Employee Source', 'string'),\n",
       " ('Performance Score', 'string')]"
      ]
     },
     "execution_count": 7,
     "metadata": {},
     "output_type": "execute_result"
    }
   ],
   "source": [
    "spark.read.option('header','true').option('inferSchema','true').format('csv').load('./HR-Dataset/core_dataset.csv').dtypes"
   ]
  },
  {
   "cell_type": "code",
   "execution_count": null,
   "id": "b7459415-cea6-44d0-b9b5-9b48a5830a2b",
   "metadata": {},
   "outputs": [],
   "source": []
  }
 ],
 "metadata": {
  "kernelspec": {
   "display_name": "Python 3 (ipykernel)",
   "language": "python",
   "name": "python3"
  },
  "language_info": {
   "codemirror_mode": {
    "name": "ipython",
    "version": 3
   },
   "file_extension": ".py",
   "mimetype": "text/x-python",
   "name": "python",
   "nbconvert_exporter": "python",
   "pygments_lexer": "ipython3",
   "version": "3.11.6"
  }
 },
 "nbformat": 4,
 "nbformat_minor": 5
}
