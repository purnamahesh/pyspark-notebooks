{
 "cells": [
  {
   "cell_type": "code",
   "execution_count": 1,
   "id": "687ff96c-2df0-43b7-9ba6-b47fc06ed4df",
   "metadata": {},
   "outputs": [],
   "source": [
    "from pyspark.sql import SparkSession\n",
    "from pyspark.sql.types import *\n",
    "from pyspark.sql.functions import *"
   ]
  },
  {
   "cell_type": "code",
   "execution_count": 2,
   "id": "3fda960b-2991-4bdb-b658-dc65f79bc004",
   "metadata": {},
   "outputs": [],
   "source": [
    "spark = SparkSession.builder.appName('UDF').master('local[*]').getOrCreate()"
   ]
  },
  {
   "cell_type": "code",
   "execution_count": 3,
   "id": "e43de67d-7a5b-480e-a313-eaebf8f2c47f",
   "metadata": {},
   "outputs": [],
   "source": [
    "emp_df = spark.read.csv('file:///home/jovyan/work/HR-Dataset/core_dataset.csv',header=True,inferSchema=True)"
   ]
  },
  {
   "cell_type": "code",
   "execution_count": null,
   "id": "1e889881-a106-47ed-8d54-ed536f0ae8f3",
   "metadata": {},
   "outputs": [],
   "source": []
  },
  {
   "cell_type": "markdown",
   "id": "37f9486a-0238-4afd-a00d-2a620753e4b1",
   "metadata": {},
   "source": [
    "### User Defined Function"
   ]
  },
  {
   "cell_type": "code",
   "execution_count": 71,
   "id": "17dc82ed-a828-435e-85ce-d4e6575b017d",
   "metadata": {},
   "outputs": [
    {
     "name": "stdout",
     "output_type": "stream",
     "text": [
      "+----------+\n",
      "|first_name|\n",
      "+----------+\n",
      "|     Brown|\n",
      "| LaRotonda|\n",
      "|    Steans|\n",
      "|    Howard|\n",
      "|     Singh|\n",
      "+----------+\n",
      "only showing top 5 rows\n",
      "\n"
     ]
    }
   ],
   "source": [
    "emp_df.withColumn('first_name', split(col('Employee Name'),', ').getItem(0)).select('first_name').show(5)"
   ]
  },
  {
   "cell_type": "code",
   "execution_count": 12,
   "id": "cf06b79f-63ac-4ee9-b329-e425217bf404",
   "metadata": {},
   "outputs": [
    {
     "name": "stdout",
     "output_type": "stream",
     "text": [
      "+----+\n",
      "|   a|\n",
      "+----+\n",
      "|0099|\n",
      "|0200|\n",
      "|0999|\n",
      "|1000|\n",
      "+----+\n",
      "\n"
     ]
    }
   ],
   "source": [
    "spark.sql('''\n",
    "select * from (\n",
    "    select CAST(1000 AS STRING) a\n",
    "    union \n",
    "    select CAST('0999' AS STRING) \n",
    "    union \n",
    "    select CAST('0200' AS STRING) \n",
    "    union \n",
    "    select CAST('0099' AS STRING) \n",
    ")\n",
    "order by a\n",
    "''').show()"
   ]
  },
  {
   "cell_type": "code",
   "execution_count": 5,
   "id": "bc4d67e5-ccd4-4e55-8dec-3806fca213df",
   "metadata": {},
   "outputs": [],
   "source": [
    "@udf(returnType=StringType())\n",
    "def pad_zeros(val, n):\n",
    "    return str(val).rjust(n, '0')"
   ]
  },
  {
   "cell_type": "code",
   "execution_count": null,
   "id": "9bb32f1b-4d63-483c-b0b8-e2048d290e5b",
   "metadata": {},
   "outputs": [],
   "source": []
  },
  {
   "cell_type": "code",
   "execution_count": 6,
   "id": "f39b6cd0-ec6e-481a-a617-5a7b1d77eece",
   "metadata": {},
   "outputs": [
    {
     "name": "stdout",
     "output_type": "stream",
     "text": [
      "+------+-------+\n",
      "|   Zip|new_zip|\n",
      "+------+-------+\n",
      "|1450.0|01450.0|\n",
      "|1460.0|01460.0|\n",
      "|2703.0|02703.0|\n",
      "|2170.0|02170.0|\n",
      "|2330.0|02330.0|\n",
      "+------+-------+\n",
      "only showing top 5 rows\n",
      "\n"
     ]
    }
   ],
   "source": [
    "emp_df.withColumn('new_zip', pad_zeros(col('Zip'), lit(7))).select('Zip','new_zip').show(5)"
   ]
  },
  {
   "cell_type": "code",
   "execution_count": 7,
   "id": "43b996e0-2601-42f4-b2c9-765fb0476d9f",
   "metadata": {},
   "outputs": [],
   "source": [
    "emp_df.createOrReplaceTempView('emp_tbl')"
   ]
  },
  {
   "cell_type": "code",
   "execution_count": 8,
   "id": "cf02f7f2-5a93-48ab-905e-293e1dc76a3e",
   "metadata": {},
   "outputs": [
    {
     "data": {
      "text/plain": [
       "<pyspark.sql.udf.UserDefinedFunction at 0x7f212ca80ad0>"
      ]
     },
     "execution_count": 8,
     "metadata": {},
     "output_type": "execute_result"
    }
   ],
   "source": [
    "spark.udf.register('pad_zeroes',pad_zeros)"
   ]
  },
  {
   "cell_type": "code",
   "execution_count": 9,
   "id": "d2693e3e-4291-41f7-95b5-530670a8f394",
   "metadata": {},
   "outputs": [
    {
     "name": "stdout",
     "output_type": "stream",
     "text": [
      "+------------------+-------------------+\n",
      "|pad_zeroes(Age, 5)|pad_zeroes(Age, 10)|\n",
      "+------------------+-------------------+\n",
      "|             00032|         0000000032|\n",
      "|             00033|         0000000033|\n",
      "|             00031|         0000000031|\n",
      "|             00032|         0000000032|\n",
      "|             00029|         0000000029|\n",
      "|             00030|         0000000030|\n",
      "|             00033|         0000000033|\n",
      "|             00033|         0000000033|\n",
      "|             00030|         0000000030|\n",
      "|             00038|         0000000038|\n",
      "|             00063|         0000000063|\n",
      "|             00038|         0000000038|\n",
      "|             00031|         0000000031|\n",
      "|             00046|         0000000046|\n",
      "|             00031|         0000000031|\n",
      "|             00033|         0000000033|\n",
      "|             00031|         0000000031|\n",
      "|             00029|         0000000029|\n",
      "|             00033|         0000000033|\n",
      "|             00033|         0000000033|\n",
      "+------------------+-------------------+\n",
      "only showing top 20 rows\n",
      "\n"
     ]
    }
   ],
   "source": [
    "spark.sql('''\n",
    "select pad_zeroes(Age,5), pad_zeroes(Age,10) from emp_tbl\n",
    "''').show()"
   ]
  },
  {
   "cell_type": "code",
   "execution_count": 42,
   "id": "26555e46-39e2-4990-bf4f-7f53c3760b1e",
   "metadata": {},
   "outputs": [],
   "source": [
    "# spark.stop()"
   ]
  },
  {
   "cell_type": "code",
   "execution_count": 60,
   "id": "be3cf920-d72a-44ba-9bea-76cc9aba8845",
   "metadata": {},
   "outputs": [
    {
     "data": {
      "text/plain": [
       "'0000000099'"
      ]
     },
     "execution_count": 60,
     "metadata": {},
     "output_type": "execute_result"
    }
   ],
   "source": [
    "'99'.rjust(10,'0')"
   ]
  },
  {
   "cell_type": "code",
   "execution_count": null,
   "id": "54a8e6e8-f9ad-4c59-94a3-ebc7d0f3ca82",
   "metadata": {},
   "outputs": [],
   "source": []
  }
 ],
 "metadata": {
  "kernelspec": {
   "display_name": "Python 3 (ipykernel)",
   "language": "python",
   "name": "python3"
  },
  "language_info": {
   "codemirror_mode": {
    "name": "ipython",
    "version": 3
   },
   "file_extension": ".py",
   "mimetype": "text/x-python",
   "name": "python",
   "nbconvert_exporter": "python",
   "pygments_lexer": "ipython3",
   "version": "3.11.6"
  }
 },
 "nbformat": 4,
 "nbformat_minor": 5
}
