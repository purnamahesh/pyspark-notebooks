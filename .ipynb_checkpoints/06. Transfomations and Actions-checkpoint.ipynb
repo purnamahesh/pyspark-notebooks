{
 "cells": [
  {
   "cell_type": "code",
   "execution_count": 70,
   "id": "a9bee87e-8980-4fb4-b3dd-bcffd737f91d",
   "metadata": {},
   "outputs": [],
   "source": [
    "from pyspark.sql import SparkSession\n",
    "from pyspark.sql.types import *\n",
    "from pyspark.sql.functions import *"
   ]
  },
  {
   "cell_type": "code",
   "execution_count": 71,
   "id": "4c61f7b5-1c39-4c3e-8eb8-29f2e0d6cfdc",
   "metadata": {},
   "outputs": [],
   "source": [
    "spark = SparkSession.builder.appName('Write to Files').master('local[*]').getOrCreate()"
   ]
  },
  {
   "cell_type": "code",
   "execution_count": 72,
   "id": "a213836c-f7c9-486a-abf2-220262510dae",
   "metadata": {},
   "outputs": [],
   "source": [
    "emp_df = spark.read.csv('HR-Dataset/core_dataset.csv',header=True,inferSchema=True)"
   ]
  },
  {
   "cell_type": "markdown",
   "id": "ff0f9ea9-2825-4392-ae9c-520a6c66605c",
   "metadata": {},
   "source": [
    "#### count"
   ]
  },
  {
   "cell_type": "code",
   "execution_count": 73,
   "id": "33f92400-ee86-488d-bdd1-518ac27f7c29",
   "metadata": {},
   "outputs": [
    {
     "data": {
      "text/plain": [
       "302"
      ]
     },
     "execution_count": 73,
     "metadata": {},
     "output_type": "execute_result"
    }
   ],
   "source": [
    "emp_df.count()"
   ]
  },
  {
   "cell_type": "markdown",
   "id": "c435d365-3ffd-4e70-ac80-498d7e9bf761",
   "metadata": {},
   "source": [
    "#### where & filter"
   ]
  },
  {
   "cell_type": "code",
   "execution_count": 74,
   "id": "80e4a636-3ef0-455d-b74f-c567bceb70d2",
   "metadata": {},
   "outputs": [
    {
     "data": {
      "text/plain": [
       "3"
      ]
     },
     "execution_count": 74,
     "metadata": {},
     "output_type": "execute_result"
    }
   ],
   "source": [
    "emp_df.where(col('State')=='TX').count()"
   ]
  },
  {
   "cell_type": "code",
   "execution_count": 75,
   "id": "5b9dc361-1031-4e8e-87c5-2f0db964a503",
   "metadata": {},
   "outputs": [
    {
     "data": {
      "text/plain": [
       "298"
      ]
     },
     "execution_count": 75,
     "metadata": {},
     "output_type": "execute_result"
    }
   ],
   "source": [
    "emp_df.where(col('State')!='TX').count()"
   ]
  },
  {
   "cell_type": "code",
   "execution_count": 76,
   "id": "29c5ccd5-2b4d-4fbd-8675-45005ebeeb3a",
   "metadata": {},
   "outputs": [
    {
     "name": "stdout",
     "output_type": "stream",
     "text": [
      "+---------------+---------------+-----+-------+---------+---+----+-----------+-------------------+---------------+--------------------+------------+-------------------+--------------------+-----------------+----------+--------------------+--------+-------------+------------------+--------------------+\n",
      "|  Employee Name|Employee Number|State|    Zip|      DOB|Age| Sex|MaritalDesc|        CitizenDesc|Hispanic/Latino|            RaceDesc|Date of Hire|Date of Termination|     Reason For Term|Employment Status|Department|            Position|Pay Rate| Manager Name|   Employee Source|   Performance Score|\n",
      "+---------------+---------------+-----+-------+---------+---+----+-----------+-------------------+---------------+--------------------+------------+-------------------+--------------------+-----------------+----------+--------------------+--------+-------------+------------------+--------------------+\n",
      "| Murray, Thomas|     1406068403|   TX|78230.0| 7/4/1988| 29|Male|   Divorced|         US Citizen|             No|Black or African ...|  11/10/2014|               NULL|N/A - still employed|           Active|     IT/IS|Database Administ...|    35.5|   Simon Roup|Diversity Job Fair|         Exceptional|\n",
      "|Martins, Joseph|     1209048771|   TX|78207.0|6/11/1970| 47|Male|     Single|Eligible NonCitizen|             No|Black or African ...|   5/14/2012|               NULL|N/A - still employed|           Active|     Sales|  Area Sales Manager|    56.0|Lynn Daneault| Employee Referral|         Fully Meets|\n",
      "|  McKinzie, Jac|     1209049326|   TX|78789.0| 7/1/1984| 33|Male|    Married|         US Citizen|             No|   Two or more races|    7/6/2016|               NULL|N/A - Has not sta...|     Future Start|     Sales|  Area Sales Manager|    55.0|Lynn Daneault|Website Banner Ads|N/A- too early to...|\n",
      "+---------------+---------------+-----+-------+---------+---+----+-----------+-------------------+---------------+--------------------+------------+-------------------+--------------------+-----------------+----------+--------------------+--------+-------------+------------------+--------------------+\n",
      "\n"
     ]
    }
   ],
   "source": [
    "emp_df.filter(col('State')=='TX').show()"
   ]
  },
  {
   "cell_type": "code",
   "execution_count": 77,
   "id": "d11120d0-a7e1-44c2-938c-496e8e3e86fa",
   "metadata": {},
   "outputs": [
    {
     "data": {
      "text/plain": [
       "11"
      ]
     },
     "execution_count": 77,
     "metadata": {},
     "output_type": "execute_result"
    }
   ],
   "source": [
    "# select count(*) from emp where Sex='Male' and Age between 25 and 30 and MaritalDesc in ('Single', 'Seperated', 'Divorced')\n",
    "emp_df.where( \n",
    "    (col('Sex')=='Male') & \n",
    "    (col('Age')<=30) & \n",
    "    (col('Age')>=25) & \n",
    "    ((col('MaritalDesc')=='Single') | (col('MaritalDesc')=='Seperated') | (col('MaritalDesc')=='Divorced'))\n",
    ").count()"
   ]
  },
  {
   "cell_type": "markdown",
   "id": "0f135bcc-cbeb-4229-81dc-46b612d1fad9",
   "metadata": {},
   "source": [
    "#### withColumn"
   ]
  },
  {
   "cell_type": "code",
   "execution_count": 78,
   "id": "961082ca-3360-46bf-ac09-a33d7bd4b0c7",
   "metadata": {},
   "outputs": [
    {
     "name": "stdout",
     "output_type": "stream",
     "text": [
      "+------------+----------+------------------+----------------+\n",
      "|  First_name| Last_name|      new_pay_rate|      Department|\n",
      "+------------+----------+------------------+----------------+\n",
      "|       Brown|       Mia|             31.35|   Admin Offices|\n",
      "|   LaRotonda| William  |              25.3|   Admin Offices|\n",
      "|      Steans|  Tyrone  |31.900000000000002|   Admin Offices|\n",
      "|      Howard|   Estelle|23.650000000000002|   Admin Offices|\n",
      "|       Singh|      Nan |            18.216|   Admin Offices|\n",
      "|       Smith| Leigh Ann|             22.55|   Admin Offices|\n",
      "|     LeBlanc|Brandon  R| 60.50000000000001|   Admin Offices|\n",
      "|       Quinn|      Sean| 60.50000000000001|   Admin Offices|\n",
      "|    Boutwell|   Bonalyn| 38.44500000000001|   Admin Offices|\n",
      "|Foster-Baker|       Amy| 38.44500000000001|   Admin Offices|\n",
      "|        King|     Janet|              88.0|Executive Office|\n",
      "|      Zamora|  Jennifer|              71.5|           IT/IS|\n",
      "|      Becker|     Renee|47.300000000000004|           IT/IS|\n",
      "|       Goble|    Taisha|             53.35|           IT/IS|\n",
      "|   Hernandez|    Daniff| 44.11000000000001|           IT/IS|\n",
      "|      Horton|     Jayne|37.400000000000006|           IT/IS|\n",
      "|     Johnson|   Noelle |              44.0|           IT/IS|\n",
      "|      Murray|    Thomas|39.050000000000004|           IT/IS|\n",
      "|     Pearson|   Randall|              45.1|           IT/IS|\n",
      "|   Petrowsky|    Thelma|47.025000000000006|           IT/IS|\n",
      "+------------+----------+------------------+----------------+\n",
      "only showing top 20 rows\n",
      "\n"
     ]
    }
   ],
   "source": [
    "emp_df.withColumn('First_name', split(col('Employee Name'),', ').getItem(0)).\\\n",
    "withColumn('Last_name', split(col('Employee Name'),', ').getItem(1)).\\\n",
    "withColumn('new_pay_rate', col('Pay Rate')*1.1 ).\\\n",
    "select('First_name','Last_name','new_pay_rate','Department').show()"
   ]
  },
  {
   "cell_type": "markdown",
   "id": "e9a4a9ff-d3e5-4ef1-a524-ca845949b418",
   "metadata": {},
   "source": [
    "#### withColumnRenamed"
   ]
  },
  {
   "cell_type": "code",
   "execution_count": 79,
   "id": "6e82120c-cf7c-45a6-ac5d-1cde2b959b80",
   "metadata": {},
   "outputs": [],
   "source": [
    "emp_df = emp_df.withColumnRenamed('Hispanic/Latino','Hispanic_Latino')"
   ]
  },
  {
   "cell_type": "code",
   "execution_count": 80,
   "id": "19e6589f-c314-41b0-a353-c93892adab81",
   "metadata": {},
   "outputs": [
    {
     "data": {
      "text/plain": [
       "['Employee Name',\n",
       " 'Employee Number',\n",
       " 'State',\n",
       " 'Zip',\n",
       " 'DOB',\n",
       " 'Age',\n",
       " 'Sex',\n",
       " 'MaritalDesc',\n",
       " 'CitizenDesc',\n",
       " 'Hispanic_Latino',\n",
       " 'RaceDesc',\n",
       " 'Date of Hire',\n",
       " 'Date of Termination',\n",
       " 'Reason For Term',\n",
       " 'Employment Status',\n",
       " 'Department',\n",
       " 'Position',\n",
       " 'Pay Rate',\n",
       " 'Manager Name',\n",
       " 'Employee Source',\n",
       " 'Performance Score']"
      ]
     },
     "execution_count": 80,
     "metadata": {},
     "output_type": "execute_result"
    }
   ],
   "source": [
    "emp_df.columns"
   ]
  },
  {
   "cell_type": "code",
   "execution_count": 81,
   "id": "9b7dd7e4-7c7c-47d5-b8cf-3b778165c203",
   "metadata": {},
   "outputs": [],
   "source": [
    "for colu in emp_df.columns:\n",
    "    emp_df = emp_df.withColumnRenamed(colu, colu.replace(' ','_').replace('/',' '))"
   ]
  },
  {
   "cell_type": "code",
   "execution_count": 82,
   "id": "4908efc1-9b21-41e9-84e5-8f7e7dd0918a",
   "metadata": {},
   "outputs": [
    {
     "data": {
      "text/plain": [
       "['Employee_Name',\n",
       " 'Employee_Number',\n",
       " 'State',\n",
       " 'Zip',\n",
       " 'DOB',\n",
       " 'Age',\n",
       " 'Sex',\n",
       " 'MaritalDesc',\n",
       " 'CitizenDesc',\n",
       " 'Hispanic_Latino',\n",
       " 'RaceDesc',\n",
       " 'Date_of_Hire',\n",
       " 'Date_of_Termination',\n",
       " 'Reason_For_Term',\n",
       " 'Employment_Status',\n",
       " 'Department',\n",
       " 'Position',\n",
       " 'Pay_Rate',\n",
       " 'Manager_Name',\n",
       " 'Employee_Source',\n",
       " 'Performance_Score']"
      ]
     },
     "execution_count": 82,
     "metadata": {},
     "output_type": "execute_result"
    }
   ],
   "source": [
    "emp_df.columns"
   ]
  },
  {
   "cell_type": "markdown",
   "id": "022bed2e-d4cb-4c2d-9f9e-37bf8517b9bc",
   "metadata": {},
   "source": [
    "#### drop"
   ]
  },
  {
   "cell_type": "code",
   "execution_count": 83,
   "id": "995ff02d-1ae6-4f62-87e3-825913c25e0c",
   "metadata": {},
   "outputs": [],
   "source": [
    "emp_df = emp_df.drop('Zip', 'DOB')"
   ]
  },
  {
   "cell_type": "markdown",
   "id": "a8ac94ca-32cb-45bd-88c7-8e574ce2d432",
   "metadata": {},
   "source": [
    "#### Distinct"
   ]
  },
  {
   "cell_type": "code",
   "execution_count": 84,
   "id": "6068d40d-893c-4baf-aa6f-74af30fd8540",
   "metadata": {},
   "outputs": [],
   "source": [
    "d = [\n",
    "    {'id':1,'name':'anna','dept':'cse'},\n",
    "    {'id':2,'name':'john','dept':'cse'},\n",
    "    {'id':4,'name':'alice','dept':'cse'},\n",
    "    {'id':3,'name':'bob','dept':'cse'},\n",
    "    {'id':4,'name':'alice','dept':'cse'}\n",
    "]\n",
    "df = spark.createDataFrame(d)"
   ]
  },
  {
   "cell_type": "code",
   "execution_count": 85,
   "id": "537855db-12cd-4e09-856c-22603ef462ad",
   "metadata": {},
   "outputs": [
    {
     "name": "stdout",
     "output_type": "stream",
     "text": [
      "+----+---+-----+\n",
      "|dept| id| name|\n",
      "+----+---+-----+\n",
      "| cse|  1| anna|\n",
      "| cse|  2| john|\n",
      "| cse|  4|alice|\n",
      "| cse|  3|  bob|\n",
      "| cse|  4|alice|\n",
      "+----+---+-----+\n",
      "\n"
     ]
    }
   ],
   "source": [
    "df.show()"
   ]
  },
  {
   "cell_type": "code",
   "execution_count": 86,
   "id": "10f8e4d9-75af-4983-a08e-fb2ac0ecc792",
   "metadata": {},
   "outputs": [
    {
     "name": "stdout",
     "output_type": "stream",
     "text": [
      "+----+---+-----+\n",
      "|dept| id| name|\n",
      "+----+---+-----+\n",
      "| cse|  1| anna|\n",
      "| cse|  2| john|\n",
      "| cse|  4|alice|\n",
      "| cse|  3|  bob|\n",
      "+----+---+-----+\n",
      "\n"
     ]
    }
   ],
   "source": [
    "df.drop_duplicates().show()"
   ]
  },
  {
   "cell_type": "code",
   "execution_count": 87,
   "id": "7e50cd23-03aa-44d2-b370-605b261081e0",
   "metadata": {},
   "outputs": [
    {
     "name": "stdout",
     "output_type": "stream",
     "text": [
      "+----+---+-----+\n",
      "|dept| id| name|\n",
      "+----+---+-----+\n",
      "| cse|  1| anna|\n",
      "| cse|  2| john|\n",
      "| cse|  4|alice|\n",
      "| cse|  3|  bob|\n",
      "+----+---+-----+\n",
      "\n"
     ]
    }
   ],
   "source": [
    "df.distinct().show()"
   ]
  },
  {
   "cell_type": "markdown",
   "id": "0e9c7365-e1e3-45ec-a803-6e3cb0f06bb4",
   "metadata": {},
   "source": [
    "#### Group BY"
   ]
  },
  {
   "cell_type": "code",
   "execution_count": 88,
   "id": "965b3496-e252-4d6d-8e82-13fc05e5e28b",
   "metadata": {},
   "outputs": [],
   "source": [
    "# select sex, min(`Pay Rate`) min_pay_rate, max(`Pay Rate`) max_pay_rate\n",
    "# from emp\n",
    "# group by sex"
   ]
  },
  {
   "cell_type": "code",
   "execution_count": 89,
   "id": "1b058c09-ec71-4c61-b887-4b474e540c81",
   "metadata": {},
   "outputs": [
    {
     "name": "stdout",
     "output_type": "stream",
     "text": [
      "+------+-------------+\n",
      "|   Sex|max(Pay_Rate)|\n",
      "+------+-------------+\n",
      "|  NULL|         NULL|\n",
      "|Female|         80.0|\n",
      "|  male|         29.0|\n",
      "|  Male|         65.0|\n",
      "+------+-------------+\n",
      "\n"
     ]
    }
   ],
   "source": [
    "emp_df.groupby('Sex').max('Pay_Rate').show()"
   ]
  },
  {
   "cell_type": "code",
   "execution_count": 90,
   "id": "7daef999-baa0-4124-9bf0-5f883fd39972",
   "metadata": {},
   "outputs": [],
   "source": [
    "emp_df = emp_df.withColumn('Sex', lower(col('Sex')))"
   ]
  },
  {
   "cell_type": "code",
   "execution_count": 91,
   "id": "99157ca0-208d-46a7-b39b-1c823a3107d9",
   "metadata": {},
   "outputs": [
    {
     "name": "stdout",
     "output_type": "stream",
     "text": [
      "+------+-------------+\n",
      "|   Sex|max(Pay_Rate)|\n",
      "+------+-------------+\n",
      "|  NULL|         NULL|\n",
      "|female|         80.0|\n",
      "|  male|         65.0|\n",
      "+------+-------------+\n",
      "\n"
     ]
    }
   ],
   "source": [
    "emp_df.groupby('Sex').max('Pay_Rate').show()"
   ]
  },
  {
   "cell_type": "code",
   "execution_count": 92,
   "id": "84a10e2b-7685-4884-8cc6-f915a94c17d4",
   "metadata": {},
   "outputs": [
    {
     "name": "stdout",
     "output_type": "stream",
     "text": [
      "+------+-------------+\n",
      "|   Sex|min(Pay_Rate)|\n",
      "+------+-------------+\n",
      "|  NULL|         NULL|\n",
      "|female|         14.0|\n",
      "|  male|         14.0|\n",
      "+------+-------------+\n",
      "\n"
     ]
    }
   ],
   "source": [
    "emp_df.groupby('Sex').min('Pay_Rate').show()"
   ]
  },
  {
   "cell_type": "code",
   "execution_count": 93,
   "id": "fdc1013a-bfc0-4aab-9b6c-2ed103316f66",
   "metadata": {},
   "outputs": [
    {
     "name": "stdout",
     "output_type": "stream",
     "text": [
      "+------+-----+\n",
      "|   Sex|count|\n",
      "+------+-----+\n",
      "|  NULL|    1|\n",
      "|female|  174|\n",
      "|  male|  127|\n",
      "+------+-----+\n",
      "\n"
     ]
    }
   ],
   "source": [
    "emp_df.groupby('Sex').count().show()"
   ]
  },
  {
   "cell_type": "markdown",
   "id": "64c5fae4-81b9-4fa0-b033-9bc13bd50adc",
   "metadata": {},
   "source": [
    "#### Join"
   ]
  },
  {
   "cell_type": "code",
   "execution_count": 94,
   "id": "99c33373-16f2-43be-a5f5-e4febfe9db67",
   "metadata": {},
   "outputs": [],
   "source": [
    "d = [\n",
    "    {'dept_name':'Sales','HOD':'John'},\n",
    "    {'dept_name':'Admin Offices','HOD':'Joshaf'},\n",
    "    {'dept_name':'Production','HOD':'Ram'},\n",
    "    {'dept_name':'Executive Office','HOD':'Vamsi'},\n",
    "    {'dept_name':'Software Engineering','HOD':'Mahesh'},\n",
    "    {'dept_name':'IT/IS','HOD':'Mahesh'}\n",
    "]"
   ]
  },
  {
   "cell_type": "code",
   "execution_count": 95,
   "id": "b134643c-8217-4676-9f79-5b10fce47316",
   "metadata": {},
   "outputs": [],
   "source": [
    "dept_df = spark.createDataFrame(d)"
   ]
  },
  {
   "cell_type": "code",
   "execution_count": 96,
   "id": "388b6a8d-97fa-4657-ad93-390eab6c4dd4",
   "metadata": {},
   "outputs": [
    {
     "name": "stdout",
     "output_type": "stream",
     "text": [
      "+------+--------------------+\n",
      "|   HOD|           dept_name|\n",
      "+------+--------------------+\n",
      "|  John|               Sales|\n",
      "|Joshaf|       Admin Offices|\n",
      "|   Ram|          Production|\n",
      "| Vamsi|    Executive Office|\n",
      "|Mahesh|Software Engineering|\n",
      "|Mahesh|               IT/IS|\n",
      "+------+--------------------+\n",
      "\n"
     ]
    }
   ],
   "source": [
    "dept_df.show()"
   ]
  },
  {
   "cell_type": "code",
   "execution_count": 97,
   "id": "4ec49cc0-3f6f-40e7-ba78-5c6aed43fc03",
   "metadata": {},
   "outputs": [],
   "source": [
    "# select * from emp\n",
    "# left join dept on (emp.Department=dept.dept_name)\n",
    "\n",
    "emp_df = emp_df.join(dept_df, emp_df['Department']==dept_df['dept_name'],'left')"
   ]
  },
  {
   "cell_type": "markdown",
   "id": "c32e1250-9abc-4947-acae-6548b0fd13f8",
   "metadata": {},
   "source": [
    "#### Union"
   ]
  },
  {
   "cell_type": "code",
   "execution_count": 100,
   "id": "0519a3f0-9201-42bc-a5c0-43d65ee0ffe8",
   "metadata": {},
   "outputs": [],
   "source": [
    "d1 = [\n",
    "    {'id':1,'name':'anna','dept':'cse'},\n",
    "    {'id':2,'name':'john','dept':'cse'},\n",
    "    {'id':4,'name':'alice','dept':'cse'},\n",
    "    {'id':3,'name':'bob','dept':'cse'},\n",
    "    {'id':4,'name':'alice','dept':'cse'}\n",
    "]\n",
    "df_1 = spark.createDataFrame(d1)\n",
    "\n",
    "d2 = [\n",
    "    {'id':1,'name':'mahesh','dept':'cse'},\n",
    "    {'id':1,'name':'mahesh','dept':'cse'},\n",
    "    {'name':'mahesh','dept':'cse'},\n",
    "]\n",
    "df_2 = spark.createDataFrame(d2)"
   ]
  },
  {
   "cell_type": "code",
   "execution_count": 101,
   "id": "6fe4693b-40c6-4593-9dd9-81093f8631f0",
   "metadata": {},
   "outputs": [
    {
     "name": "stdout",
     "output_type": "stream",
     "text": [
      "+----+----+------+\n",
      "|dept|  id|  name|\n",
      "+----+----+------+\n",
      "| cse|   1|  anna|\n",
      "| cse|   2|  john|\n",
      "| cse|   4| alice|\n",
      "| cse|   3|   bob|\n",
      "| cse|   4| alice|\n",
      "| cse|   1|mahesh|\n",
      "| cse|   1|mahesh|\n",
      "| cse|NULL|mahesh|\n",
      "+----+----+------+\n",
      "\n"
     ]
    }
   ],
   "source": [
    "df_1.union(df_2).show()"
   ]
  },
  {
   "cell_type": "code",
   "execution_count": 102,
   "id": "1d765449-5a4a-4095-89c3-2ff62a0ea54e",
   "metadata": {},
   "outputs": [],
   "source": [
    "df_u = df_1.union(df_2)"
   ]
  },
  {
   "cell_type": "markdown",
   "id": "81d7ea12-1c18-4171-8099-fbc3db9c3206",
   "metadata": {},
   "source": [
    "#### collect"
   ]
  },
  {
   "cell_type": "code",
   "execution_count": 103,
   "id": "80b56127-dbd2-4528-8a6a-5c23d026c81c",
   "metadata": {},
   "outputs": [
    {
     "data": {
      "text/plain": [
       "[Row(dept='cse', id=1, name='anna'),\n",
       " Row(dept='cse', id=2, name='john'),\n",
       " Row(dept='cse', id=4, name='alice'),\n",
       " Row(dept='cse', id=3, name='bob'),\n",
       " Row(dept='cse', id=4, name='alice'),\n",
       " Row(dept='cse', id=1, name='mahesh'),\n",
       " Row(dept='cse', id=1, name='mahesh'),\n",
       " Row(dept='cse', id=None, name='mahesh')]"
      ]
     },
     "execution_count": 103,
     "metadata": {},
     "output_type": "execute_result"
    }
   ],
   "source": [
    "\n",
    "df_u.collect()"
   ]
  },
  {
   "cell_type": "markdown",
   "id": "7e4dddda-d50a-412b-8010-f0ff673e5668",
   "metadata": {},
   "source": [
    "#### cache"
   ]
  },
  {
   "cell_type": "code",
   "execution_count": 105,
   "id": "1877ce63-5eb8-4a3f-be97-fc27aaa1fc64",
   "metadata": {},
   "outputs": [],
   "source": [
    "emp_df = emp_df.cache()"
   ]
  },
  {
   "cell_type": "markdown",
   "id": "3e427170-1ff8-4b6b-b076-9174644da79e",
   "metadata": {},
   "source": [
    "#### cast"
   ]
  },
  {
   "cell_type": "code",
   "execution_count": 107,
   "id": "652f67e6-b5e6-47f5-8863-e5d93bcb1ba8",
   "metadata": {},
   "outputs": [],
   "source": [
    "df_u = df_u.withColumn('id_new', col('id').cast('bigint'))"
   ]
  },
  {
   "cell_type": "markdown",
   "id": "0b689b0d-1144-4521-b907-c4412b8c2e5f",
   "metadata": {},
   "source": [
    "#### alias"
   ]
  },
  {
   "cell_type": "code",
   "execution_count": 111,
   "id": "fdd5ca63-5acd-479a-b9a7-977c762afc4a",
   "metadata": {},
   "outputs": [
    {
     "name": "stdout",
     "output_type": "stream",
     "text": [
      "+----------+----+\n",
      "|identifier|dept|\n",
      "+----------+----+\n",
      "|         1| cse|\n",
      "|         2| cse|\n",
      "|         4| cse|\n",
      "|         3| cse|\n",
      "|         4| cse|\n",
      "|         1| cse|\n",
      "|         1| cse|\n",
      "|      NULL| cse|\n",
      "+----------+----+\n",
      "\n"
     ]
    }
   ],
   "source": [
    "df_u.select(col('id').alias('identifier'), 'dept').show()"
   ]
  },
  {
   "cell_type": "code",
   "execution_count": null,
   "id": "c2bace34-32f7-4884-8955-c5824fd2e2a3",
   "metadata": {},
   "outputs": [],
   "source": []
  }
 ],
 "metadata": {
  "kernelspec": {
   "display_name": "Python 3 (ipykernel)",
   "language": "python",
   "name": "python3"
  },
  "language_info": {
   "codemirror_mode": {
    "name": "ipython",
    "version": 3
   },
   "file_extension": ".py",
   "mimetype": "text/x-python",
   "name": "python",
   "nbconvert_exporter": "python",
   "pygments_lexer": "ipython3",
   "version": "3.11.6"
  }
 },
 "nbformat": 4,
 "nbformat_minor": 5
}
