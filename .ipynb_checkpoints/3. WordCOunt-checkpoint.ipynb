{
 "cells": [
  {
   "cell_type": "code",
   "execution_count": 12,
   "id": "a1a892cb-99f4-4cb6-9e4c-186ff2f00d98",
   "metadata": {},
   "outputs": [],
   "source": [
    "sc.stop()"
   ]
  },
  {
   "cell_type": "code",
   "execution_count": 8,
   "id": "74ebda65-39a0-45ed-9d73-e02307411be5",
   "metadata": {},
   "outputs": [],
   "source": [
    "from pyspark import SparkContext \n",
    "\n",
    "sc = SparkContext(appName='WorkCount',master='local[*]').getOrCreate()"
   ]
  },
  {
   "cell_type": "code",
   "execution_count": 11,
   "id": "00e90663-323f-45bd-aedc-f24390e3c790",
   "metadata": {},
   "outputs": [
    {
     "data": {
      "text/plain": [
       "1.0230545039994468"
      ]
     },
     "execution_count": 11,
     "metadata": {},
     "output_type": "execute_result"
    }
   ],
   "source": [
    "# All the data is in sentences, so we need to break it into words\n",
    "from time import perf_counter\n",
    "\n",
    "t1 = perf_counter()\n",
    "sc.textFile('story.txt').\\\n",
    "flatMap(lambda line: line.lower().split(' ')).\\\n",
    "map(lambda word: (word,1)).\\\n",
    "reduceByKey(lambda x,y:x+y).\\\n",
    "sortBy(lambda word: -word[1]).\\\n",
    "collect()[10:]\n",
    "t2 = perf_counter()\n",
    "\n",
    "t2-t1"
   ]
  },
  {
   "cell_type": "code",
   "execution_count": null,
   "id": "946c24eb-cb88-4539-83f9-3f0cbfc33edf",
   "metadata": {},
   "outputs": [],
   "source": []
  }
 ],
 "metadata": {
  "kernelspec": {
   "display_name": "Python 3 (ipykernel)",
   "language": "python",
   "name": "python3"
  },
  "language_info": {
   "codemirror_mode": {
    "name": "ipython",
    "version": 3
   },
   "file_extension": ".py",
   "mimetype": "text/x-python",
   "name": "python",
   "nbconvert_exporter": "python",
   "pygments_lexer": "ipython3",
   "version": "3.11.6"
  }
 },
 "nbformat": 4,
 "nbformat_minor": 5
}
