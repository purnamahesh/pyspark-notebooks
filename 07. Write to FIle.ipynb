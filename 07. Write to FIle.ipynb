{
 "cells": [
  {
   "cell_type": "code",
   "execution_count": 1,
   "id": "b6bfc057-19f4-4381-a909-b7598f95dd14",
   "metadata": {},
   "outputs": [],
   "source": [
    "from pyspark.sql import SparkSession\n",
    "from pyspark.sql.types import *\n",
    "from pyspark.sql.functions import *"
   ]
  },
  {
   "cell_type": "code",
   "execution_count": 2,
   "id": "bb02bfce-fdc4-45cf-9436-7a52379982c3",
   "metadata": {},
   "outputs": [],
   "source": [
    "spark = SparkSession.builder.appName('Write to Files').master('local[*]').getOrCreate()"
   ]
  },
  {
   "cell_type": "code",
   "execution_count": null,
   "id": "18d79ff0-e5aa-4db6-b725-58967e83026b",
   "metadata": {},
   "outputs": [],
   "source": [
    "emp_df = spark.read.csv('HR-Dataset/core_dataset.csv',header=True)"
   ]
  },
  {
   "cell_type": "markdown",
   "id": "8cc2edfc-d8d9-4f36-b2dd-c92b85badcef",
   "metadata": {},
   "source": [
    "### Write with append mode"
   ]
  },
  {
   "cell_type": "code",
   "execution_count": null,
   "id": "dc2b4bd1-17f9-4f97-a79a-5b2d72586a17",
   "metadata": {},
   "outputs": [],
   "source": [
    "emp_df.write.format('csv').mode('append').save('emp_df.csv')"
   ]
  },
  {
   "cell_type": "markdown",
   "id": "718eca64-684e-41ef-889e-dae618a8e325",
   "metadata": {},
   "source": [
    "### Write with overwrite mode"
   ]
  },
  {
   "cell_type": "code",
   "execution_count": null,
   "id": "a2a38048-b86d-4a88-9e3d-da824d07c8b8",
   "metadata": {},
   "outputs": [],
   "source": [
    "emp_df.write.mode('overwrite').csv('emp_df.csv')"
   ]
  },
  {
   "cell_type": "markdown",
   "id": "90ad332b-9186-4e9e-902a-499404cb1eca",
   "metadata": {},
   "source": [
    "#### Example"
   ]
  },
  {
   "cell_type": "code",
   "execution_count": 11,
   "id": "a5bde911-406a-4698-aea5-a1fab8c57125",
   "metadata": {},
   "outputs": [],
   "source": [
    "d = [\n",
    "    {'id':1,'name':'anna','dept':'cse'},\n",
    "    {'id':2,'name':'john','dept':'cse'},\n",
    "    {'id':3,'name':'bob','dept':'cse'},\n",
    "    {'id':4,'name':'alice','dept':'cse'}\n",
    "]\n",
    "student_df = spark.createDataFrame(d)"
   ]
  },
  {
   "cell_type": "code",
   "execution_count": 12,
   "id": "937e082c-3024-42f7-8f62-dd0d3239e0b2",
   "metadata": {},
   "outputs": [],
   "source": [
    "student_df.write.csv('student.csv')"
   ]
  },
  {
   "cell_type": "code",
   "execution_count": 13,
   "id": "b9bf67e5-0a08-4e80-8166-887348c192af",
   "metadata": {},
   "outputs": [],
   "source": [
    "d = [\n",
    "    {'id':5,'name':'julie','dept':'ece'},\n",
    "    {'id':6,'name':'jisi','dept':'ece'}\n",
    "]\n",
    "student_df = spark.createDataFrame(d)"
   ]
  },
  {
   "cell_type": "code",
   "execution_count": 14,
   "id": "6fc7a1ba-5518-40a1-b8f6-d47add227895",
   "metadata": {},
   "outputs": [],
   "source": [
    "student_df.write.mode('append').csv('student.csv')"
   ]
  },
  {
   "cell_type": "code",
   "execution_count": 15,
   "id": "ba2441a8-c5d3-463b-bce7-9f69600ff404",
   "metadata": {},
   "outputs": [],
   "source": [
    "d = [\n",
    "    {'id':1,'name':'mahesh','dept':'cse'},\n",
    "    {'id':1,'name':'mahesh','dept':'cse'}\n",
    "]\n",
    "student_df = spark.createDataFrame(d)"
   ]
  },
  {
   "cell_type": "code",
   "execution_count": 16,
   "id": "b69e410a-46a5-4eec-af9e-0d10250f7985",
   "metadata": {},
   "outputs": [],
   "source": [
    "student_df.write.mode('overwrite').csv('student.csv')"
   ]
  },
  {
   "cell_type": "markdown",
   "id": "8586afae-2e1d-4274-9ca4-b260307039de",
   "metadata": {},
   "source": [
    "### Write as JSON"
   ]
  },
  {
   "cell_type": "code",
   "execution_count": null,
   "id": "f999eac5-3bb6-4225-8235-77a3d414c673",
   "metadata": {},
   "outputs": [],
   "source": [
    "emp_df.write.json('emp.json')"
   ]
  }
 ],
 "metadata": {
  "kernelspec": {
   "display_name": "Python 3 (ipykernel)",
   "language": "python",
   "name": "python3"
  },
  "language_info": {
   "codemirror_mode": {
    "name": "ipython",
    "version": 3
   },
   "file_extension": ".py",
   "mimetype": "text/x-python",
   "name": "python",
   "nbconvert_exporter": "python",
   "pygments_lexer": "ipython3",
   "version": "3.11.6"
  }
 },
 "nbformat": 4,
 "nbformat_minor": 5
}
