{
 "cells": [
  {
   "cell_type": "code",
   "execution_count": 36,
   "id": "430badca-3b61-4f74-9eb5-cf61f412cc72",
   "metadata": {},
   "outputs": [],
   "source": [
    "from pyspark.sql import SparkSession\n",
    "from pyspark.sql.types import *\n",
    "from pyspark.sql.functions import *"
   ]
  },
  {
   "cell_type": "code",
   "execution_count": 74,
   "id": "7381626e-f723-4c96-88d8-3fbafd19411b",
   "metadata": {},
   "outputs": [],
   "source": [
    "spark = SparkSession.builder.appName('Partitioning').master('local[*]').enableHiveSupport().config(\"spark.sql.catalogImplementation\",\"hive\").getOrCreate()"
   ]
  },
  {
   "cell_type": "code",
   "execution_count": 75,
   "id": "843bab59-5eca-4a5b-bec9-8212f9014f3b",
   "metadata": {},
   "outputs": [],
   "source": [
    "emp_df = spark.read.csv('file:///home/jovyan/work/HR-Dataset/core_dataset.csv',header=True,inferSchema=True)"
   ]
  },
  {
   "cell_type": "markdown",
   "id": "378d36a8-464f-4d7f-a4bb-ae2136da9dd0",
   "metadata": {},
   "source": [
    "### Catalog"
   ]
  },
  {
   "cell_type": "code",
   "execution_count": 47,
   "id": "6361f6e1-12ed-4be4-b971-c700b8c2ecbc",
   "metadata": {},
   "outputs": [
    {
     "data": {
      "text/plain": [
       "[CatalogMetadata(name='spark_catalog', description=None)]"
      ]
     },
     "execution_count": 47,
     "metadata": {},
     "output_type": "execute_result"
    }
   ],
   "source": [
    "spark.catalog.listCatalogs() # Catalog -> database"
   ]
  },
  {
   "cell_type": "code",
   "execution_count": 42,
   "id": "468be2a4-087f-4314-ae32-93b4c4980a82",
   "metadata": {},
   "outputs": [
    {
     "data": {
      "text/plain": [
       "'spark_catalog'"
      ]
     },
     "execution_count": 42,
     "metadata": {},
     "output_type": "execute_result"
    }
   ],
   "source": [
    "spark.catalog.currentCatalog()"
   ]
  },
  {
   "cell_type": "code",
   "execution_count": 43,
   "id": "5e1918e2-0b29-4e3e-bd66-94ccf025a850",
   "metadata": {},
   "outputs": [],
   "source": [
    "# create table employee (\n",
    "#     emp_id int NOT NULL,\n",
    "#     name string,\n",
    "#     dept string\n",
    "# )\n",
    "\n",
    "schema = StructType([\n",
    "    StructField('emp_id',IntegerType(),False),\n",
    "    StructField('name',StringType(),False),\n",
    "    StructField('dept',StringType(),False),\n",
    "])\n",
    "\n",
    "# spark.sql('''\n",
    "# create table employee (\n",
    "#     emp_id int NOT NULL,\n",
    "#     name string,\n",
    "#     dept string\n",
    "# )\n",
    "# ''')"
   ]
  },
  {
   "cell_type": "code",
   "execution_count": 44,
   "id": "8e53faed-67e9-4abb-ba5b-b9d97f4dcc40",
   "metadata": {},
   "outputs": [
    {
     "data": {
      "text/plain": [
       "DataFrame[emp_id: int, name: string, dept: string]"
      ]
     },
     "execution_count": 44,
     "metadata": {},
     "output_type": "execute_result"
    }
   ],
   "source": [
    "spark.catalog.createTable('employee',schema=schema)"
   ]
  },
  {
   "cell_type": "code",
   "execution_count": 41,
   "id": "40a27007-d676-43db-b469-4a7c60124f95",
   "metadata": {},
   "outputs": [
    {
     "data": {
      "text/plain": [
       "[]"
      ]
     },
     "execution_count": 41,
     "metadata": {},
     "output_type": "execute_result"
    }
   ],
   "source": [
    "spark.catalog.listTables()"
   ]
  },
  {
   "cell_type": "code",
   "execution_count": 33,
   "id": "18db8933-e952-4390-b200-d1e699b2ee41",
   "metadata": {},
   "outputs": [
    {
     "data": {
      "text/plain": [
       "False"
      ]
     },
     "execution_count": 33,
     "metadata": {},
     "output_type": "execute_result"
    }
   ],
   "source": [
    "# spark.catalog.dropGlobalTempView('employee')"
   ]
  },
  {
   "cell_type": "code",
   "execution_count": 51,
   "id": "bc0ceb65-1a2d-43a2-9eb3-9c62462d1317",
   "metadata": {},
   "outputs": [],
   "source": [
    "tbl = spark.catalog.getTable('employee')"
   ]
  },
  {
   "cell_type": "code",
   "execution_count": null,
   "id": "9175d032-0dbc-452b-933c-6745a437d86a",
   "metadata": {},
   "outputs": [],
   "source": []
  },
  {
   "cell_type": "code",
   "execution_count": null,
   "id": "0bf484bc-e72c-4c69-9d4d-5d48420d12b3",
   "metadata": {},
   "outputs": [],
   "source": []
  },
  {
   "cell_type": "markdown",
   "id": "de41696e-61ac-4f26-84d6-b5a855184be7",
   "metadata": {},
   "source": [
    "### createOrReplaceTempView"
   ]
  },
  {
   "cell_type": "code",
   "execution_count": 79,
   "id": "40f549bc-a0f4-4b2b-8fdd-90f4c263afd6",
   "metadata": {},
   "outputs": [],
   "source": [
    "# emp_df -> dataFrame \n",
    "# emp_tbl -> tempView\n",
    "\n",
    "emp_df.createOrReplaceTempView('emp_tbl')"
   ]
  },
  {
   "cell_type": "markdown",
   "id": "2d9e1e97-9044-49f9-ac41-2e0ad377a70e",
   "metadata": {},
   "source": [
    "### spark.sql"
   ]
  },
  {
   "cell_type": "code",
   "execution_count": 80,
   "id": "1dd45aa9-4b79-48d7-b096-9d2d95086b3f",
   "metadata": {},
   "outputs": [
    {
     "name": "stdout",
     "output_type": "stream",
     "text": [
      "+--------------------+---------------+-----+------+----------+---+------+-----------+-----------+---------------+--------------------+------------+-------------------+--------------------+-----------------+-------------+--------------------+--------+------------------+--------------------+--------------------+\n",
      "|       Employee Name|Employee Number|State|   Zip|       DOB|Age|   Sex|MaritalDesc|CitizenDesc|Hispanic/Latino|            RaceDesc|Date of Hire|Date of Termination|     Reason For Term|Employment Status|   Department|            Position|Pay Rate|      Manager Name|     Employee Source|   Performance Score|\n",
      "+--------------------+---------------+-----+------+----------+---+------+-----------+-----------+---------------+--------------------+------------+-------------------+--------------------+-----------------+-------------+--------------------+--------+------------------+--------------------+--------------------+\n",
      "|          Brown, Mia|     1103024456|   MA|1450.0|11/24/1985| 32|Female|    Married| US Citizen|             No|Black or African ...|  10/27/2008|               NULL|N/A - still employed|           Active|Admin Offices|        Accountant I|    28.5|Brandon R. LeBlanc|  Diversity Job Fair|         Fully Meets|\n",
      "|LaRotonda, William  |     1106026572|   MA|1460.0| 4/26/1984| 33|  Male|   Divorced| US Citizen|             No|Black or African ...|    1/6/2014|               NULL|N/A - still employed|           Active|Admin Offices|        Accountant I|    23.0|Brandon R. LeBlanc|  Website Banner Ads|         Fully Meets|\n",
      "|    Steans, Tyrone  |     1302053333|   MA|2703.0|  9/1/1986| 31|  Male|     Single| US Citizen|             No|               White|   9/29/2014|               NULL|N/A - still employed|           Active|Admin Offices|        Accountant I|    29.0|Brandon R. LeBlanc|     Internet Search|         Fully Meets|\n",
      "|     Howard, Estelle|     1211050782|   MA|2170.0| 9/16/1985| 32|Female|    Married| US Citizen|             No|               White|   2/16/2015|          4/15/2015|N/A - still employed|           Active|Admin Offices|Administrative As...|    21.5|Brandon R. LeBlanc|Pay Per Click - G...|N/A- too early to...|\n",
      "|         Singh, Nan |     1307059817|   MA|2330.0| 5/19/1988| 29|Female|     Single| US Citizen|             No|               White|    5/1/2015|               NULL|N/A - still employed|           Active|Admin Offices|Administrative As...|   16.56|Brandon R. LeBlanc|  Website Banner Ads|N/A- too early to...|\n",
      "+--------------------+---------------+-----+------+----------+---+------+-----------+-----------+---------------+--------------------+------------+-------------------+--------------------+-----------------+-------------+--------------------+--------+------------------+--------------------+--------------------+\n",
      "\n"
     ]
    }
   ],
   "source": [
    "spark.sql('select * from emp_tbl limit 5').show()"
   ]
  },
  {
   "cell_type": "code",
   "execution_count": 56,
   "id": "e7a235b9-d03d-4226-ac8b-c43e0eda68a5",
   "metadata": {},
   "outputs": [
    {
     "name": "stdout",
     "output_type": "stream",
     "text": [
      "+---------+\n",
      "|namespace|\n",
      "+---------+\n",
      "|  default|\n",
      "+---------+\n",
      "\n"
     ]
    }
   ],
   "source": [
    "spark.sql('show databases').show()"
   ]
  },
  {
   "cell_type": "code",
   "execution_count": 64,
   "id": "35639983-3d30-4c64-b4df-7368d18696e9",
   "metadata": {},
   "outputs": [
    {
     "name": "stdout",
     "output_type": "stream",
     "text": [
      "+---------+---------+-----------+\n",
      "|namespace|tableName|isTemporary|\n",
      "+---------+---------+-----------+\n",
      "|  default| employee|      false|\n",
      "|         |  emp_tbl|       true|\n",
      "+---------+---------+-----------+\n",
      "\n"
     ]
    }
   ],
   "source": [
    "spark.sql('show tables').show()"
   ]
  },
  {
   "cell_type": "code",
   "execution_count": 59,
   "id": "c8fc9126-b26e-4dbc-9615-aa7349c43c85",
   "metadata": {},
   "outputs": [
    {
     "name": "stdout",
     "output_type": "stream",
     "text": [
      "++\n",
      "||\n",
      "++\n",
      "++\n",
      "\n"
     ]
    }
   ],
   "source": [
    "spark.sql('create database emp_db').show()"
   ]
  },
  {
   "cell_type": "code",
   "execution_count": 60,
   "id": "53f8374d-6567-4a22-bfe6-8b28639a9acb",
   "metadata": {},
   "outputs": [
    {
     "name": "stdout",
     "output_type": "stream",
     "text": [
      "+---------+\n",
      "|namespace|\n",
      "+---------+\n",
      "|  default|\n",
      "|   emp_db|\n",
      "+---------+\n",
      "\n"
     ]
    }
   ],
   "source": [
    "spark.sql('show databases').show()"
   ]
  },
  {
   "cell_type": "code",
   "execution_count": 65,
   "id": "1b67bec4-ffaf-430f-b277-806ec72989f0",
   "metadata": {},
   "outputs": [
    {
     "name": "stdout",
     "output_type": "stream",
     "text": [
      "++\n",
      "||\n",
      "++\n",
      "++\n",
      "\n"
     ]
    }
   ],
   "source": [
    "spark.sql('use database emp_db').show()"
   ]
  },
  {
   "cell_type": "code",
   "execution_count": 62,
   "id": "0cba0c47-d959-4bdf-bb8b-a4abd9f9d4ed",
   "metadata": {},
   "outputs": [
    {
     "name": "stdout",
     "output_type": "stream",
     "text": [
      "+---------+---------+-----------+\n",
      "|namespace|tableName|isTemporary|\n",
      "+---------+---------+-----------+\n",
      "|         |  emp_tbl|       true|\n",
      "+---------+---------+-----------+\n",
      "\n"
     ]
    }
   ],
   "source": [
    "spark.sql('show tables').show()"
   ]
  },
  {
   "cell_type": "code",
   "execution_count": 66,
   "id": "615aaec1-4f99-46f0-aed0-d458083b0eaf",
   "metadata": {},
   "outputs": [
    {
     "data": {
      "text/plain": [
       "DataFrame[]"
      ]
     },
     "execution_count": 66,
     "metadata": {},
     "output_type": "execute_result"
    }
   ],
   "source": [
    "spark.sql('''\n",
    "create table emp_db.employee (\n",
    "    emp_id int NOT NULL,\n",
    "    name string,\n",
    "    dept string,\n",
    "    salary double\n",
    ")\n",
    "''')"
   ]
  },
  {
   "cell_type": "code",
   "execution_count": 67,
   "id": "9ddc5453-e7c9-48dc-95b0-2c8380659ad0",
   "metadata": {},
   "outputs": [
    {
     "name": "stdout",
     "output_type": "stream",
     "text": [
      "+---------+---------+-----------+\n",
      "|namespace|tableName|isTemporary|\n",
      "+---------+---------+-----------+\n",
      "|   emp_db| employee|      false|\n",
      "|         |  emp_tbl|       true|\n",
      "+---------+---------+-----------+\n",
      "\n"
     ]
    }
   ],
   "source": [
    "spark.sql('show tables').show()"
   ]
  },
  {
   "cell_type": "code",
   "execution_count": 68,
   "id": "115ee554-b097-4dfb-a060-762527f0d8ef",
   "metadata": {},
   "outputs": [
    {
     "data": {
      "text/plain": [
       "DataFrame[]"
      ]
     },
     "execution_count": 68,
     "metadata": {},
     "output_type": "execute_result"
    }
   ],
   "source": [
    "spark.sql('''\n",
    "insert into emp_db.employee (emp_id, name, dept, salary) values (1, 'John', 'Sales', 100000)\n",
    "''')"
   ]
  },
  {
   "cell_type": "code",
   "execution_count": 71,
   "id": "1abf2da2-2c3b-45f3-837a-3841e63c5136",
   "metadata": {},
   "outputs": [
    {
     "name": "stdout",
     "output_type": "stream",
     "text": [
      "+------+----+-----+--------+\n",
      "|emp_id|name| dept|  salary|\n",
      "+------+----+-----+--------+\n",
      "|     1|John|Sales|100000.0|\n",
      "+------+----+-----+--------+\n",
      "\n"
     ]
    }
   ],
   "source": [
    "spark.sql('select * from employee').show()"
   ]
  },
  {
   "cell_type": "code",
   "execution_count": 72,
   "id": "0c017124-7591-45ac-814f-fe3a2c17c288",
   "metadata": {},
   "outputs": [
    {
     "name": "stdout",
     "output_type": "stream",
     "text": [
      "+------+----+----+\n",
      "|emp_id|name|dept|\n",
      "+------+----+----+\n",
      "+------+----+----+\n",
      "\n"
     ]
    }
   ],
   "source": [
    "spark.sql('select * from default.employee').show()"
   ]
  },
  {
   "cell_type": "code",
   "execution_count": 73,
   "id": "80b575a6-f792-4ddb-8a8e-93049c7ae085",
   "metadata": {},
   "outputs": [],
   "source": [
    "spark.stop()"
   ]
  },
  {
   "cell_type": "code",
   "execution_count": 78,
   "id": "3db9f5a5-c307-4bcb-8187-cea137aaeecb",
   "metadata": {},
   "outputs": [
    {
     "name": "stdout",
     "output_type": "stream",
     "text": [
      "+------+----+-----+--------+\n",
      "|emp_id|name| dept|  salary|\n",
      "+------+----+-----+--------+\n",
      "|     1|John|Sales|100000.0|\n",
      "+------+----+-----+--------+\n",
      "\n"
     ]
    }
   ],
   "source": [
    "spark.sql('select * from emp_db.employee').show()"
   ]
  },
  {
   "cell_type": "code",
   "execution_count": 81,
   "id": "9b771813-de5e-4379-bdd7-bcb023d2391e",
   "metadata": {},
   "outputs": [
    {
     "name": "stdout",
     "output_type": "stream",
     "text": [
      "+--------+\n",
      "|count(1)|\n",
      "+--------+\n",
      "|      11|\n",
      "+--------+\n",
      "\n"
     ]
    }
   ],
   "source": [
    "spark.sql('''\n",
    "select count(*) from emp_tbl where Sex='Male' and Age between 25 and 30 and MaritalDesc in ('Single', 'Seperated', 'Divorced')\n",
    "''').show()"
   ]
  },
  {
   "cell_type": "code",
   "execution_count": 85,
   "id": "4c85c10d-d464-497f-a410-bf2207713cad",
   "metadata": {},
   "outputs": [
    {
     "name": "stdout",
     "output_type": "stream",
     "text": [
      "+------------+----------+------------------+----------------+\n",
      "|  first_name| last_name|      new_pay_rate|      Department|\n",
      "+------------+----------+------------------+----------------+\n",
      "|       Brown|       Mia|             31.35|   Admin Offices|\n",
      "|   LaRotonda| William  |              25.3|   Admin Offices|\n",
      "|      Steans|  Tyrone  |31.900000000000002|   Admin Offices|\n",
      "|      Howard|   Estelle|23.650000000000002|   Admin Offices|\n",
      "|       Singh|      Nan |            18.216|   Admin Offices|\n",
      "|       Smith| Leigh Ann|             22.55|   Admin Offices|\n",
      "|     LeBlanc|Brandon  R| 60.50000000000001|   Admin Offices|\n",
      "|       Quinn|      Sean| 60.50000000000001|   Admin Offices|\n",
      "|    Boutwell|   Bonalyn| 38.44500000000001|   Admin Offices|\n",
      "|Foster-Baker|       Amy| 38.44500000000001|   Admin Offices|\n",
      "|        King|     Janet|              88.0|Executive Office|\n",
      "|      Zamora|  Jennifer|              71.5|           IT/IS|\n",
      "|      Becker|     Renee|47.300000000000004|           IT/IS|\n",
      "|       Goble|    Taisha|             53.35|           IT/IS|\n",
      "|   Hernandez|    Daniff| 44.11000000000001|           IT/IS|\n",
      "|      Horton|     Jayne|37.400000000000006|           IT/IS|\n",
      "|     Johnson|   Noelle |              44.0|           IT/IS|\n",
      "|      Murray|    Thomas|39.050000000000004|           IT/IS|\n",
      "|     Pearson|   Randall|              45.1|           IT/IS|\n",
      "|   Petrowsky|    Thelma|47.025000000000006|           IT/IS|\n",
      "+------------+----------+------------------+----------------+\n",
      "only showing top 20 rows\n",
      "\n"
     ]
    }
   ],
   "source": [
    "# emp_df.withColumn('First_name', split(col('Employee Name'),', ').getItem(0)).\\\n",
    "# withColumn('Last_name', split(col('Employee Name'),', ').getItem(1)).\\\n",
    "# withColumn('new_pay_rate', col('Pay Rate')*1.1 ).\\\n",
    "# select('First_name','Last_name','new_pay_rate','Department').show()\n",
    "\n",
    "spark.sql('''\n",
    "select \n",
    "split(`Employee Name` , ', ')[0] as first_name,\n",
    "split(`Employee Name` , ', ')[1] as last_name,\n",
    "`Pay Rate` * 1.1 as new_pay_rate,\n",
    "Department\n",
    "from emp_tbl\n",
    "''').show()"
   ]
  },
  {
   "cell_type": "code",
   "execution_count": 90,
   "id": "ed112f82-bb22-4644-b0b3-929dd7dfabb8",
   "metadata": {},
   "outputs": [
    {
     "name": "stdout",
     "output_type": "stream",
     "text": [
      "CREATE TABLE emp_db.employee (\n",
      "  emp_id INT NOT NULL,\n",
      "  name STRING,\n",
      "  dept STRING,\n",
      "  salary DOUBLE)\n",
      "USING text\n",
      "TBLPROPERTIES (\n",
      "  'transient_lastDdlTime' = '1703262655')\n",
      "\n"
     ]
    }
   ],
   "source": [
    "ddl = spark.sql('show create table emp_db.employee').first()['createtab_stmt']\n",
    "print(ddl)"
   ]
  },
  {
   "cell_type": "code",
   "execution_count": 101,
   "id": "9525bac0-9a0c-4e93-9be6-ad2a9d6ee296",
   "metadata": {},
   "outputs": [],
   "source": [
    "df = spark.table('emp_db.employee').withColumn('hike', lit(None).cast('double'))\n",
    "\n",
    "df.write.mode('overwrite').option('overwriteSchema','true').saveAsTable('emp_db.employee2')"
   ]
  },
  {
   "cell_type": "code",
   "execution_count": null,
   "id": "8d5450d1-ec08-4fc0-a49d-94be86a1a8df",
   "metadata": {},
   "outputs": [],
   "source": []
  }
 ],
 "metadata": {
  "kernelspec": {
   "display_name": "Python 3 (ipykernel)",
   "language": "python",
   "name": "python3"
  },
  "language_info": {
   "codemirror_mode": {
    "name": "ipython",
    "version": 3
   },
   "file_extension": ".py",
   "mimetype": "text/x-python",
   "name": "python",
   "nbconvert_exporter": "python",
   "pygments_lexer": "ipython3",
   "version": "3.11.6"
  }
 },
 "nbformat": 4,
 "nbformat_minor": 5
}
